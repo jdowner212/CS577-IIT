{
  "nbformat": 4,
  "nbformat_minor": 0,
  "metadata": {
    "colab": {
      "name": "hw0.ipynb",
      "provenance": [],
      "collapsed_sections": []
    },
    "kernelspec": {
      "name": "python3",
      "display_name": "Python 3"
    },
    "language_info": {
      "name": "python"
    }
  },
  "cells": [
    {
      "cell_type": "markdown",
      "source": [
        "Jane Downer<br>\n",
        "A20452471<br>\n",
        "CS 577 - 02<br>\n",
        "Fall 2022<br>"
      ],
      "metadata": {
        "id": "k3NWcZZypILs"
      }
    },
    {
      "cell_type": "markdown",
      "source": [
        "# Homework 0"
      ],
      "metadata": {
        "id": "RVnrhl1GsJlh"
      }
    },
    {
      "cell_type": "code",
      "source": [
        "import numpy as np\n",
        "import math"
      ],
      "metadata": {
        "id": "tW3U9ZH-Pyra"
      },
      "execution_count": 1,
      "outputs": []
    },
    {
      "cell_type": "markdown",
      "source": [
        "# A."
      ],
      "metadata": {
        "id": "inTxuYbKQdXJ"
      }
    },
    {
      "cell_type": "code",
      "source": [
        "a = np.matrix([[1],\n",
        "               [2],\n",
        "               [3]])\n",
        "\n",
        "b = np.matrix([[4],\n",
        "               [5],\n",
        "               [6]])\n",
        "\n",
        "c = np.matrix([[-1],\n",
        "               [ 1],\n",
        "               [ 3]])\n",
        "\n",
        "\n",
        "## other definitions\n",
        "\n",
        "i = np.matrix([[1],\n",
        "               [0],\n",
        "               [0]])\n",
        "j = np.matrix([[0],\n",
        "               [1],\n",
        "               [0]])\n",
        "k = np.matrix([[0],\n",
        "               [0],\n",
        "               [1]])\n",
        "\n",
        "print(f'a:\\n{a}')\n",
        "print(f'b:\\n{b}')\n",
        "print(f'c:\\n{c}')"
      ],
      "metadata": {
        "colab": {
          "base_uri": "https://localhost:8080/"
        },
        "id": "BUvdu-aSQp86",
        "outputId": "d60c902c-d084-439a-d7e3-66242f660c7d"
      },
      "execution_count": 2,
      "outputs": [
        {
          "output_type": "stream",
          "name": "stdout",
          "text": [
            "a:\n",
            "[[1]\n",
            " [2]\n",
            " [3]]\n",
            "b:\n",
            "[[4]\n",
            " [5]\n",
            " [6]]\n",
            "c:\n",
            "[[-1]\n",
            " [ 1]\n",
            " [ 3]]\n"
          ]
        }
      ]
    },
    {
      "cell_type": "markdown",
      "source": [
        "####1. ${2a-b}$"
      ],
      "metadata": {
        "id": "0HJiSuBhQh8c"
      }
    },
    {
      "cell_type": "code",
      "source": [
        "2*a - b"
      ],
      "metadata": {
        "colab": {
          "base_uri": "https://localhost:8080/"
        },
        "id": "uusdZvJBQAlo",
        "outputId": "0c67c096-50bd-40b7-ef79-4fd68dede8dc"
      },
      "execution_count": 3,
      "outputs": [
        {
          "output_type": "execute_result",
          "data": {
            "text/plain": [
              "matrix([[-2],\n",
              "        [-1],\n",
              "        [ 0]])"
            ]
          },
          "metadata": {},
          "execution_count": 3
        }
      ]
    },
    {
      "cell_type": "markdown",
      "source": [
        "####2. $\\hat{a}$"
      ],
      "metadata": {
        "id": "kDPr6lq4RgRe"
      }
    },
    {
      "cell_type": "code",
      "source": [
        "def mag(array):\n",
        "    sum_squared = np.sum(np.square(array))\n",
        "    magnitude = np.sqrt(sum_squared)\n",
        "    return magnitude\n",
        "\n",
        "def unit(array):\n",
        "    u = array * (1/mag(array))\n",
        "    return u\n",
        "    \n",
        "unit(a)"
      ],
      "metadata": {
        "colab": {
          "base_uri": "https://localhost:8080/"
        },
        "id": "b6u0ZbEZRe9g",
        "outputId": "815626b5-9053-468d-c86f-890e951d549a"
      },
      "execution_count": 4,
      "outputs": [
        {
          "output_type": "execute_result",
          "data": {
            "text/plain": [
              "matrix([[0.26726124],\n",
              "        [0.53452248],\n",
              "        [0.80178373]])"
            ]
          },
          "metadata": {},
          "execution_count": 4
        }
      ]
    },
    {
      "cell_type": "markdown",
      "source": [
        "####3. $||a||$ and angle of $a$ with respect to $x$-axis"
      ],
      "metadata": {
        "id": "3m9qQZTMRlBG"
      }
    },
    {
      "cell_type": "code",
      "source": [
        "def dot(v1, v2):\n",
        "    v1 = v1 if v1.shape[0] == 1 else v1.reshape(1,-1) # column to row\n",
        "    v2 = v2 if v2.shape[1] == 1 else v2.reshape(-1,1) # row to column\n",
        "    dot_product = (v1*v2).item()\n",
        "    return dot_product\n",
        "\n",
        "def cos_theta(v1,v2):\n",
        "    dot_product = dot(v1,v2)\n",
        "    denominator = mag(v1)*mag(v2)\n",
        "    return dot_product/denominator\n",
        "\n",
        "def angle_between(v1,v2):\n",
        "    cosine_theta = cos_theta(v1,v2)\n",
        "    radians = round(np.arccos(cosine_theta),3)\n",
        "    return radians\n",
        "\n",
        "def to_degrees(angle):\n",
        "    degrees = 180*angle/(np.pi)\n",
        "    degrees = degrees % 360\n",
        "    return round(degrees, 3)\n",
        "\n",
        "radians = angle_between(a,i)\n",
        "print(f'Angle between a and x-axis is {radians} in radians and {to_degrees(radians)} in degrees.')"
      ],
      "metadata": {
        "colab": {
          "base_uri": "https://localhost:8080/"
        },
        "id": "G_lApDObY7HH",
        "outputId": "d9cbd919-fe88-4af7-89e7-58b12667c5f5"
      },
      "execution_count": 5,
      "outputs": [
        {
          "output_type": "stream",
          "name": "stdout",
          "text": [
            "Angle between a and x-axis is 1.3 in radians and 74.485 in degrees.\n"
          ]
        }
      ]
    },
    {
      "cell_type": "markdown",
      "source": [
        "####4. direction cosines:  $\\theta_\\hat{i}$, $\\theta_\\hat{j}$, $\\theta_\\hat{k}$, "
      ],
      "metadata": {
        "id": "AhoTE34GRl5v"
      }
    },
    {
      "cell_type": "code",
      "source": [
        "theta_i = angle_between(a,i)\n",
        "theta_j = angle_between(a,j)\n",
        "theta_k = angle_between(a,k)\n",
        "\n",
        "print(f'theta_i: {theta_i} radians,'.ljust(25) + f'{to_degrees(theta_i)} degrees')\n",
        "print(f'theta_j: {theta_j} radians,'.ljust(25) + f'{to_degrees(theta_j)} degrees')\n",
        "print(f'theta_k: {theta_k} radians,'.ljust(25) + f'{to_degrees(theta_k)} degrees')\n"
      ],
      "metadata": {
        "colab": {
          "base_uri": "https://localhost:8080/"
        },
        "id": "QShVUjL6WV-k",
        "outputId": "9e1bcac6-dcb0-4cca-e36b-4780ca289ec4"
      },
      "execution_count": 6,
      "outputs": [
        {
          "output_type": "stream",
          "name": "stdout",
          "text": [
            "theta_i: 1.3 radians,    74.485 degrees\n",
            "theta_j: 1.007 radians,  57.697 degrees\n",
            "theta_k: 0.641 radians,  36.727 degrees\n"
          ]
        }
      ]
    },
    {
      "cell_type": "markdown",
      "source": [
        "####5. angle between $a$ and $b$"
      ],
      "metadata": {
        "id": "4Ov2p0sMRm0n"
      }
    },
    {
      "cell_type": "code",
      "source": [
        "radians = angle_between(a,b)\n",
        "print(f'{radians} radians, {to_degrees(radians)} degrees')"
      ],
      "metadata": {
        "colab": {
          "base_uri": "https://localhost:8080/"
        },
        "id": "qsJsWdrvRnLE",
        "outputId": "c4beb134-b3c3-4f64-868a-4f733988b8e5"
      },
      "execution_count": 7,
      "outputs": [
        {
          "output_type": "stream",
          "name": "stdout",
          "text": [
            "0.226 radians, 12.949 degrees\n"
          ]
        }
      ]
    },
    {
      "cell_type": "markdown",
      "source": [
        "####6. $a\\cdot b$ and $b\\cdot a$"
      ],
      "metadata": {
        "id": "O_m5iUzRRnl0"
      }
    },
    {
      "cell_type": "code",
      "source": [
        "a_dot_b = dot(a,b)\n",
        "b_dot_a = dot(b,a)\n",
        "\n",
        "print(f'a dot b: {a_dot_b}')\n",
        "print(f'b dot a: {b_dot_a}')"
      ],
      "metadata": {
        "colab": {
          "base_uri": "https://localhost:8080/"
        },
        "id": "N2B698vhRn1G",
        "outputId": "ffaeddb0-9781-4c21-bff1-57974bddc968"
      },
      "execution_count": 8,
      "outputs": [
        {
          "output_type": "stream",
          "name": "stdout",
          "text": [
            "a dot b: 32\n",
            "b dot a: 32\n"
          ]
        }
      ]
    },
    {
      "cell_type": "markdown",
      "source": [
        "####7. $a \\cdot b$ using the angle between a and b"
      ],
      "metadata": {
        "id": "6Q6_KXgeRsVV"
      }
    },
    {
      "cell_type": "code",
      "source": [
        "a_dot_b_2 = mag(a) * mag(b) * cos_theta(a,b)\n",
        "print(f'a dot b: {a_dot_b_2}')"
      ],
      "metadata": {
        "colab": {
          "base_uri": "https://localhost:8080/"
        },
        "id": "dXKbkUpSRsmB",
        "outputId": "1992a3ed-7f69-4ba8-ef65-e6f140b8c2e8"
      },
      "execution_count": 9,
      "outputs": [
        {
          "output_type": "stream",
          "name": "stdout",
          "text": [
            "a dot b: 32.0\n"
          ]
        }
      ]
    },
    {
      "cell_type": "markdown",
      "source": [
        "####8. scalar projection of $b$ onto $a$"
      ],
      "metadata": {
        "id": "8fjy93GicYVe"
      }
    },
    {
      "cell_type": "code",
      "source": [
        "def scalar_project_v1_onto_v2(v1,v2):\n",
        "    return round(mag(v1) * cos_theta(v1,v2),3)\n",
        "\n",
        "project_b_onto_a = scalar_project_v1_onto_v2(b,a)\n",
        "print(f'{project_b_onto_a} radians,  {to_degrees(project_b_onto_a)} degrees')"
      ],
      "metadata": {
        "colab": {
          "base_uri": "https://localhost:8080/"
        },
        "id": "nAEQ3HR3cX1O",
        "outputId": "0981f665-ca68-4d87-863b-af5a19084918"
      },
      "execution_count": 10,
      "outputs": [
        {
          "output_type": "stream",
          "name": "stdout",
          "text": [
            "8.552 radians,  129.994 degrees\n"
          ]
        }
      ]
    },
    {
      "cell_type": "markdown",
      "source": [
        "####9. Vector which is perpendicular to $a$"
      ],
      "metadata": {
        "id": "gZZFmaBKcYoU"
      }
    },
    {
      "cell_type": "code",
      "source": [
        "def cross_product(a,b):\n",
        "    a = np.array(a) if a.shape[0] == 1 else np.array(a.reshape(-1))\n",
        "    b = np.array(b) if b.shape[0] == 1 else np.array(b.reshape(-1))\n",
        "\n",
        "    [a1,a2,a3] = a[0]\n",
        "    [b1,b2,b3] = b[0]\n",
        "\n",
        "    size_a = a.shape[0]*a.shape[1]\n",
        "    size_b = b.shape[0]*b.shape[1]\n",
        "\n",
        "    assert size_a == size_b\n",
        "    if size_a == 2:\n",
        "        ret = a1*b2 - a2*b1\n",
        "    elif size_a == 3:\n",
        "        ret = i*(a2*b3-a3*b2) - j*(a1*b3-a3*b1) + k*(a1*b2-a2*b1)\n",
        "    return ret\n",
        "\n",
        "print(f'One such vector is the cross product of a and b:\\n {cross_product(a,b)}')"
      ],
      "metadata": {
        "colab": {
          "base_uri": "https://localhost:8080/"
        },
        "id": "1xy2-BlBBTJn",
        "outputId": "b526dde1-4220-4683-8224-1a4854dae074"
      },
      "execution_count": 11,
      "outputs": [
        {
          "output_type": "stream",
          "name": "stdout",
          "text": [
            "One such vector is the cross product of a and b:\n",
            " [[-3]\n",
            " [ 6]\n",
            " [-3]]\n"
          ]
        }
      ]
    },
    {
      "cell_type": "markdown",
      "source": [
        "####10. $a \\times b$ and $b \\times a$"
      ],
      "metadata": {
        "id": "PTh3VozvcY7X"
      }
    },
    {
      "cell_type": "code",
      "source": [
        "print(f'a x b:\\n{cross_product(a,b)}\\n\\nb x a:\\n{cross_product(b,a)}')"
      ],
      "metadata": {
        "colab": {
          "base_uri": "https://localhost:8080/"
        },
        "id": "ISxlBQkDeWW3",
        "outputId": "b9013515-13e9-4b35-e0db-9700ba59185a"
      },
      "execution_count": 12,
      "outputs": [
        {
          "output_type": "stream",
          "name": "stdout",
          "text": [
            "a x b:\n",
            "[[-3]\n",
            " [ 6]\n",
            " [-3]]\n",
            "\n",
            "b x a:\n",
            "[[ 3]\n",
            " [-6]\n",
            " [ 3]]\n"
          ]
        }
      ]
    },
    {
      "cell_type": "markdown",
      "source": [
        "####11. A vector which is perpendicular to both $a$ and $b$"
      ],
      "metadata": {
        "id": "IgkoKgw3cZNe"
      }
    },
    {
      "cell_type": "code",
      "source": [
        "# The cross product of two vectors is perpendicular to both original vectors\n",
        "# You can confirm that two vectors are perpendicular if their dot product is 0\n",
        "\n",
        "assert dot(a, cross_product(a,b)) == 0\n",
        "assert dot(b, cross_product(a,b)) == 0\n",
        "assert dot(a, cross_product(b,a)) == 0\n",
        "assert dot(b, cross_product(b,a)) == 0\n",
        "\n",
        "print('Both axb and bxa are perpendicular to both a and b, by definition of cross products.')"
      ],
      "metadata": {
        "colab": {
          "base_uri": "https://localhost:8080/"
        },
        "id": "EVE7PvS9cRZe",
        "outputId": "2bfc2d26-f14f-4820-cec2-3977f5c66bf6"
      },
      "execution_count": 13,
      "outputs": [
        {
          "output_type": "stream",
          "name": "stdout",
          "text": [
            "Both axb and bxa are perpendicular to both a and b, by definition of cross products.\n"
          ]
        }
      ]
    },
    {
      "cell_type": "markdown",
      "source": [
        "####12. The linear dependency between a, b, and c"
      ],
      "metadata": {
        "id": "tXnRM_TkgMVl"
      }
    },
    {
      "cell_type": "code",
      "source": [
        "import sympy\n",
        "\n",
        "\n",
        "M = np.zeros((3,3))\n",
        "M[:,0] = np.array(a.reshape(1,-1))\n",
        "M[:,1] = np.array(b.reshape(1,-1))\n",
        "M[:,2] = np.array(c.reshape(1,-1))\n",
        "\n",
        "M = sympy.Matrix(M)\n",
        "\n",
        "print('reduced row echelon form of matrix with columns a, b, c:\\n')\n",
        "display(M.rref()[0])\n",
        "print(f'\\nlinearly dependent rows: {M.rref()[1]}')\n",
        "print()\n",
        "print('The above matrix shows that vectors a, b, and c have the following relationship:')\n",
        "print('-3a + b + c = 0')"
      ],
      "metadata": {
        "colab": {
          "base_uri": "https://localhost:8080/",
          "height": 203
        },
        "id": "CsjOErE1gKkB",
        "outputId": "125f18bf-e47c-41ec-8018-c861f4f9670b"
      },
      "execution_count": 14,
      "outputs": [
        {
          "output_type": "stream",
          "name": "stdout",
          "text": [
            "reduced row echelon form of matrix with columns a, b, c:\n",
            "\n"
          ]
        },
        {
          "output_type": "display_data",
          "data": {
            "text/plain": [
              "Matrix([\n",
              "[1, 0,  3.0],\n",
              "[0, 1, -1.0],\n",
              "[0, 0,    0]])"
            ],
            "text/latex": "$\\displaystyle \\left[\\begin{matrix}1 & 0 & 3.0\\\\0 & 1 & -1.0\\\\0 & 0 & 0\\end{matrix}\\right]$"
          },
          "metadata": {}
        },
        {
          "output_type": "stream",
          "name": "stdout",
          "text": [
            "\n",
            "linearly dependent rows: (0, 1)\n",
            "\n",
            "The above matrix shows that vectors a, b, and c have the following relationship:\n",
            "-3a + b + c = 0\n"
          ]
        }
      ]
    },
    {
      "cell_type": "markdown",
      "source": [
        "####13. $a^Tb$ and $b^Ta$"
      ],
      "metadata": {
        "id": "jDs71oFBkavc"
      }
    },
    {
      "cell_type": "code",
      "source": [
        "def aTb(a,b):\n",
        "    assert a.shape == b.shape\n",
        "    aT = a.reshape(1,-1) if a.shape[0] > 1 else a\n",
        "    aT = np.array(aT)\n",
        "    b  = b.reshape(-1,1) if b.shape[1] > 1 else b\n",
        "    return aT*b\n",
        "\n",
        "def abT(a,b):\n",
        "    assert a.shape == b.shape\n",
        "    bT = b.reshape(1,-1) if b.shape[0] > 1 else b\n",
        "    bT = np.array(bT)\n",
        "    a  = b.reshape(-1,1) if a.shape[1] > 1 else a\n",
        "    return a*bT\n",
        "\n",
        "print(f'a*Tb:\\n{aTb(a,b)}\\n')\n",
        "print(f'a*bT:\\n{abT(a,b)}')"
      ],
      "metadata": {
        "colab": {
          "base_uri": "https://localhost:8080/"
        },
        "id": "jSMqGEZrl1-1",
        "outputId": "d8bc0c78-cfc7-4710-e159-b3e6413a6d78"
      },
      "execution_count": 15,
      "outputs": [
        {
          "output_type": "stream",
          "name": "stdout",
          "text": [
            "a*Tb:\n",
            "[[32]]\n",
            "\n",
            "a*bT:\n",
            "[[ 4  5  6]\n",
            " [ 8 10 12]\n",
            " [12 15 18]]\n"
          ]
        }
      ]
    },
    {
      "cell_type": "markdown",
      "source": [
        "#B."
      ],
      "metadata": {
        "id": "A1OT8-gzoxDi"
      }
    },
    {
      "cell_type": "code",
      "source": [
        "A = np.array([[1,2,3],[4,-2,3],[0,5,-1]])\n",
        "B = np.array([[1,2,1],[2,1,-4],[3,-2,1]])\n",
        "C = np.array([[1,2,3],[4,5,6],[-1,1,3]])\n",
        "d = np.array([[1],[2],[3]])\n",
        "\n",
        "print('A:\\n', A)\n",
        "print('B:\\n', B)\n",
        "print('C:\\n', C)\n",
        "print('d:\\n', d)"
      ],
      "metadata": {
        "id": "ubhauiPawFxF",
        "colab": {
          "base_uri": "https://localhost:8080/"
        },
        "outputId": "53b31e00-af37-4cfd-eff8-492480a807d7"
      },
      "execution_count": 16,
      "outputs": [
        {
          "output_type": "stream",
          "name": "stdout",
          "text": [
            "A:\n",
            " [[ 1  2  3]\n",
            " [ 4 -2  3]\n",
            " [ 0  5 -1]]\n",
            "B:\n",
            " [[ 1  2  1]\n",
            " [ 2  1 -4]\n",
            " [ 3 -2  1]]\n",
            "C:\n",
            " [[ 1  2  3]\n",
            " [ 4  5  6]\n",
            " [-1  1  3]]\n",
            "d:\n",
            " [[1]\n",
            " [2]\n",
            " [3]]\n"
          ]
        }
      ]
    },
    {
      "cell_type": "markdown",
      "source": [
        "####1. $2A - B$"
      ],
      "metadata": {
        "id": "hbwaDJ5-pxo7"
      }
    },
    {
      "cell_type": "code",
      "source": [
        "2*A - B"
      ],
      "metadata": {
        "colab": {
          "base_uri": "https://localhost:8080/"
        },
        "id": "TpU9w0Sil3k3",
        "outputId": "4a78abd0-a8a8-4d0f-f87a-87ce8ccab0b6"
      },
      "execution_count": 17,
      "outputs": [
        {
          "output_type": "execute_result",
          "data": {
            "text/plain": [
              "array([[ 1,  2,  5],\n",
              "       [ 6, -5, 10],\n",
              "       [-3, 12, -3]])"
            ]
          },
          "metadata": {},
          "execution_count": 17
        }
      ]
    },
    {
      "cell_type": "markdown",
      "source": [
        "####2. $AB$ and $BA$"
      ],
      "metadata": {
        "id": "DGhP_V9ip4H_"
      }
    },
    {
      "cell_type": "code",
      "source": [
        "AB, BA = np.matmul(A,B), np.matmul(B,A)\n",
        "\n",
        "print(f'AB:\\n{AB}')\n",
        "print(f'BA:\\n{BA}')"
      ],
      "metadata": {
        "colab": {
          "base_uri": "https://localhost:8080/"
        },
        "id": "LUNEydp5wgH2",
        "outputId": "2ba25fc9-79ed-4fec-bc0b-d6372a410bb2"
      },
      "execution_count": 18,
      "outputs": [
        {
          "output_type": "stream",
          "name": "stdout",
          "text": [
            "AB:\n",
            "[[ 14  -2  -4]\n",
            " [  9   0  15]\n",
            " [  7   7 -21]]\n",
            "BA:\n",
            "[[  9   3   8]\n",
            " [  6 -18  13]\n",
            " [ -5  15   2]]\n"
          ]
        }
      ]
    },
    {
      "cell_type": "markdown",
      "source": [
        "####3. $(AB)^T$ and $B^TA^T$"
      ],
      "metadata": {
        "id": "pRdjyDohp4VI"
      }
    },
    {
      "cell_type": "code",
      "source": [
        "AB_T = np.transpose(AB)\n",
        "B_T_A_T = np.matmul(np.transpose(B), np.transpose(A))\n",
        "print(f'(AB).T:\\n{AB_T}\\n')\n",
        "print(f'(B.T * A.T):\\n{B_T_A_T}')"
      ],
      "metadata": {
        "colab": {
          "base_uri": "https://localhost:8080/"
        },
        "id": "qd5yDwNswnPu",
        "outputId": "9cd0dae9-03ed-4b34-bfa1-255951deeb9e"
      },
      "execution_count": 19,
      "outputs": [
        {
          "output_type": "stream",
          "name": "stdout",
          "text": [
            "(AB).T:\n",
            "[[ 14   9   7]\n",
            " [ -2   0   7]\n",
            " [ -4  15 -21]]\n",
            "\n",
            "(B.T * A.T):\n",
            "[[ 14   9   7]\n",
            " [ -2   0   7]\n",
            " [ -4  15 -21]]\n"
          ]
        }
      ]
    },
    {
      "cell_type": "markdown",
      "source": [
        "####4. $|A|$ and $|C|$"
      ],
      "metadata": {
        "id": "tc866rTtp4aq"
      }
    },
    {
      "cell_type": "code",
      "source": [
        "def det_3(M):\n",
        "    a1, a2, a3 = M[0,0].item(), M[0,1].item(), M[0,2].item()\n",
        "    b1, b2, b3 = M[1,0].item(), M[1,1].item(), M[1,2].item()\n",
        "    c1, c2, c3 = M[2,0].item(), M[2,1].item(), M[2,2].item()\n",
        "    term1 = a1*(b2*c3 - b3*c2)\n",
        "    term2 = a2*(b1*c3 - b3*c1)\n",
        "    term3 = a3*(b1*c2 - b2*c1)\n",
        "    return term1 - term2 + term3\n",
        "\n",
        "\n",
        "print(f\"|A|: {det_3(A)}\")\n",
        "print(f\"|C|: {det_3(C)}\")"
      ],
      "metadata": {
        "colab": {
          "base_uri": "https://localhost:8080/"
        },
        "id": "jsPDgUNNyzjR",
        "outputId": "04794b6f-81c9-4dc7-b971-89ff43cd8440"
      },
      "execution_count": 20,
      "outputs": [
        {
          "output_type": "stream",
          "name": "stdout",
          "text": [
            "|A|: 55\n",
            "|C|: 0\n"
          ]
        }
      ]
    },
    {
      "cell_type": "markdown",
      "source": [
        "####5. The matrix ($A$, $B$, or $C$) in which the row vectors form an orthogonal set"
      ],
      "metadata": {
        "id": "Hocz86cIp4d4"
      }
    },
    {
      "cell_type": "code",
      "source": [
        "A1, A2, A3 = A[0,:], A[1,:], A[2,:]\n",
        "B1, B2, B3 = B[0,:], B[1,:], B[2,:]\n",
        "C1, C2, C3 = C[0,:], C[1,:], C[2,:]\n",
        "\n",
        "A_orth = np.dot(A1, A2) == 0 and np.dot(A1, A3) == 0 and np.dot(A2, A3) == 0\n",
        "B_orth = np.dot(B1, B2) == 0 and np.dot(B1, B3) == 0 and np.dot(B2, B3) == 0\n",
        "C_orth = np.dot(C1, C2) == 0 and np.dot(C1, C3) == 0 and np.dot(C2, C3) == 0\n",
        "\n",
        "print(f'A\\'s rows form an orthogonal set: {A_orth}')\n",
        "print(f'B\\'s rows form an orthogonal set: {B_orth}')\n",
        "print(f'C\\'s rows form an orthogonal set: {C_orth}')"
      ],
      "metadata": {
        "colab": {
          "base_uri": "https://localhost:8080/"
        },
        "id": "2UhWPbe30m5I",
        "outputId": "c864e2a7-a78f-41a7-eee5-26384926925b"
      },
      "execution_count": 21,
      "outputs": [
        {
          "output_type": "stream",
          "name": "stdout",
          "text": [
            "A's rows form an orthogonal set: False\n",
            "B's rows form an orthogonal set: True\n",
            "C's rows form an orthogonal set: False\n"
          ]
        }
      ]
    },
    {
      "cell_type": "markdown",
      "source": [
        "####6. $A^{-1}$ and $B^{-1}$"
      ],
      "metadata": {
        "id": "QmltGmxMp4gS"
      }
    },
    {
      "cell_type": "code",
      "source": [
        "A_inv = np.linalg.inv(A)\n",
        "B_inv = np.linalg.inv(B)\n",
        "\n",
        "print(f'A_inv:\\n{A_inv}')\n",
        "print(f'B_inv:\\n{B_inv}')"
      ],
      "metadata": {
        "colab": {
          "base_uri": "https://localhost:8080/"
        },
        "id": "yWus57Ma33kW",
        "outputId": "91b7a594-0180-4f04-cf2a-b546de9190a6"
      },
      "execution_count": 22,
      "outputs": [
        {
          "output_type": "stream",
          "name": "stdout",
          "text": [
            "A_inv:\n",
            "[[-0.23636364  0.30909091  0.21818182]\n",
            " [ 0.07272727 -0.01818182  0.16363636]\n",
            " [ 0.36363636 -0.09090909 -0.18181818]]\n",
            "B_inv:\n",
            "[[ 0.16666667  0.0952381   0.21428571]\n",
            " [ 0.33333333  0.04761905 -0.14285714]\n",
            " [ 0.16666667 -0.19047619  0.07142857]]\n"
          ]
        }
      ]
    },
    {
      "cell_type": "markdown",
      "source": [
        "####7. $C^{-1}$"
      ],
      "metadata": {
        "id": "RKypjBGYp4in"
      }
    },
    {
      "cell_type": "code",
      "source": [
        "try:\n",
        "    C_inv = np.linalg.inv(C)\n",
        "    print(f'C_inv:\\n{C_inv}')\n",
        "except:\n",
        "    print('C_inv is undefined')"
      ],
      "metadata": {
        "colab": {
          "base_uri": "https://localhost:8080/"
        },
        "id": "aTCD0mIY74W0",
        "outputId": "42870eba-6c77-4e8a-bbfd-f945bfc8edfb"
      },
      "execution_count": 23,
      "outputs": [
        {
          "output_type": "stream",
          "name": "stdout",
          "text": [
            "C_inv is undefined\n"
          ]
        }
      ]
    },
    {
      "cell_type": "markdown",
      "source": [
        "####8. $Ad$"
      ],
      "metadata": {
        "id": "mRRi7A4np4k3"
      }
    },
    {
      "cell_type": "code",
      "source": [
        "np.matmul(A,d)"
      ],
      "metadata": {
        "colab": {
          "base_uri": "https://localhost:8080/"
        },
        "id": "_vPEW3XG9Ax2",
        "outputId": "2666f4c7-ff88-48e7-c364-7847e97fb0d4"
      },
      "execution_count": 24,
      "outputs": [
        {
          "output_type": "execute_result",
          "data": {
            "text/plain": [
              "array([[14],\n",
              "       [ 9],\n",
              "       [ 7]])"
            ]
          },
          "metadata": {},
          "execution_count": 24
        }
      ]
    },
    {
      "cell_type": "markdown",
      "source": [
        "####9. Scalar projection of rows of $A$ onto vector $d$ with normalizing $d$\n"
      ],
      "metadata": {
        "id": "p08u2fmUp4nB"
      }
    },
    {
      "cell_type": "code",
      "source": [
        "row1_proj = scalar_project_v1_onto_v2(np.matrix(A1),np.matrix(d))\n",
        "row2_proj = scalar_project_v1_onto_v2(np.matrix(A2),np.matrix(d))\n",
        "row3_proj = scalar_project_v1_onto_v2(np.matrix(A3),np.matrix(d))\n",
        "\n",
        "print(f'row 1 projection:\\n{row1_proj}')\n",
        "print(f'row 2 projection:\\n{row2_proj}')\n",
        "print(f'row 3 projection:\\n{row3_proj}')"
      ],
      "metadata": {
        "colab": {
          "base_uri": "https://localhost:8080/"
        },
        "id": "g-rBeCHO9EDG",
        "outputId": "4d71c3e1-7188-4006-d9a6-e153d9ff1a3a"
      },
      "execution_count": 25,
      "outputs": [
        {
          "output_type": "stream",
          "name": "stdout",
          "text": [
            "row 1 projection:\n",
            "3.742\n",
            "row 2 projection:\n",
            "2.405\n",
            "row 3 projection:\n",
            "1.871\n"
          ]
        }
      ]
    },
    {
      "cell_type": "markdown",
      "source": [
        "####10. Vector projection of rows of $A$ onto vector $d$ without normalizing $d$\n"
      ],
      "metadata": {
        "id": "8MwIrgw1WwfQ"
      }
    },
    {
      "cell_type": "code",
      "source": [
        "def vector_project_v1_onto_v2(v1,v2):\n",
        "    scalar_projection = scalar_project_v1_onto_v2(v1,v2)\n",
        "    unit_vector = unit(v2)\n",
        "    vector_projection = np.round(unit_vector*scalar_projection,3)\n",
        "    return vector_projection"
      ],
      "metadata": {
        "id": "_l-o-qoBYEiJ"
      },
      "execution_count": 26,
      "outputs": []
    },
    {
      "cell_type": "code",
      "source": [
        "proj_d_a1 = vector_project_v1_onto_v2(np.matrix(A1), np.matrix(d))\n",
        "proj_d_a2 = vector_project_v1_onto_v2(np.matrix(A2), np.matrix(d))\n",
        "proj_d_a3 = vector_project_v1_onto_v2(np.matrix(A3), np.matrix(d))\n",
        "\n",
        "print(f'proj_d_a1:\\n{proj_d_a1}\\n')\n",
        "print(f'proj_d_a2:\\n{proj_d_a2}\\n')\n",
        "print(f'proj_d_a3:\\n{proj_d_a3}\\n')"
      ],
      "metadata": {
        "colab": {
          "base_uri": "https://localhost:8080/"
        },
        "id": "qL1TG5sjXH9t",
        "outputId": "dbac1455-fb1b-41fa-e25b-6cc4bb9d3b0e"
      },
      "execution_count": 27,
      "outputs": [
        {
          "output_type": "stream",
          "name": "stdout",
          "text": [
            "proj_d_a1:\n",
            "[[1.]\n",
            " [2.]\n",
            " [3.]]\n",
            "\n",
            "proj_d_a2:\n",
            "[[0.643]\n",
            " [1.286]\n",
            " [1.928]]\n",
            "\n",
            "proj_d_a3:\n",
            "[[0.5]\n",
            " [1. ]\n",
            " [1.5]]\n",
            "\n"
          ]
        }
      ]
    },
    {
      "cell_type": "markdown",
      "source": [
        "####11. Linear combination of columns of $A$ using the elements of $d$"
      ],
      "metadata": {
        "id": "fDUNMBwErKMC"
      }
    },
    {
      "cell_type": "code",
      "source": [
        "(A[:,0]*d[0].item() + A[:,1]*d[1].item() + A[:,2]*d[2].item()).reshape(-1,1)"
      ],
      "metadata": {
        "colab": {
          "base_uri": "https://localhost:8080/"
        },
        "id": "1pxe4iF39qfn",
        "outputId": "727fefae-4280-47f9-9eeb-78b3567e8c8f"
      },
      "execution_count": 28,
      "outputs": [
        {
          "output_type": "execute_result",
          "data": {
            "text/plain": [
              "array([[14],\n",
              "       [ 9],\n",
              "       [ 7]])"
            ]
          },
          "metadata": {},
          "execution_count": 28
        }
      ]
    },
    {
      "cell_type": "markdown",
      "source": [
        "####12. Solution $x$ for $Bx = d$\n"
      ],
      "metadata": {
        "id": "iuU9KC-LrKPZ"
      }
    },
    {
      "cell_type": "code",
      "source": [
        "def solve_(M,v):\n",
        "    M_inv = np.linalg.inv(M)\n",
        "    M1, M2, M3 = M_inv[:,0], M_inv[:,1], M_inv[:,2]\n",
        "    v1, v2, v3 = v[0], v[1], v[2]\n",
        "    return np.round(M1*v1 + M2*v2 + M3*v3).reshape(-1,1)\n",
        "\n",
        "solve_(B,d)"
      ],
      "metadata": {
        "colab": {
          "base_uri": "https://localhost:8080/"
        },
        "id": "8-YnvQI09349",
        "outputId": "50087580-184b-4320-a891-0920ff4309bb"
      },
      "execution_count": 29,
      "outputs": [
        {
          "output_type": "execute_result",
          "data": {
            "text/plain": [
              "array([[ 1.],\n",
              "       [ 0.],\n",
              "       [-0.]])"
            ]
          },
          "metadata": {},
          "execution_count": 29
        }
      ]
    },
    {
      "cell_type": "markdown",
      "source": [
        "####13. Solution $x$ for $Cx = d$ and the reason for it\n"
      ],
      "metadata": {
        "id": "b3hlL7NHrKRu"
      }
    },
    {
      "cell_type": "code",
      "source": [
        "print('There is no solution for Cx = d because C is not invertible. We can check this by confirming that the determinant of C is 0:')\n",
        "print(det_3(C))"
      ],
      "metadata": {
        "colab": {
          "base_uri": "https://localhost:8080/"
        },
        "id": "gBx9vFwyQN6n",
        "outputId": "95d73c63-8ee0-4c9f-fdc1-d532614039ea"
      },
      "execution_count": 30,
      "outputs": [
        {
          "output_type": "stream",
          "name": "stdout",
          "text": [
            "There is no solution for Cx = d because C is not invertible. We can check this by confirming that the determinant of C is 0:\n",
            "0\n"
          ]
        }
      ]
    },
    {
      "cell_type": "markdown",
      "source": [
        "# C."
      ],
      "metadata": {
        "id": "Jpv17B9BrfRe"
      }
    },
    {
      "cell_type": "code",
      "source": [
        "D = np.matrix([[1,2],[3,2]])\n",
        "E = np.matrix([[2,-2],[-2,5]])\n",
        "F = np.matrix([[1,2],[2,4]])\n",
        "print(f'D:\\n{D}\\n')\n",
        "print(f'E:\\n{E}\\n')\n",
        "print(f'F:\\n{F}')"
      ],
      "metadata": {
        "id": "YMUMlim2R3SE",
        "colab": {
          "base_uri": "https://localhost:8080/"
        },
        "outputId": "fb59ba9c-9dac-4e4f-b94b-3f253a69214e"
      },
      "execution_count": 31,
      "outputs": [
        {
          "output_type": "stream",
          "name": "stdout",
          "text": [
            "D:\n",
            "[[1 2]\n",
            " [3 2]]\n",
            "\n",
            "E:\n",
            "[[ 2 -2]\n",
            " [-2  5]]\n",
            "\n",
            "F:\n",
            "[[1 2]\n",
            " [2 4]]\n"
          ]
        }
      ]
    },
    {
      "cell_type": "markdown",
      "source": [
        "####1. Eigenvalues and eigenvectors of $D$"
      ],
      "metadata": {
        "id": "hQvly16LroAW"
      }
    },
    {
      "cell_type": "code",
      "source": [
        "import sympy\n",
        "from sympy import symbols\n",
        "\n",
        "def eigenvalues_2(M):\n",
        "    a,b,c,d = M[0,0].item(), M[0,1].item(), M[1,0].item(), M[1,1].item()\n",
        "    v1,v2,L = sympy.symbols('v1 v2 L')\n",
        "\n",
        "    exp1 = v1*(a-L) + v2*b\n",
        "    v1 = sympy.solve(exp1, v1)[0]\n",
        "\n",
        "    exp2 = v1*c + v2*(d-L)\n",
        "    L = sympy.solve(exp2, L)\n",
        "\n",
        "    Ls = np.array(L, dtype=float)\n",
        "    return Ls[0], Ls[1]\n",
        "\n",
        "def eigenvectors(M,L):\n",
        "    M_minus_lambda = M - np.identity(M.shape[0])*L\n",
        "    v1,v2= sympy.symbols('v1,v2')\n",
        "    exp = (M_minus_lambda * np.matrix([[v1],[v2]]))[0].item()\n",
        "    v1 = sympy.solve(exp,v1)[0]\n",
        "    return np.matrix([round(v1/v2,4), round(v2/v2,4)], dtype=float).reshape(-1,1)\n"
      ],
      "metadata": {
        "id": "I_D9mE1TQM6l"
      },
      "execution_count": 32,
      "outputs": []
    },
    {
      "cell_type": "markdown",
      "source": [
        "####1. Eigenvalues and corresponding eigenvectors of $D$"
      ],
      "metadata": {
        "id": "xaCiLKcmuft6"
      }
    },
    {
      "cell_type": "code",
      "source": [
        "\n",
        "L1_d, L2_d = eigenvalues_2(D)\n",
        "v1_d, v2_d  = eigenvectors(D,L1_d),eigenvectors(D,L2_d)\n",
        "\n",
        "print(f'Eigenvalue 1: {L1_d}')\n",
        "print(f'Eigenvector 1:\\n{v1_d}')\n",
        "print(f'\\nEigenvalue 2: {L2_d}')\n",
        "print(f'Eigenvector 2:\\n{v2_d}')"
      ],
      "metadata": {
        "colab": {
          "base_uri": "https://localhost:8080/"
        },
        "id": "lT_ApZhYWBRg",
        "outputId": "31a3798c-a4a9-449d-aa11-578f77aab8e3"
      },
      "execution_count": 33,
      "outputs": [
        {
          "output_type": "stream",
          "name": "stdout",
          "text": [
            "Eigenvalue 1: -1.0\n",
            "Eigenvector 1:\n",
            "[[-1.]\n",
            " [ 1.]]\n",
            "\n",
            "Eigenvalue 2: 4.0\n",
            "Eigenvector 2:\n",
            "[[0.66670227]\n",
            " [1.        ]]\n"
          ]
        }
      ]
    },
    {
      "cell_type": "markdown",
      "source": [
        "####2. Dot product between eigenvectors of $D$"
      ],
      "metadata": {
        "id": "auV8oahrrlvu"
      }
    },
    {
      "cell_type": "code",
      "source": [
        "dot(v1_d, v2_d)"
      ],
      "metadata": {
        "colab": {
          "base_uri": "https://localhost:8080/"
        },
        "id": "eXv8pTLDiCpm",
        "outputId": "5d5bc9c3-8f33-4323-855e-0ca1bae51f26"
      },
      "execution_count": 34,
      "outputs": [
        {
          "output_type": "execute_result",
          "data": {
            "text/plain": [
              "0.3332977294921875"
            ]
          },
          "metadata": {},
          "execution_count": 34
        }
      ]
    },
    {
      "cell_type": "markdown",
      "source": [
        "####3. Dot product between eigenvectors of $E$"
      ],
      "metadata": {
        "id": "eqlFrMbHrlvv"
      }
    },
    {
      "cell_type": "code",
      "source": [
        "L1_e, L2_e = eigenvalues_2(E)\n",
        "v1_e, v2_e  = eigenvectors(E,L1_e),eigenvectors(E,L2_e)\n",
        "\n",
        "dot(v1_e, v2_e)"
      ],
      "metadata": {
        "colab": {
          "base_uri": "https://localhost:8080/"
        },
        "id": "bx7pkHMOh7Hf",
        "outputId": "f74267ee-82e9-4281-98fd-8ed7901e657a"
      },
      "execution_count": 35,
      "outputs": [
        {
          "output_type": "execute_result",
          "data": {
            "text/plain": [
              "0.0"
            ]
          },
          "metadata": {},
          "execution_count": 35
        }
      ]
    },
    {
      "cell_type": "markdown",
      "source": [
        "####4. Property of eigenvectors of $E$ and its reason"
      ],
      "metadata": {
        "id": "MXG8ROe4rlvw"
      }
    },
    {
      "cell_type": "code",
      "source": [
        "print(f'The matrix E is symmetric, which indicates that its eigenvecotrs are orthogonal.\\n\\nE:\\n{E}')"
      ],
      "metadata": {
        "colab": {
          "base_uri": "https://localhost:8080/"
        },
        "id": "lmkhaGlyia4z",
        "outputId": "0c1b840f-424d-4687-a2e3-ac8df3aa9359"
      },
      "execution_count": 36,
      "outputs": [
        {
          "output_type": "stream",
          "name": "stdout",
          "text": [
            "The matrix E is symmetric, which indicates that its eigenvecotrs are orthogonal.\n",
            "\n",
            "E:\n",
            "[[ 2 -2]\n",
            " [-2  5]]\n"
          ]
        }
      ]
    },
    {
      "cell_type": "markdown",
      "source": [
        "####5. Value of a trivial solution $x$ to the equation $Fx = 0$"
      ],
      "metadata": {
        "id": "EmsIst-_sKCA"
      }
    },
    {
      "cell_type": "code",
      "source": [
        "print('The trivial solution is x [[0],[0]]. We can prove this by showing that F * [[0],[0]] is equal to [[0],[0]].')\n",
        "print('\\nF*x:')\n",
        "np.matmul(F,np.matrix([[0],[0]],dtype=float))"
      ],
      "metadata": {
        "colab": {
          "base_uri": "https://localhost:8080/"
        },
        "id": "C7pPwyk5j4YM",
        "outputId": "facf4e41-6841-474e-f305-4ffc40745424"
      },
      "execution_count": 37,
      "outputs": [
        {
          "output_type": "stream",
          "name": "stdout",
          "text": [
            "The trivial solution is x [[0],[0]]. We can prove this by showing that F * [[0],[0]] is equal to [[0],[0]].\n",
            "\n",
            "F*x:\n"
          ]
        },
        {
          "output_type": "execute_result",
          "data": {
            "text/plain": [
              "matrix([[0.],\n",
              "        [0.]])"
            ]
          },
          "metadata": {},
          "execution_count": 37
        }
      ]
    },
    {
      "cell_type": "markdown",
      "source": [
        "####6. Value of two non-trivial solutions $x$ to the equation $Fx = 0$"
      ],
      "metadata": {
        "id": "05Ot8Mn7tvwy"
      }
    },
    {
      "cell_type": "code",
      "source": [
        "def row_dot_vars(row,v1,v2):\n",
        "    row  = row.reshape(1,-1)\n",
        "    return dot(v1,v2)\n",
        "\n",
        "print('This can be accomplished by finding eigenvectors of F.\\n')\n",
        "L1_f,  L2_f = eigenvalues_2(F)\n",
        "vs1_f, vs2_f = eigenvectors(F,L1_f), eigenvectors(F,L2_f)\n",
        "print(f'Eigenvector 1 is a multiple of:\\n{vs1_f}')\n",
        "print(f'Eigenvector 2 is a multiple of:\\n{vs2_f}')"
      ],
      "metadata": {
        "colab": {
          "base_uri": "https://localhost:8080/"
        },
        "id": "kujHh8opjlyN",
        "outputId": "bd9385eb-5042-44d1-9f01-8b8ca35782a5"
      },
      "execution_count": 38,
      "outputs": [
        {
          "output_type": "stream",
          "name": "stdout",
          "text": [
            "This can be accomplished by finding eigenvectors of F.\n",
            "\n",
            "Eigenvector 1 is a multiple of:\n",
            "[[-2.]\n",
            " [ 1.]]\n",
            "Eigenvector 2 is a multiple of:\n",
            "[[0.5]\n",
            " [1. ]]\n"
          ]
        }
      ]
    },
    {
      "cell_type": "markdown",
      "source": [
        "####7. The only solution $x$ to the equation $Dx = 0$ and the reason for having a single solution"
      ],
      "metadata": {
        "id": "2H2uY65Bt2CU"
      }
    },
    {
      "cell_type": "code",
      "source": [
        "full_rank = np.linalg.matrix_rank(D) == D.shape[0] and np.linalg.matrix_rank(D) == D.shape[1]\n",
        "if full_rank:\n",
        "    print('Dx = 0 has a unique solution because D is a full-rank matrix.')\n",
        "\n",
        "print('If ([[0],[0]] is a solution to Dx = 0, multiplying D by this vector should give ([[0],[0]):')\n",
        "print(D*np.matrix([[0],[0]]))"
      ],
      "metadata": {
        "colab": {
          "base_uri": "https://localhost:8080/"
        },
        "id": "gUxqxs7HhC2e",
        "outputId": "953646ee-990d-4940-8a12-5874ac6dfac7"
      },
      "execution_count": 39,
      "outputs": [
        {
          "output_type": "stream",
          "name": "stdout",
          "text": [
            "Dx = 0 has a unique solution because D is a full-rank matrix.\n",
            "If ([[0],[0]] is a solution to Dx = 0, multiplying D by this vector should give ([[0],[0]):\n",
            "[[0]\n",
            " [0]]\n"
          ]
        }
      ]
    },
    {
      "cell_type": "markdown",
      "source": [
        "# D."
      ],
      "metadata": {
        "id": "wtaPbxRUucrC"
      }
    },
    {
      "cell_type": "markdown",
      "source": [
        "$f(x)=x^2+3$<br>\n",
        "$g(x)=x^2$<br>\n",
        "$q(x,y)=x^2+y^2$"
      ],
      "metadata": {
        "id": "HZYKV-z3C0qC"
      }
    },
    {
      "cell_type": "markdown",
      "source": [
        "####1. 1st and 2nd derivatives of $f(x)$ with respect to $x$"
      ],
      "metadata": {
        "id": "8SGDLXBauih-"
      }
    },
    {
      "cell_type": "code",
      "source": [
        "#Chain Rule\n",
        "x,y = symbols(('x','y'))\n",
        "f = x**2\n",
        "df = f.diff(x)\n",
        "ddf = df.diff(x)\n",
        "print('f(x) = x**2')\n",
        "print(f'1st derivative: {df}')\n",
        "print(f'2nd derivative: {ddf}')"
      ],
      "metadata": {
        "colab": {
          "base_uri": "https://localhost:8080/"
        },
        "id": "3UDbWoaCDBOC",
        "outputId": "33f1f894-a207-4f18-a756-dfdabb4c1eac"
      },
      "execution_count": 40,
      "outputs": [
        {
          "output_type": "stream",
          "name": "stdout",
          "text": [
            "f(x) = x**2\n",
            "1st derivative: 2*x\n",
            "2nd derivative: 2\n"
          ]
        }
      ]
    },
    {
      "cell_type": "markdown",
      "source": [
        "####2. Partial derivatives: $\\frac{\\partial q}{\\partial x}$, $\\frac{\\partial q}{\\partial y}$"
      ],
      "metadata": {
        "id": "BiAPmPwTurGy"
      }
    },
    {
      "cell_type": "code",
      "source": [
        "q = x**2 + y**2\n",
        "dq_dx = q.diff(x)\n",
        "dq_dy = q.diff(y)\n",
        "print('q(x) = x**2 + y**2')\n",
        "print(f'dq_dx = {dq_dx}')\n",
        "print(f'dq_dy = {dq_dy}')"
      ],
      "metadata": {
        "colab": {
          "base_uri": "https://localhost:8080/"
        },
        "id": "l8Ds2xYTDx9Y",
        "outputId": "99b14414-f957-43c5-82ae-8490d2afc09c"
      },
      "execution_count": 41,
      "outputs": [
        {
          "output_type": "stream",
          "name": "stdout",
          "text": [
            "q(x) = x**2 + y**2\n",
            "dq_dx = 2*x\n",
            "dq_dy = 2*y\n"
          ]
        }
      ]
    },
    {
      "cell_type": "markdown",
      "source": [
        "####3. $\\nabla q(x,y)$"
      ],
      "metadata": {
        "id": "OK_zIDFgu5vv"
      }
    },
    {
      "cell_type": "code",
      "source": [
        "from sympy.vector import gradient, CoordSys3D\n",
        "\n",
        "R = CoordSys3D(' ')\n",
        "q = R.x**2 + R.y**2\n",
        "\n",
        "print('gradient:')\n",
        "display(gradient(q))"
      ],
      "metadata": {
        "colab": {
          "base_uri": "https://localhost:8080/",
          "height": 56
        },
        "id": "gyO5WDcIFDkE",
        "outputId": "48c7905b-5e9a-495a-9e78-ee3d2edd8479"
      },
      "execution_count": 42,
      "outputs": [
        {
          "output_type": "stream",
          "name": "stdout",
          "text": [
            "gradient:\n"
          ]
        },
        {
          "output_type": "display_data",
          "data": {
            "text/plain": [
              "2* .x* .i + 2* .y* .j"
            ],
            "text/latex": "$\\displaystyle (2 \\mathbf{{x}_{ }})\\mathbf{\\hat{i}_{ }} + (2 \\mathbf{{y}_{ }})\\mathbf{\\hat{j}_{ }}$"
          },
          "metadata": {}
        }
      ]
    },
    {
      "cell_type": "markdown",
      "source": [
        "####4. $\\frac{d}{dx} f(g(x))$"
      ],
      "metadata": {
        "id": "ftnq_jREvFij"
      }
    },
    {
      "cell_type": "code",
      "source": [
        "## With chain rule\n",
        "g = symbols('g')\n",
        "f = g**2 + 3\n",
        "df_dg = f.diff(g).subs(g,x**2)\n",
        "g = x**2\n",
        "dg_dx = g.diff(x)\n",
        "chain_rule_result = df_dg*dg_dx\n",
        "\n",
        "## Without chain rule\n",
        "del f, g\n",
        "g = x**2\n",
        "f = g**2 + 3\n",
        "no_chain_rule_result = f.diff(x)\n",
        "\n",
        "print('Using chain rule:')\n",
        "display(chain_rule_result)\n",
        "print('Without chain rule:')\n",
        "display(no_chain_rule_result)"
      ],
      "metadata": {
        "id": "GzHrTBUQsIbj",
        "colab": {
          "base_uri": "https://localhost:8080/",
          "height": 96
        },
        "outputId": "65977442-e9bc-4a3f-f3f8-ebc3990dfe5a"
      },
      "execution_count": 43,
      "outputs": [
        {
          "output_type": "stream",
          "name": "stdout",
          "text": [
            "Using chain rule:\n"
          ]
        },
        {
          "output_type": "display_data",
          "data": {
            "text/plain": [
              "4*x**3"
            ],
            "text/latex": "$\\displaystyle 4 x^{3}$"
          },
          "metadata": {}
        },
        {
          "output_type": "stream",
          "name": "stdout",
          "text": [
            "Without chain rule:\n"
          ]
        },
        {
          "output_type": "display_data",
          "data": {
            "text/plain": [
              "4*x**3"
            ],
            "text/latex": "$\\displaystyle 4 x^{3}$"
          },
          "metadata": {}
        }
      ]
    }
  ]
}