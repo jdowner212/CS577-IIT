{
  "nbformat": 4,
  "nbformat_minor": 0,
  "metadata": {
    "colab": {
      "provenance": [],
      "collapsed_sections": []
    },
    "kernelspec": {
      "name": "python3",
      "display_name": "Python 3"
    },
    "language_info": {
      "name": "python"
    },
    "accelerator": "GPU"
  },
  "cells": [
    {
      "cell_type": "code",
      "source": [
        "## Change to the path where you want to save the model, or where you want to load the model from:\n",
        "ROOT_PATH = '/content/drive/MyDrive/2022 files/CS 577/Assignments/hw1'"
      ],
      "metadata": {
        "id": "HH92Qx97A3A7"
      },
      "execution_count": 32,
      "outputs": []
    },
    {
      "cell_type": "markdown",
      "source": [
        "# Programming Questions: Q3"
      ],
      "metadata": {
        "id": "CbBgB11LpcZC"
      }
    },
    {
      "cell_type": "code",
      "execution_count": 28,
      "metadata": {
        "colab": {
          "base_uri": "https://localhost:8080/"
        },
        "id": "NquxKSTJE1e6",
        "outputId": "36383e57-a7e5-4c63-a706-b2d5f2a55a13"
      },
      "outputs": [
        {
          "output_type": "stream",
          "name": "stdout",
          "text": [
            "Drive already mounted at /content/drive; to attempt to forcibly remount, call drive.mount(\"/content/drive\", force_remount=True).\n"
          ]
        }
      ],
      "source": [
        "from google.colab import drive\n",
        "drive.mount('/content/drive')"
      ]
    },
    {
      "cell_type": "code",
      "source": [
        "import pandas as pd\n",
        "import os\n",
        "import numpy as np\n",
        "import tensorflow\n",
        "from tensorflow import convert_to_tensor as tensor\n",
        "from tensorflow.keras import optimizers\n",
        "import keras\n",
        "from keras import models, layers\n",
        "import matplotlib.pyplot as plt"
      ],
      "metadata": {
        "id": "ArygKigLFA3Y"
      },
      "execution_count": 29,
      "outputs": []
    },
    {
      "cell_type": "code",
      "source": [
        "URL = 'https://archive.ics.uci.edu/ml/machine-learning-databases/spambase/spambase.data'"
      ],
      "metadata": {
        "id": "NXdYDP_MOyWD"
      },
      "execution_count": 30,
      "outputs": []
    },
    {
      "cell_type": "markdown",
      "source": [
        "### Loading the data"
      ],
      "metadata": {
        "id": "3-eGj5f_oS6q"
      }
    },
    {
      "cell_type": "code",
      "source": [
        "def load_spam_data(data_url, split_ratio=0.8):\n",
        "    data = pd.read_csv(data_url, delim_whitespace = False, header=None)\n",
        "    data = data.sample(frac=1).reset_index(drop=True)\n",
        "    labels = data.pop(data.columns[-1])\n",
        "    n_train = int(split_ratio*len(data))\n",
        "    X_trn, X_tst = np.array(data[:n_train]), np.array(data[n_train:])\n",
        "    y_trn, y_tst = np.array(labels[:n_train]), np.array(labels[n_train:])\n",
        "    return (X_trn, y_trn), (X_tst, y_tst)"
      ],
      "metadata": {
        "id": "2mgZ2yTfGJmQ"
      },
      "execution_count": 31,
      "outputs": []
    },
    {
      "cell_type": "code",
      "source": [
        "(X_trn_no_norm, y_trn), (X_tst_no_norm, y_tst) = load_spam_data(URL)"
      ],
      "metadata": {
        "id": "Z5Aa7rRsLj_U"
      },
      "execution_count": 6,
      "outputs": []
    },
    {
      "cell_type": "markdown",
      "source": [
        "### Normalize"
      ],
      "metadata": {
        "id": "fwTE9kWUocv7"
      }
    },
    {
      "cell_type": "code",
      "source": [
        "mean_data = np.concatenate([X_trn_no_norm,X_tst_no_norm]).mean(axis=0)\n",
        "std_data = np.concatenate([X_trn_no_norm,X_tst_no_norm]).std(axis=0)\n",
        "\n",
        "X_trn = (X_trn_no_norm - mean_data)/std_data\n",
        "X_tst = (X_tst_no_norm - mean_data)/std_data"
      ],
      "metadata": {
        "id": "gUa83s-hGbGN"
      },
      "execution_count": 33,
      "outputs": []
    },
    {
      "cell_type": "markdown",
      "source": [
        "### Create a validation set"
      ],
      "metadata": {
        "id": "08O3viczofdY"
      }
    },
    {
      "cell_type": "code",
      "source": [
        "n_val = int(0.1*X_trn.shape[0])\n",
        "X_trn_subset = X_trn[n_val:]\n",
        "y_trn_subset = y_trn[n_val:]\n",
        "X_val = X_trn[:n_val]\n",
        "y_val = y_trn[:n_val]\n",
        "\n",
        "print(f'N = {X_trn_subset.shape[0] + X_tst.shape[0] + X_val.shape[0]}')\n",
        "print(f'Train values shape: {X_trn_subset.shape}')\n",
        "print(f'Test values shape:  {X_tst.shape}')\n",
        "print(f'Val values shape:   {X_val.shape}')\n",
        "print(f'Train labels shape: {y_trn_subset.shape}')\n",
        "print(f'Test labels shape:  {y_tst.shape}')\n",
        "print(f'Val labels shape:   {y_val.shape}')"
      ],
      "metadata": {
        "colab": {
          "base_uri": "https://localhost:8080/"
        },
        "id": "gZta1cMuVEs3",
        "outputId": "f31976c1-1957-449b-c30b-38e6ddaef687"
      },
      "execution_count": 8,
      "outputs": [
        {
          "output_type": "stream",
          "name": "stdout",
          "text": [
            "N = 4601\n",
            "Train values shape: (3312, 57)\n",
            "Test values shape:  (921, 57)\n",
            "Val values shape:   (368, 57)\n",
            "Train labels shape: (3312,)\n",
            "Test labels shape:  (921,)\n",
            "Val labels shape:   (368,)\n"
          ]
        }
      ]
    },
    {
      "cell_type": "markdown",
      "source": [
        "### Define optimizer, loss function, and metrics"
      ],
      "metadata": {
        "id": "EOCvcPwmomkF"
      }
    },
    {
      "cell_type": "code",
      "source": [
        "opt     = optimizers.RMSprop(learning_rate=0.01)\n",
        "loss_f  = keras.losses.binary_crossentropy\n",
        "metrics = [keras.metrics.binary_accuracy]"
      ],
      "metadata": {
        "id": "iF4geFKLV97p"
      },
      "execution_count": 34,
      "outputs": []
    },
    {
      "cell_type": "markdown",
      "source": [
        "### Create, compile, and fit model"
      ],
      "metadata": {
        "id": "wpSFSJUYopWB"
      }
    },
    {
      "cell_type": "code",
      "source": [
        "draft_model = models.Sequential()\n",
        "draft_model.add(layers.Dense(16, activation='relu', input_shape=(X_trn_subset.shape[1],)))\n",
        "draft_model.add(layers.Dense(1,  activation='sigmoid'))\n",
        "\n",
        "draft_model.compile(optimizer = opt, loss = loss_f, metrics = metrics)\n",
        "\n",
        "draft_history = draft_model.fit(X_trn_subset, \n",
        "                                y_trn_subset, \n",
        "                                epochs=50, \n",
        "                                batch_size=8, \n",
        "                                validation_data = (X_val,y_val))"
      ],
      "metadata": {
        "colab": {
          "base_uri": "https://localhost:8080/"
        },
        "id": "b8FNiEYxGbh1",
        "outputId": "174c3474-517e-4e36-d786-c083c3508d67"
      },
      "execution_count": 35,
      "outputs": [
        {
          "output_type": "stream",
          "name": "stdout",
          "text": [
            "Epoch 1/50\n",
            "414/414 [==============================] - 2s 3ms/step - loss: 0.2431 - binary_accuracy: 0.9206 - val_loss: 0.2175 - val_binary_accuracy: 0.9185\n",
            "Epoch 2/50\n",
            "414/414 [==============================] - 1s 3ms/step - loss: 0.2023 - binary_accuracy: 0.9345 - val_loss: 0.2056 - val_binary_accuracy: 0.9185\n",
            "Epoch 3/50\n",
            "414/414 [==============================] - 1s 3ms/step - loss: 0.1891 - binary_accuracy: 0.9417 - val_loss: 0.1976 - val_binary_accuracy: 0.9130\n",
            "Epoch 4/50\n",
            "414/414 [==============================] - 1s 3ms/step - loss: 0.1819 - binary_accuracy: 0.9457 - val_loss: 0.2012 - val_binary_accuracy: 0.9185\n",
            "Epoch 5/50\n",
            "414/414 [==============================] - 1s 3ms/step - loss: 0.1823 - binary_accuracy: 0.9493 - val_loss: 0.1884 - val_binary_accuracy: 0.9158\n",
            "Epoch 6/50\n",
            "414/414 [==============================] - 1s 3ms/step - loss: 0.1753 - binary_accuracy: 0.9469 - val_loss: 0.2083 - val_binary_accuracy: 0.9212\n",
            "Epoch 7/50\n",
            "414/414 [==============================] - 1s 3ms/step - loss: 0.1706 - binary_accuracy: 0.9505 - val_loss: 0.1925 - val_binary_accuracy: 0.9321\n",
            "Epoch 8/50\n",
            "414/414 [==============================] - 1s 2ms/step - loss: 0.1669 - binary_accuracy: 0.9508 - val_loss: 0.1967 - val_binary_accuracy: 0.9266\n",
            "Epoch 9/50\n",
            "414/414 [==============================] - 1s 3ms/step - loss: 0.1708 - binary_accuracy: 0.9505 - val_loss: 0.2156 - val_binary_accuracy: 0.9185\n",
            "Epoch 10/50\n",
            "414/414 [==============================] - 1s 3ms/step - loss: 0.1647 - binary_accuracy: 0.9529 - val_loss: 0.2240 - val_binary_accuracy: 0.9212\n",
            "Epoch 11/50\n",
            "414/414 [==============================] - 1s 3ms/step - loss: 0.1594 - binary_accuracy: 0.9562 - val_loss: 0.2319 - val_binary_accuracy: 0.9185\n",
            "Epoch 12/50\n",
            "414/414 [==============================] - 1s 3ms/step - loss: 0.1525 - binary_accuracy: 0.9547 - val_loss: 0.2052 - val_binary_accuracy: 0.9239\n",
            "Epoch 13/50\n",
            "414/414 [==============================] - 1s 3ms/step - loss: 0.1488 - binary_accuracy: 0.9574 - val_loss: 0.1991 - val_binary_accuracy: 0.9239\n",
            "Epoch 14/50\n",
            "414/414 [==============================] - 1s 3ms/step - loss: 0.1441 - binary_accuracy: 0.9577 - val_loss: 0.2040 - val_binary_accuracy: 0.9266\n",
            "Epoch 15/50\n",
            "414/414 [==============================] - 1s 3ms/step - loss: 0.1401 - binary_accuracy: 0.9604 - val_loss: 0.2362 - val_binary_accuracy: 0.9158\n",
            "Epoch 16/50\n",
            "414/414 [==============================] - 1s 3ms/step - loss: 0.1362 - binary_accuracy: 0.9611 - val_loss: 0.2091 - val_binary_accuracy: 0.9293\n",
            "Epoch 17/50\n",
            "414/414 [==============================] - 1s 3ms/step - loss: 0.1408 - binary_accuracy: 0.9614 - val_loss: 0.2397 - val_binary_accuracy: 0.9185\n",
            "Epoch 18/50\n",
            "414/414 [==============================] - 1s 3ms/step - loss: 0.1375 - binary_accuracy: 0.9614 - val_loss: 0.2300 - val_binary_accuracy: 0.9239\n",
            "Epoch 19/50\n",
            "414/414 [==============================] - 1s 3ms/step - loss: 0.1348 - binary_accuracy: 0.9629 - val_loss: 0.2377 - val_binary_accuracy: 0.9239\n",
            "Epoch 20/50\n",
            "414/414 [==============================] - 1s 3ms/step - loss: 0.1269 - binary_accuracy: 0.9611 - val_loss: 0.2237 - val_binary_accuracy: 0.9266\n",
            "Epoch 21/50\n",
            "414/414 [==============================] - 1s 3ms/step - loss: 0.1257 - binary_accuracy: 0.9635 - val_loss: 0.2268 - val_binary_accuracy: 0.9293\n",
            "Epoch 22/50\n",
            "414/414 [==============================] - 1s 3ms/step - loss: 0.1195 - binary_accuracy: 0.9650 - val_loss: 0.2588 - val_binary_accuracy: 0.9185\n",
            "Epoch 23/50\n",
            "414/414 [==============================] - 1s 3ms/step - loss: 0.1224 - binary_accuracy: 0.9665 - val_loss: 0.2270 - val_binary_accuracy: 0.9158\n",
            "Epoch 24/50\n",
            "414/414 [==============================] - 1s 3ms/step - loss: 0.1128 - binary_accuracy: 0.9686 - val_loss: 0.2614 - val_binary_accuracy: 0.9185\n",
            "Epoch 25/50\n",
            "414/414 [==============================] - 1s 3ms/step - loss: 0.1153 - binary_accuracy: 0.9641 - val_loss: 0.2825 - val_binary_accuracy: 0.9158\n",
            "Epoch 26/50\n",
            "414/414 [==============================] - 1s 3ms/step - loss: 0.1191 - binary_accuracy: 0.9659 - val_loss: 0.2413 - val_binary_accuracy: 0.9212\n",
            "Epoch 27/50\n",
            "414/414 [==============================] - 1s 3ms/step - loss: 0.1108 - binary_accuracy: 0.9671 - val_loss: 0.2636 - val_binary_accuracy: 0.9266\n",
            "Epoch 28/50\n",
            "414/414 [==============================] - 1s 3ms/step - loss: 0.1028 - binary_accuracy: 0.9704 - val_loss: 0.2178 - val_binary_accuracy: 0.9130\n",
            "Epoch 29/50\n",
            "414/414 [==============================] - 1s 3ms/step - loss: 0.1044 - binary_accuracy: 0.9683 - val_loss: 0.2626 - val_binary_accuracy: 0.9239\n",
            "Epoch 30/50\n",
            "414/414 [==============================] - 1s 3ms/step - loss: 0.1160 - binary_accuracy: 0.9686 - val_loss: 0.2861 - val_binary_accuracy: 0.9239\n",
            "Epoch 31/50\n",
            "414/414 [==============================] - 1s 3ms/step - loss: 0.1165 - binary_accuracy: 0.9695 - val_loss: 0.2742 - val_binary_accuracy: 0.9239\n",
            "Epoch 32/50\n",
            "414/414 [==============================] - 1s 3ms/step - loss: 0.1011 - binary_accuracy: 0.9725 - val_loss: 0.2919 - val_binary_accuracy: 0.9212\n",
            "Epoch 33/50\n",
            "414/414 [==============================] - 1s 3ms/step - loss: 0.1095 - binary_accuracy: 0.9674 - val_loss: 0.2578 - val_binary_accuracy: 0.9293\n",
            "Epoch 34/50\n",
            "414/414 [==============================] - 1s 3ms/step - loss: 0.1127 - binary_accuracy: 0.9683 - val_loss: 0.2691 - val_binary_accuracy: 0.9212\n",
            "Epoch 35/50\n",
            "414/414 [==============================] - 1s 3ms/step - loss: 0.1104 - binary_accuracy: 0.9707 - val_loss: 0.2751 - val_binary_accuracy: 0.9293\n",
            "Epoch 36/50\n",
            "414/414 [==============================] - 1s 3ms/step - loss: 0.1029 - binary_accuracy: 0.9722 - val_loss: 0.2911 - val_binary_accuracy: 0.9185\n",
            "Epoch 37/50\n",
            "414/414 [==============================] - 1s 3ms/step - loss: 0.0984 - binary_accuracy: 0.9710 - val_loss: 0.2735 - val_binary_accuracy: 0.9239\n",
            "Epoch 38/50\n",
            "414/414 [==============================] - 1s 3ms/step - loss: 0.0972 - binary_accuracy: 0.9695 - val_loss: 0.3270 - val_binary_accuracy: 0.9158\n",
            "Epoch 39/50\n",
            "414/414 [==============================] - 1s 2ms/step - loss: 0.0942 - binary_accuracy: 0.9719 - val_loss: 0.3613 - val_binary_accuracy: 0.9076\n",
            "Epoch 40/50\n",
            "414/414 [==============================] - 1s 3ms/step - loss: 0.1092 - binary_accuracy: 0.9716 - val_loss: 0.3840 - val_binary_accuracy: 0.9103\n",
            "Epoch 41/50\n",
            "414/414 [==============================] - 1s 3ms/step - loss: 0.1002 - binary_accuracy: 0.9704 - val_loss: 0.4169 - val_binary_accuracy: 0.9185\n",
            "Epoch 42/50\n",
            "414/414 [==============================] - 1s 3ms/step - loss: 0.0916 - binary_accuracy: 0.9704 - val_loss: 0.3751 - val_binary_accuracy: 0.9266\n",
            "Epoch 43/50\n",
            "414/414 [==============================] - 1s 3ms/step - loss: 0.1025 - binary_accuracy: 0.9728 - val_loss: 0.4126 - val_binary_accuracy: 0.9212\n",
            "Epoch 44/50\n",
            "414/414 [==============================] - 1s 3ms/step - loss: 0.0952 - binary_accuracy: 0.9734 - val_loss: 0.4464 - val_binary_accuracy: 0.9158\n",
            "Epoch 45/50\n",
            "414/414 [==============================] - 1s 3ms/step - loss: 0.0954 - binary_accuracy: 0.9749 - val_loss: 0.3973 - val_binary_accuracy: 0.9158\n",
            "Epoch 46/50\n",
            "414/414 [==============================] - 1s 3ms/step - loss: 0.0872 - binary_accuracy: 0.9755 - val_loss: 0.3745 - val_binary_accuracy: 0.9103\n",
            "Epoch 47/50\n",
            "414/414 [==============================] - 1s 3ms/step - loss: 0.0926 - binary_accuracy: 0.9743 - val_loss: 0.3742 - val_binary_accuracy: 0.9076\n",
            "Epoch 48/50\n",
            "414/414 [==============================] - 1s 3ms/step - loss: 0.0899 - binary_accuracy: 0.9731 - val_loss: 0.4352 - val_binary_accuracy: 0.9103\n",
            "Epoch 49/50\n",
            "414/414 [==============================] - 1s 2ms/step - loss: 0.0846 - binary_accuracy: 0.9740 - val_loss: 0.4334 - val_binary_accuracy: 0.9158\n",
            "Epoch 50/50\n",
            "414/414 [==============================] - 1s 3ms/step - loss: 0.0843 - binary_accuracy: 0.9728 - val_loss: 0.3889 - val_binary_accuracy: 0.9158\n"
          ]
        }
      ]
    },
    {
      "cell_type": "code",
      "source": [
        "epochs           = draft_history.params['epochs']\n",
        "train_loss_draft = draft_history.history['loss']\n",
        "train_acc_draft  = draft_history.history['binary_accuracy']\n",
        "val_loss_draft   = draft_history.history['val_loss']\n",
        "val_acc_draft    = draft_history.history['val_binary_accuracy']\n",
        "\n",
        "plt.plot(range(epochs),train_loss_draft,label='Train')\n",
        "plt.plot(range(epochs),val_loss_draft,label='Validation')\n",
        "plt.xticks(range(epochs)[0::10])\n",
        "plt.xlabel('Epochs')\n",
        "plt.ylabel('Loss')\n",
        "plt.legend()\n",
        "plt.title('Draft Model: Loss')\n",
        "plt.show()\n",
        "\n",
        "plt.plot(range(epochs),train_acc_draft,label='Train')\n",
        "plt.plot(range(epochs),val_acc_draft,label='Val')\n",
        "plt.xlabel('Epochs')\n",
        "plt.ylabel('Accuracy')\n",
        "plt.legend()\n",
        "plt.title('Draft Model: Accuracy')\n",
        "plt.show()"
      ],
      "metadata": {
        "colab": {
          "base_uri": "https://localhost:8080/",
          "height": 573
        },
        "id": "AEf4GKD5H9s0",
        "outputId": "59f8c0d8-566a-453c-b9b5-9aa6297b134f"
      },
      "execution_count": 36,
      "outputs": [
        {
          "output_type": "display_data",
          "data": {
            "text/plain": [
              "<Figure size 432x288 with 1 Axes>"
            ],
            "image/png": "[encoded data removed]"
          },
          "metadata": {
            "needs_background": "light"
          }
        },
        {
          "output_type": "display_data",
          "data": {
            "text/plain": [
              "<Figure size 432x288 with 1 Axes>"
            ],
            "image/png": "[encoded data removed]"
          },
          "metadata": {
            "needs_background": "light"
          }
        }
      ]
    },
    {
      "cell_type": "code",
      "source": [
        "opt     = optimizers.RMSprop(learning_rate=0.001)\n",
        "loss_f  = keras.losses.binary_crossentropy\n",
        "metrics = [keras.metrics.binary_accuracy]\n",
        "\n",
        "final_model = models.Sequential()\n",
        "final_model.add(layers.Dense(32, activation='relu', input_shape=(X_trn.shape[1],)))\n",
        "final_model.add(layers.Dense(1,  activation='sigmoid'))\n",
        "\n",
        "final_model.compile(optimizer = opt, loss = loss_f, metrics = metrics)\n",
        "\n",
        "final_history = final_model.fit(X_trn, \n",
        "                                y_trn, \n",
        "                                epochs=25, \n",
        "                                batch_size=32,\n",
        "                                validation_data = (X_val,y_val))"
      ],
      "metadata": {
        "colab": {
          "base_uri": "https://localhost:8080/"
        },
        "id": "nopSxXrcWwEv",
        "outputId": "f572e67f-4789-455b-cb4f-7d3941a16586"
      },
      "execution_count": 42,
      "outputs": [
        {
          "output_type": "stream",
          "name": "stdout",
          "text": [
            "Epoch 1/25\n",
            "115/115 [==============================] - 1s 4ms/step - loss: 0.4784 - binary_accuracy: 0.8041 - val_loss: 0.3362 - val_binary_accuracy: 0.8723\n",
            "Epoch 2/25\n",
            "115/115 [==============================] - 0s 3ms/step - loss: 0.2790 - binary_accuracy: 0.9111 - val_loss: 0.2568 - val_binary_accuracy: 0.9130\n",
            "Epoch 3/25\n",
            "115/115 [==============================] - 0s 3ms/step - loss: 0.2285 - binary_accuracy: 0.9272 - val_loss: 0.2281 - val_binary_accuracy: 0.9158\n",
            "Epoch 4/25\n",
            "115/115 [==============================] - 0s 3ms/step - loss: 0.2083 - binary_accuracy: 0.9312 - val_loss: 0.2125 - val_binary_accuracy: 0.9185\n",
            "Epoch 5/25\n",
            "115/115 [==============================] - 0s 3ms/step - loss: 0.1968 - binary_accuracy: 0.9370 - val_loss: 0.2046 - val_binary_accuracy: 0.9212\n",
            "Epoch 6/25\n",
            "115/115 [==============================] - 0s 3ms/step - loss: 0.1878 - binary_accuracy: 0.9359 - val_loss: 0.1982 - val_binary_accuracy: 0.9239\n",
            "Epoch 7/25\n",
            "115/115 [==============================] - 0s 3ms/step - loss: 0.1809 - binary_accuracy: 0.9367 - val_loss: 0.1880 - val_binary_accuracy: 0.9266\n",
            "Epoch 8/25\n",
            "115/115 [==============================] - 0s 3ms/step - loss: 0.1755 - binary_accuracy: 0.9391 - val_loss: 0.1843 - val_binary_accuracy: 0.9266\n",
            "Epoch 9/25\n",
            "115/115 [==============================] - 0s 3ms/step - loss: 0.1703 - binary_accuracy: 0.9405 - val_loss: 0.1799 - val_binary_accuracy: 0.9266\n",
            "Epoch 10/25\n",
            "115/115 [==============================] - 0s 3ms/step - loss: 0.1677 - binary_accuracy: 0.9424 - val_loss: 0.1774 - val_binary_accuracy: 0.9266\n",
            "Epoch 11/25\n",
            "115/115 [==============================] - 0s 3ms/step - loss: 0.1642 - binary_accuracy: 0.9410 - val_loss: 0.1723 - val_binary_accuracy: 0.9266\n",
            "Epoch 12/25\n",
            "115/115 [==============================] - 0s 3ms/step - loss: 0.1612 - binary_accuracy: 0.9429 - val_loss: 0.1694 - val_binary_accuracy: 0.9266\n",
            "Epoch 13/25\n",
            "115/115 [==============================] - 0s 3ms/step - loss: 0.1589 - binary_accuracy: 0.9427 - val_loss: 0.1686 - val_binary_accuracy: 0.9266\n",
            "Epoch 14/25\n",
            "115/115 [==============================] - 0s 3ms/step - loss: 0.1562 - binary_accuracy: 0.9446 - val_loss: 0.1670 - val_binary_accuracy: 0.9321\n",
            "Epoch 15/25\n",
            "115/115 [==============================] - 0s 3ms/step - loss: 0.1535 - binary_accuracy: 0.9454 - val_loss: 0.1651 - val_binary_accuracy: 0.9321\n",
            "Epoch 16/25\n",
            "115/115 [==============================] - 0s 3ms/step - loss: 0.1510 - binary_accuracy: 0.9457 - val_loss: 0.1594 - val_binary_accuracy: 0.9348\n",
            "Epoch 17/25\n",
            "115/115 [==============================] - 0s 3ms/step - loss: 0.1490 - binary_accuracy: 0.9470 - val_loss: 0.1571 - val_binary_accuracy: 0.9375\n",
            "Epoch 18/25\n",
            "115/115 [==============================] - 0s 3ms/step - loss: 0.1468 - binary_accuracy: 0.9492 - val_loss: 0.1551 - val_binary_accuracy: 0.9348\n",
            "Epoch 19/25\n",
            "115/115 [==============================] - 0s 3ms/step - loss: 0.1448 - binary_accuracy: 0.9486 - val_loss: 0.1537 - val_binary_accuracy: 0.9375\n",
            "Epoch 20/25\n",
            "115/115 [==============================] - 0s 3ms/step - loss: 0.1443 - binary_accuracy: 0.9489 - val_loss: 0.1545 - val_binary_accuracy: 0.9293\n",
            "Epoch 21/25\n",
            "115/115 [==============================] - 0s 3ms/step - loss: 0.1411 - binary_accuracy: 0.9484 - val_loss: 0.1500 - val_binary_accuracy: 0.9293\n",
            "Epoch 22/25\n",
            "115/115 [==============================] - 0s 3ms/step - loss: 0.1405 - binary_accuracy: 0.9508 - val_loss: 0.1480 - val_binary_accuracy: 0.9375\n",
            "Epoch 23/25\n",
            "115/115 [==============================] - 0s 3ms/step - loss: 0.1391 - binary_accuracy: 0.9516 - val_loss: 0.1446 - val_binary_accuracy: 0.9348\n",
            "Epoch 24/25\n",
            "115/115 [==============================] - 0s 3ms/step - loss: 0.1368 - binary_accuracy: 0.9511 - val_loss: 0.1445 - val_binary_accuracy: 0.9375\n",
            "Epoch 25/25\n",
            "115/115 [==============================] - 0s 3ms/step - loss: 0.1362 - binary_accuracy: 0.9514 - val_loss: 0.1424 - val_binary_accuracy: 0.9375\n"
          ]
        }
      ]
    },
    {
      "cell_type": "markdown",
      "source": [
        "##### Included validation set in updated model to make sure overfitting was not occuring after making changes"
      ],
      "metadata": {
        "id": "a0KeU6PvNYku"
      }
    },
    {
      "cell_type": "code",
      "source": [
        "epochs     = final_history.params['epochs']\n",
        "train_loss = final_history.history['loss']\n",
        "train_acc  = final_history.history['binary_accuracy']\n",
        "val_loss   = final_history.history['val_loss']\n",
        "val_acc    = final_history.history['val_binary_accuracy']\n",
        "\n",
        "test_results = final_model.evaluate(X_tst,y_tst,return_dict=True);\n",
        "\n",
        "test_loss = test_results['loss']\n",
        "test_acc  = test_results['binary_accuracy']\n",
        "\n",
        "plt.plot(range(epochs),train_loss,label='Train')\n",
        "plt.plot(range(epochs),val_loss,label='Validation')\n",
        "plt.scatter([epochs-1],[test_loss],color='red')\n",
        "plt.annotate(\"Test Loss\", (epochs, test_loss),color='black')\n",
        "plt.xticks(range(epochs)[0::10])\n",
        "plt.xlabel('Epochs')\n",
        "plt.ylabel('Loss')\n",
        "plt.xticks(range(epochs)[0::10])\n",
        "plt.xlim(0,epochs+5)\n",
        "plt.legend()\n",
        "plt.title('Final Model: Loss')\n",
        "plt.show()\n",
        "print()\n",
        "print(f'Final train loss: {round(train_loss[-1],5)}')\n",
        "print(f'Final test loss:  {round(test_loss,5)}')\n",
        "print()\n",
        "\n",
        "plt.plot(range(epochs),train_acc,label='Train')\n",
        "plt.plot(range(epochs),val_acc,label='Validation')\n",
        "plt.scatter([epochs-1],[test_acc],color='red')\n",
        "plt.annotate(\"Test Accuracy\", (epochs, test_acc),color='black')\n",
        "plt.xticks(range(epochs)[0::10])\n",
        "plt.xlim(0,epochs+5)\n",
        "plt.xlabel('Epochs')\n",
        "plt.ylabel('Accuracy')\n",
        "plt.legend()\n",
        "plt.title('Final Model: Accuracy')\n",
        "plt.show()\n",
        "print()\n",
        "print(f'Final train accuracy: {round(train_acc[-1],5)}')\n",
        "print(f'Final test accuracy:  {round(test_acc,5)}')"
      ],
      "metadata": {
        "colab": {
          "base_uri": "https://localhost:8080/",
          "height": 716
        },
        "id": "9CKKCZitqO3q",
        "outputId": "e0c83b73-13b4-4f86-f5c6-37d82cdfce06"
      },
      "execution_count": 43,
      "outputs": [
        {
          "output_type": "stream",
          "name": "stdout",
          "text": [
            "29/29 [==============================] - 0s 2ms/step - loss: 0.1814 - binary_accuracy: 0.9403\n"
          ]
        },
        {
          "output_type": "display_data",
          "data": {
            "text/plain": [
              "<Figure size 432x288 with 1 Axes>"
            ],
            "image/png": "[encoded data removed]"
          },
          "metadata": {
            "needs_background": "light"
          }
        },
        {
          "output_type": "stream",
          "name": "stdout",
          "text": [
            "\n",
            "Final train loss: 0.13618\n",
            "Final test loss:  0.18138\n",
            "\n"
          ]
        },
        {
          "output_type": "display_data",
          "data": {
            "text/plain": [
              "<Figure size 432x288 with 1 Axes>"
            ],
            "image/png": "[encoded data removed]"
          },
          "metadata": {
            "needs_background": "light"
          }
        },
        {
          "output_type": "stream",
          "name": "stdout",
          "text": [
            "\n",
            "Final train accuracy: 0.95136\n",
            "Final test accuracy:  0.94028\n"
          ]
        }
      ]
    },
    {
      "cell_type": "code",
      "source": [
        "print(f'Training loss at epoch=25:')\n",
        "print(f'    Initial model: {round(train_loss_draft[-1],5)}')\n",
        "print(f'    Final model:   {round(train_loss[-1],5)}')\n",
        "print(f'    Change:        {round(100*((train_loss[-1] - train_loss_draft[-1])/train_loss_draft[-1]),3)}%')\n",
        "print()\n",
        "print(f'Training accuracy at epoch=25:')\n",
        "print(f'    Initial model: {round(100*train_acc_draft[-1],5)}%')\n",
        "print(f'    Final model:   {round(100*train_acc[-1],5)}%')\n",
        "print(f'    Change:        {round(100*((train_acc[-1] - train_acc_draft[-1])/train_acc_draft[-1]),3)}%')\n",
        "print()\n",
        "print(f'Validation loss at epoch=25:')\n",
        "print(f'    Initial model: {round(val_loss_draft[-1],5)}')\n",
        "print(f'    Final model:   {round(val_loss[-1],5)}')\n",
        "print(f'    Change:        {round(100*((val_loss[-1] - val_loss_draft[-1])/val_loss_draft[-1]),5)}%')\n",
        "print()\n",
        "print(f'Validation accuracy at epoch=25:')\n",
        "print(f'    Initial model: {round(100*val_acc_draft[-1],5)}%')\n",
        "print(f'    Final model:   {round(100*val_acc[-1],5)}%')\n",
        "print(f'    Change:        {round(100*(val_acc[-1] - val_acc_draft[-1])/val_acc_draft[-1],5)}%')"
      ],
      "metadata": {
        "colab": {
          "base_uri": "https://localhost:8080/"
        },
        "id": "q0CtICCkbAPQ",
        "outputId": "1ee18e05-6607-49bd-ad4d-7972991410f1"
      },
      "execution_count": 44,
      "outputs": [
        {
          "output_type": "stream",
          "name": "stdout",
          "text": [
            "Training loss at epoch=25:\n",
            "    Initial model: 0.0843\n",
            "    Final model:   0.13618\n",
            "    Change:        61.539%\n",
            "\n",
            "Training accuracy at epoch=25:\n",
            "    Initial model: 97.28261%\n",
            "    Final model:   95.13587%\n",
            "    Change:        -2.207%\n",
            "\n",
            "Validation loss at epoch=25:\n",
            "    Initial model: 0.38894\n",
            "    Final model:   0.14243\n",
            "    Change:        -63.37994%\n",
            "\n",
            "Validation accuracy at epoch=25:\n",
            "    Initial model: 91.57609%\n",
            "    Final model:   93.75%\n",
            "    Change:        2.37389%\n"
          ]
        }
      ]
    },
    {
      "cell_type": "code",
      "source": [
        "predictions = final_model.predict(X_tst)\n",
        "predictions = np.asarray([int(np.round(p,0)[0]) for p in predictions])\n",
        "prediction_results = pd.DataFrame({'Predicted':list(predictions),'Actual':list(y_tst)})\n",
        "\n",
        "print('Sample predictions compared to ground truth:')\n",
        "display(prediction_results[:10])\n",
        "\n",
        "print(f'Final model test loss:         {round(test_loss,5)}')\n",
        "print(f'Final model test accuracy:     {round(100*test_acc,5)}%')"
      ],
      "metadata": {
        "colab": {
          "base_uri": "https://localhost:8080/",
          "height": 417
        },
        "id": "XIIAgiDLyU10",
        "outputId": "f8eb999b-7b2f-41e1-d9c9-88b918c46a31"
      },
      "execution_count": 45,
      "outputs": [
        {
          "output_type": "stream",
          "name": "stdout",
          "text": [
            "Sample predictions compared to ground truth:\n"
          ]
        },
        {
          "output_type": "display_data",
          "data": {
            "text/plain": [
              "   Predicted  Actual\n",
              "0          0       0\n",
              "1          0       0\n",
              "2          1       0\n",
              "3          0       0\n",
              "4          0       0\n",
              "5          1       1\n",
              "6          0       0\n",
              "7          1       1\n",
              "8          0       0\n",
              "9          0       0"
            ],
            "text/html": [
              "\n",
              "  <div id=\"df-6c02dd44-7aa1-44cd-841e-65c752275ef1\">\n",
              "    <div class=\"colab-df-container\">\n",
              "      <div>\n",
              "<style scoped>\n",
              "    .dataframe tbody tr th:only-of-type {\n",
              "        vertical-align: middle;\n",
              "    }\n",
              "\n",
              "    .dataframe tbody tr th {\n",
              "        vertical-align: top;\n",
              "    }\n",
              "\n",
              "    .dataframe thead th {\n",
              "        text-align: right;\n",
              "    }\n",
              "</style>\n",
              "<table border=\"1\" class=\"dataframe\">\n",
              "  <thead>\n",
              "    <tr style=\"text-align: right;\">\n",
              "      <th></th>\n",
              "      <th>Predicted</th>\n",
              "      <th>Actual</th>\n",
              "    </tr>\n",
              "  </thead>\n",
              "  <tbody>\n",
              "    <tr>\n",
              "      <th>0</th>\n",
              "      <td>0</td>\n",
              "      <td>0</td>\n",
              "    </tr>\n",
              "    <tr>\n",
              "      <th>1</th>\n",
              "      <td>0</td>\n",
              "      <td>0</td>\n",
              "    </tr>\n",
              "    <tr>\n",
              "      <th>2</th>\n",
              "      <td>1</td>\n",
              "      <td>0</td>\n",
              "    </tr>\n",
              "    <tr>\n",
              "      <th>3</th>\n",
              "      <td>0</td>\n",
              "      <td>0</td>\n",
              "    </tr>\n",
              "    <tr>\n",
              "      <th>4</th>\n",
              "      <td>0</td>\n",
              "      <td>0</td>\n",
              "    </tr>\n",
              "    <tr>\n",
              "      <th>5</th>\n",
              "      <td>1</td>\n",
              "      <td>1</td>\n",
              "    </tr>\n",
              "    <tr>\n",
              "      <th>6</th>\n",
              "      <td>0</td>\n",
              "      <td>0</td>\n",
              "    </tr>\n",
              "    <tr>\n",
              "      <th>7</th>\n",
              "      <td>1</td>\n",
              "      <td>1</td>\n",
              "    </tr>\n",
              "    <tr>\n",
              "      <th>8</th>\n",
              "      <td>0</td>\n",
              "      <td>0</td>\n",
              "    </tr>\n",
              "    <tr>\n",
              "      <th>9</th>\n",
              "      <td>0</td>\n",
              "      <td>0</td>\n",
              "    </tr>\n",
              "  </tbody>\n",
              "</table>\n",
              "</div>\n",
              "      <button class=\"colab-df-convert\" onclick=\"convertToInteractive('df-6c02dd44-7aa1-44cd-841e-65c752275ef1')\"\n",
              "              title=\"Convert this dataframe to an interactive table.\"\n",
              "              style=\"display:none;\">\n",
              "        \n",
              "  <svg xmlns=\"http://www.w3.org/2000/svg\" height=\"24px\"viewBox=\"0 0 24 24\"\n",
              "       width=\"24px\">\n",
              "    <path d=\"M0 0h24v24H0V0z\" fill=\"none\"/>\n",
              "    <path d=\"M18.56 5.44l.94 2.06.94-2.06 2.06-.94-2.06-.94-.94-2.06-.94 2.06-2.06.94zm-11 1L8.5 8.5l.94-2.06 2.06-.94-2.06-.94L8.5 2.5l-.94 2.06-2.06.94zm10 10l.94 2.06.94-2.06 2.06-.94-2.06-.94-.94-2.06-.94 2.06-2.06.94z\"/><path d=\"M17.41 7.96l-1.37-1.37c-.4-.4-.92-.59-1.43-.59-.52 0-1.04.2-1.43.59L10.3 9.45l-7.72 7.72c-.78.78-.78 2.05 0 2.83L4 21.41c.39.39.9.59 1.41.59.51 0 1.02-.2 1.41-.59l7.78-7.78 2.81-2.81c.8-.78.8-2.07 0-2.86zM5.41 20L4 18.59l7.72-7.72 1.47 1.35L5.41 20z\"/>\n",
              "  </svg>\n",
              "      </button>\n",
              "      \n",
              "  <style>\n",
              "    .colab-df-container {\n",
              "      display:flex;\n",
              "      flex-wrap:wrap;\n",
              "      gap: 12px;\n",
              "    }\n",
              "\n",
              "    .colab-df-convert {\n",
              "      background-color: #E8F0FE;\n",
              "      border: none;\n",
              "      border-radius: 50%;\n",
              "      cursor: pointer;\n",
              "      display: none;\n",
              "      fill: #1967D2;\n",
              "      height: 32px;\n",
              "      padding: 0 0 0 0;\n",
              "      width: 32px;\n",
              "    }\n",
              "\n",
              "    .colab-df-convert:hover {\n",
              "      background-color: #E2EBFA;\n",
              "      box-shadow: 0px 1px 2px rgba(60, 64, 67, 0.3), 0px 1px 3px 1px rgba(60, 64, 67, 0.15);\n",
              "      fill: #174EA6;\n",
              "    }\n",
              "\n",
              "    [theme=dark] .colab-df-convert {\n",
              "      background-color: #3B4455;\n",
              "      fill: #D2E3FC;\n",
              "    }\n",
              "\n",
              "    [theme=dark] .colab-df-convert:hover {\n",
              "      background-color: #434B5C;\n",
              "      box-shadow: 0px 1px 3px 1px rgba(0, 0, 0, 0.15);\n",
              "      filter: drop-shadow(0px 1px 2px rgba(0, 0, 0, 0.3));\n",
              "      fill: #FFFFFF;\n",
              "    }\n",
              "  </style>\n",
              "\n",
              "      <script>\n",
              "        const buttonEl =\n",
              "          document.querySelector('#df-6c02dd44-7aa1-44cd-841e-65c752275ef1 button.colab-df-convert');\n",
              "        buttonEl.style.display =\n",
              "          google.colab.kernel.accessAllowed ? 'block' : 'none';\n",
              "\n",
              "        async function convertToInteractive(key) {\n",
              "          const element = document.querySelector('#df-6c02dd44-7aa1-44cd-841e-65c752275ef1');\n",
              "          const dataTable =\n",
              "            await google.colab.kernel.invokeFunction('convertToInteractive',\n",
              "                                                     [key], {});\n",
              "          if (!dataTable) return;\n",
              "\n",
              "          const docLinkHtml = 'Like what you see? Visit the ' +\n",
              "            '<a target=\"_blank\" href=https://colab.research.google.com/notebooks/data_table.ipynb>data table notebook</a>'\n",
              "            + ' to learn more about interactive tables.';\n",
              "          element.innerHTML = '';\n",
              "          dataTable['output_type'] = 'display_data';\n",
              "          await google.colab.output.renderOutput(dataTable, element);\n",
              "          const docLink = document.createElement('div');\n",
              "          docLink.innerHTML = docLinkHtml;\n",
              "          element.appendChild(docLink);\n",
              "        }\n",
              "      </script>\n",
              "    </div>\n",
              "  </div>\n",
              "  "
            ]
          },
          "metadata": {}
        },
        {
          "output_type": "stream",
          "name": "stdout",
          "text": [
            "Final model test loss:         0.18138\n",
            "Final model test accuracy:     94.02823%\n"
          ]
        }
      ]
    },
    {
      "cell_type": "code",
      "source": [
        "final_model.save(os.path.join(ROOT_PATH, 'Q3_model.h5'))\n",
        "best_model = tensorflow.keras.models.load_model(os.path.join(ROOT_PATH, 'Q3_model.h5'))"
      ],
      "metadata": {
        "id": "anRV92kuDMqR"
      },
      "execution_count": 46,
      "outputs": []
    }
  ]
}