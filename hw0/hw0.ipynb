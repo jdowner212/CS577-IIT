{
  "nbformat": 4,
  "nbformat_minor": 0,
  "metadata": {
    "colab": {
      "name": "A0.ipynb",
      "provenance": [],
      "collapsed_sections": []
    },
    "kernelspec": {
      "name": "python3",
      "display_name": "Python 3"
    },
    "language_info": {
      "name": "python"
    }
  },
  "cells": [
    {
      "cell_type": "code",
      "execution_count": null,
      "metadata": {
        "colab": {
          "base_uri": "https://localhost:8080/"
        },
        "id": "p6V5ybC3PBNL",
        "outputId": "890225e6-85ae-4c33-fb1e-4f5378faa94c"
      },
      "outputs": [
        {
          "output_type": "stream",
          "name": "stdout",
          "text": [
            "Mounted at /content/drive\n"
          ]
        }
      ],
      "source": [
        "from google.colab import drive\n",
        "drive.mount('/content/drive')"
      ]
    },
    {
      "cell_type": "code",
      "source": [
        "import os\n",
        "import sys\n",
        "\n",
        "GOOGLE_DRIVE_FOLDER = '/content/drive/MyDrive/2022 files/CS 577'\n",
        "sys.path.append(GOOGLE_DRIVE_FOLDER)\n",
        "os.chdir(GOOGLE_DRIVE_FOLDER)"
      ],
      "metadata": {
        "id": "auwuiEUPPVUF"
      },
      "execution_count": null,
      "outputs": []
    },
    {
      "cell_type": "code",
      "source": [
        "import numpy as np\n",
        "import math"
      ],
      "metadata": {
        "id": "tW3U9ZH-Pyra"
      },
      "execution_count": null,
      "outputs": []
    },
    {
      "cell_type": "markdown",
      "source": [
        "# A."
      ],
      "metadata": {
        "id": "inTxuYbKQdXJ"
      }
    },
    {
      "cell_type": "code",
      "source": [
        "a = np.matrix([[1],\n",
        "               [2],\n",
        "               [3]])\n",
        "\n",
        "b = np.matrix([[4],\n",
        "               [5],\n",
        "               [6]])\n",
        "\n",
        "c = np.matrix([[-1],\n",
        "               [ 1],\n",
        "               [ 3]])\n",
        "\n",
        "\n",
        "## other definitions\n",
        "\n",
        "i = np.matrix([[1],\n",
        "               [0],\n",
        "               [0]])\n",
        "j = np.matrix([[0],\n",
        "               [1],\n",
        "               [0]])\n",
        "k = np.matrix([[0],\n",
        "               [0],\n",
        "               [1]])\n",
        "\n",
        "print(f'a:\\n{a}')\n",
        "print(f'b:\\n{b}')\n",
        "print(f'c:\\n{c}')"
      ],
      "metadata": {
        "colab": {
          "base_uri": "https://localhost:8080/"
        },
        "id": "BUvdu-aSQp86",
        "outputId": "07efd8d4-59bf-4d80-ab40-a86c8a2c9460"
      },
      "execution_count": null,
      "outputs": [
        {
          "output_type": "stream",
          "name": "stdout",
          "text": [
            "a:\n",
            "[[1]\n",
            " [2]\n",
            " [3]]\n",
            "b:\n",
            "[[4]\n",
            " [5]\n",
            " [6]]\n",
            "c:\n",
            "[[-1]\n",
            " [ 1]\n",
            " [ 3]]\n"
          ]
        }
      ]
    },
    {
      "cell_type": "markdown",
      "source": [
        "####1. ${2a-b}$"
      ],
      "metadata": {
        "id": "0HJiSuBhQh8c"
      }
    },
    {
      "cell_type": "code",
      "source": [
        "2*a - b"
      ],
      "metadata": {
        "colab": {
          "base_uri": "https://localhost:8080/"
        },
        "id": "uusdZvJBQAlo",
        "outputId": "c106814c-4451-454b-b906-85de5d4c37a1"
      },
      "execution_count": null,
      "outputs": [
        {
          "output_type": "execute_result",
          "data": {
            "text/plain": [
              "matrix([[-2],\n",
              "        [-1],\n",
              "        [ 0]])"
            ]
          },
          "metadata": {},
          "execution_count": 27
        }
      ]
    },
    {
      "cell_type": "markdown",
      "source": [
        "####2. $\\hat{a}$"
      ],
      "metadata": {
        "id": "kDPr6lq4RgRe"
      }
    },
    {
      "cell_type": "code",
      "source": [
        "a.reshape(1,-1)"
      ],
      "metadata": {
        "colab": {
          "base_uri": "https://localhost:8080/"
        },
        "id": "lsGuvpSA5xIr",
        "outputId": "c2f7db69-1e18-4d36-9b89-dc349991d400"
      },
      "execution_count": null,
      "outputs": [
        {
          "output_type": "execute_result",
          "data": {
            "text/plain": [
              "matrix([[1, 2, 3]])"
            ]
          },
          "metadata": {},
          "execution_count": 14
        }
      ]
    },
    {
      "cell_type": "code",
      "source": [
        "def mag(array):\n",
        "    sum_squared = np.sum(np.square(array))\n",
        "    magnitude = np.sqrt(sum_squared)\n",
        "    return magnitude\n",
        "\n",
        "def unit(array):\n",
        "    u = array * (1/mag(array))\n",
        "    return u\n",
        "    \n",
        "unit(a)"
      ],
      "metadata": {
        "colab": {
          "base_uri": "https://localhost:8080/"
        },
        "id": "b6u0ZbEZRe9g",
        "outputId": "a65db139-4c97-4d9e-e28a-ea8cd8875307"
      },
      "execution_count": null,
      "outputs": [
        {
          "output_type": "execute_result",
          "data": {
            "text/plain": [
              "matrix([[0.26726124],\n",
              "        [0.53452248],\n",
              "        [0.80178373]])"
            ]
          },
          "metadata": {},
          "execution_count": 161
        }
      ]
    },
    {
      "cell_type": "markdown",
      "source": [
        "####3. $||a||$ and angle of $a$ with respect to $x$-axis"
      ],
      "metadata": {
        "id": "3m9qQZTMRlBG"
      }
    },
    {
      "cell_type": "code",
      "source": [
        "def dot(v1, v2):\n",
        "    v1 = v1 if v1.shape[0] == 1 else v1.reshape(1,-1) # column to row\n",
        "    v2 = v2 if v2.shape[1] == 1 else v2.reshape(-1,1) # row to column\n",
        "    dot_product = (v1*v2).item()\n",
        "    return dot_product\n",
        "\n",
        "def cos_theta(v1,v2):\n",
        "    dot_product = dot(v1,v2)\n",
        "    denominator = mag(v1)*mag(v2)\n",
        "    return dot_product/denominator\n",
        "\n",
        "def angle_between(v1,v2):\n",
        "    cosine_theta = cos_theta(v1,v2)\n",
        "    radians = round(np.arccos(cosine_theta),3)\n",
        "    return radians\n",
        "\n",
        "def to_degrees(angle):\n",
        "    degrees = 180*angle/(np.pi)\n",
        "    degrees = degrees % 360\n",
        "    return round(degrees, 3)\n",
        "\n",
        "radians = angle_between(a,i)\n",
        "print(f'Angle between a and x-axis is {radians} in radians and {to_degrees(radians)} in degrees.')"
      ],
      "metadata": {
        "colab": {
          "base_uri": "https://localhost:8080/"
        },
        "id": "G_lApDObY7HH",
        "outputId": "5a045bb1-9dc8-40b1-b882-a4fabfc5715f"
      },
      "execution_count": null,
      "outputs": [
        {
          "output_type": "stream",
          "name": "stdout",
          "text": [
            "Angle between a and x-axis is 1.3 in radians and 74.485 in degrees.\n"
          ]
        }
      ]
    },
    {
      "cell_type": "markdown",
      "source": [
        "####4. direction cosines:  $\\theta_\\hat{i}$, $\\theta_\\hat{j}$, $\\theta_\\hat{k}$, "
      ],
      "metadata": {
        "id": "AhoTE34GRl5v"
      }
    },
    {
      "cell_type": "code",
      "source": [
        "theta_i = angle_between(a,i)\n",
        "theta_j = angle_between(a,j)\n",
        "theta_k = angle_between(a,k)\n",
        "\n",
        "print(f'theta_i: {theta_i} radians,  {to_degrees(theta_i)} degrees')\n",
        "print(f'theta_j: {theta_j} radians,  {to_degrees(theta_j)} degrees')\n",
        "print(f'theta_k: {theta_k} radians,  {to_degrees(theta_k)} degrees')\n"
      ],
      "metadata": {
        "colab": {
          "base_uri": "https://localhost:8080/"
        },
        "id": "QShVUjL6WV-k",
        "outputId": "2628f23d-9703-418c-cd36-2b22f2fcab69"
      },
      "execution_count": null,
      "outputs": [
        {
          "output_type": "stream",
          "name": "stdout",
          "text": [
            "theta_i: 1.3 radians,  74.485 degrees\n",
            "theta_j: 1.007 radians,  57.697 degrees\n",
            "theta_k: 0.641 radians,  36.727 degrees\n"
          ]
        }
      ]
    },
    {
      "cell_type": "markdown",
      "source": [
        "####5. angle between $a$ and $b$"
      ],
      "metadata": {
        "id": "4Ov2p0sMRm0n"
      }
    },
    {
      "cell_type": "code",
      "source": [
        "radians = angle_between(a,b)\n",
        "print(f'{radians} radians, {to_degrees(radians)} degrees')"
      ],
      "metadata": {
        "colab": {
          "base_uri": "https://localhost:8080/"
        },
        "id": "qsJsWdrvRnLE",
        "outputId": "53e02a2e-c45c-4246-ec0c-5a83168f3eb7"
      },
      "execution_count": null,
      "outputs": [
        {
          "output_type": "stream",
          "name": "stdout",
          "text": [
            "0.226 radians, 12.949 degrees\n"
          ]
        }
      ]
    },
    {
      "cell_type": "markdown",
      "source": [
        "####6. $a\\cdot b$ and $b\\cdot a$"
      ],
      "metadata": {
        "id": "O_m5iUzRRnl0"
      }
    },
    {
      "cell_type": "code",
      "source": [
        "a_dot_b = dot(a,b)\n",
        "b_dot_a = dot(b,a)\n",
        "\n",
        "print(f'a dot b: {a_dot_b}')\n",
        "print(f'b dot a: {b_dot_a}')"
      ],
      "metadata": {
        "colab": {
          "base_uri": "https://localhost:8080/"
        },
        "id": "N2B698vhRn1G",
        "outputId": "e61bdcec-d8be-48c8-eb75-0643782aa682"
      },
      "execution_count": null,
      "outputs": [
        {
          "output_type": "stream",
          "name": "stdout",
          "text": [
            "a dot b: 32\n",
            "b dot a: 32\n"
          ]
        }
      ]
    },
    {
      "cell_type": "markdown",
      "source": [
        "####7. $a \\cdot b$ using the angle between a and b"
      ],
      "metadata": {
        "id": "6Q6_KXgeRsVV"
      }
    },
    {
      "cell_type": "code",
      "source": [
        "a_dot_b_2 = mag(a) * mag(b) * cos_theta(a,b)\n",
        "print(f'a dot b: {a_dot_b_2}')"
      ],
      "metadata": {
        "colab": {
          "base_uri": "https://localhost:8080/"
        },
        "id": "dXKbkUpSRsmB",
        "outputId": "44620f1c-3457-44e7-eddc-d9be36a62e0e"
      },
      "execution_count": null,
      "outputs": [
        {
          "output_type": "stream",
          "name": "stdout",
          "text": [
            "a dot b: 32.0\n"
          ]
        }
      ]
    },
    {
      "cell_type": "markdown",
      "source": [
        "####8. scalar projection of $b$ onto $a$"
      ],
      "metadata": {
        "id": "8fjy93GicYVe"
      }
    },
    {
      "cell_type": "code",
      "source": [
        "def scalar_project_v1_onto_v2(v1,v2):\n",
        "    return round(mag(v1) * cos_theta(v1,v2),3)\n",
        "\n",
        "project_b_onto_a = scalar_project_v1_onto_v2(b,a)\n",
        "print(f'{project_b_onto_a} radians,  {to_degrees(project_b_onto_a)} degrees')"
      ],
      "metadata": {
        "colab": {
          "base_uri": "https://localhost:8080/"
        },
        "id": "nAEQ3HR3cX1O",
        "outputId": "159364af-19d5-4af2-e837-d3c455f07033"
      },
      "execution_count": null,
      "outputs": [
        {
          "output_type": "stream",
          "name": "stdout",
          "text": [
            "8.552 radians,  129.994 degrees\n"
          ]
        }
      ]
    },
    {
      "cell_type": "markdown",
      "source": [
        "####9. Vector which is perpendicular to $a$"
      ],
      "metadata": {
        "id": "gZZFmaBKcYoU"
      }
    },
    {
      "cell_type": "code",
      "source": [
        "def cross_product(a,b):\n",
        "    a = np.array(a) if a.shape[0] == 1 else np.array(a.reshape(-1))\n",
        "    b = np.array(b) if b.shape[0] == 1 else np.array(b.reshape(-1))\n",
        "\n",
        "    [a1,a2,a3] = a[0]\n",
        "    [b1,b2,b3] = b[0]\n",
        "\n",
        "    size_a = a.shape[0]*a.shape[1]\n",
        "    size_b = b.shape[0]*b.shape[1]\n",
        "\n",
        "    assert size_a == size_b\n",
        "    if size_a == 2:\n",
        "        ret = a1*b2 - a2*b1\n",
        "    elif size_a == 3:\n",
        "        ret = i*(a2*b3-a3*b2) - j*(a1*b3-a3*b1) + k*(a1*b2-a2*b1)\n",
        "    return ret\n",
        "\n",
        "print(f'One such vector is the cross product of a and b:\\n {cross_product(a,b)}')"
      ],
      "metadata": {
        "colab": {
          "base_uri": "https://localhost:8080/"
        },
        "id": "1xy2-BlBBTJn",
        "outputId": "120a776b-5281-477b-c095-0fe515eece2e"
      },
      "execution_count": null,
      "outputs": [
        {
          "output_type": "stream",
          "name": "stdout",
          "text": [
            "One such vector is the cross product of a and b:\n",
            " [[-3]\n",
            " [ 6]\n",
            " [-3]]\n"
          ]
        }
      ]
    },
    {
      "cell_type": "markdown",
      "source": [
        "####10. $a \\times b$ and $b \\times a$"
      ],
      "metadata": {
        "id": "PTh3VozvcY7X"
      }
    },
    {
      "cell_type": "code",
      "source": [
        "print(f'a x b:\\n{cross_product(a,b)}\\n\\nb x a:\\n{cross_product(b,a)}')"
      ],
      "metadata": {
        "colab": {
          "base_uri": "https://localhost:8080/"
        },
        "id": "ISxlBQkDeWW3",
        "outputId": "ab5388a2-884d-4073-b2f8-a2cd35f4f3d4"
      },
      "execution_count": null,
      "outputs": [
        {
          "output_type": "stream",
          "name": "stdout",
          "text": [
            "a x b:\n",
            "[[-3]\n",
            " [ 6]\n",
            " [-3]]\n",
            "\n",
            "b x a:\n",
            "[[ 3]\n",
            " [-6]\n",
            " [ 3]]\n"
          ]
        }
      ]
    },
    {
      "cell_type": "markdown",
      "source": [
        "####11. A vector which is perpendicular to both $a$ and $b$"
      ],
      "metadata": {
        "id": "IgkoKgw3cZNe"
      }
    },
    {
      "cell_type": "code",
      "source": [
        "# The cross product of two vectors is perpendicular to both original vectors\n",
        "# You can confirm that two vectors are perpendicular if their dot product is 0\n",
        "\n",
        "assert dot(a, cross_product(a,b)) == 0\n",
        "assert dot(b, cross_product(a,b)) == 0\n",
        "assert dot(a, cross_product(b,a)) == 0\n",
        "assert dot(b, cross_product(b,a)) == 0\n",
        "\n",
        "print('Both axb and bxa are perpendicular to both a and b, by definition of cross products.')"
      ],
      "metadata": {
        "colab": {
          "base_uri": "https://localhost:8080/"
        },
        "id": "EVE7PvS9cRZe",
        "outputId": "2caee8d9-0b8e-43cd-d0ec-9045e33a00dd"
      },
      "execution_count": null,
      "outputs": [
        {
          "output_type": "stream",
          "name": "stdout",
          "text": [
            "Both axb and bxa are perpendicular to both a and b, by definition of cross products.\n"
          ]
        }
      ]
    },
    {
      "cell_type": "markdown",
      "source": [
        "####12. The linear dependency between a, b, and c"
      ],
      "metadata": {
        "id": "tXnRM_TkgMVl"
      }
    },
    {
      "cell_type": "code",
      "source": [],
      "metadata": {
        "colab": {
          "base_uri": "https://localhost:8080/"
        },
        "id": "rIwkyzYjF-ge",
        "outputId": "e4daceaa-8a1a-4e29-98a3-e6249ebae7c0"
      },
      "execution_count": null,
      "outputs": [
        {
          "output_type": "execute_result",
          "data": {
            "text/plain": [
              "numpy.matrix"
            ]
          },
          "metadata": {},
          "execution_count": 182
        }
      ]
    },
    {
      "cell_type": "code",
      "source": [
        "import sympy\n",
        "\n",
        "\n",
        "M = np.zeros((3,3))\n",
        "M[:,0] = np.array(a.reshape(1,-1))\n",
        "M[:,1] = np.array(b.reshape(1,-1))\n",
        "M[:,2] = np.array(c.reshape(1,-1))\n",
        "\n",
        "M = sympy.Matrix(M)\n",
        "\n",
        "print('reduced row echelon form of matrix with columns a, b, c:\\n')\n",
        "display(M.rref()[0])\n",
        "print(f'\\nlinearly dependent rows: {M.rref()[1]}')\n",
        "print()\n",
        "print('The above matrix shows that vectors a, b, and c have the following relationship:')\n",
        "print('-3a + b + c = 0')"
      ],
      "metadata": {
        "colab": {
          "base_uri": "https://localhost:8080/",
          "height": 205
        },
        "id": "CsjOErE1gKkB",
        "outputId": "68e0ae01-4a01-43f3-c397-7ed6846eab90"
      },
      "execution_count": null,
      "outputs": [
        {
          "output_type": "stream",
          "name": "stdout",
          "text": [
            "reduced row echelon form of matrix with columns a, b, c:\n",
            "\n"
          ]
        },
        {
          "output_type": "display_data",
          "data": {
            "text/plain": [
              "Matrix([\n",
              "[1, 0,  3.0],\n",
              "[0, 1, -1.0],\n",
              "[0, 0,    0]])"
            ],
            "text/latex": "$\\displaystyle \\left[\\begin{matrix}1 & 0 & 3.0\\\\0 & 1 & -1.0\\\\0 & 0 & 0\\end{matrix}\\right]$"
          },
          "metadata": {}
        },
        {
          "output_type": "stream",
          "name": "stdout",
          "text": [
            "\n",
            "linearly dependent rows: (0, 1)\n",
            "\n",
            "The above matrix shows that vectors a, b, and c have the following relationship:\n",
            "-3a + b + c = 0\n"
          ]
        }
      ]
    },
    {
      "cell_type": "markdown",
      "source": [
        "####13. $a^Tb$ and $b^Ta$"
      ],
      "metadata": {
        "id": "jDs71oFBkavc"
      }
    },
    {
      "cell_type": "code",
      "source": [
        "def aTb(a,b):\n",
        "    assert a.shape == b.shape\n",
        "    aT = a.reshape(1,-1) if a.shape[0] > 1 else a\n",
        "    aT = np.array(aT)\n",
        "    b  = b.reshape(-1,1) if b.shape[1] > 1 else b\n",
        "    return aT*b\n",
        "\n",
        "def abT(a,b):\n",
        "    assert a.shape == b.shape\n",
        "    bT = b.reshape(1,-1) if b.shape[0] > 1 else b\n",
        "    bT = np.array(bT)\n",
        "    a  = b.reshape(-1,1) if a.shape[1] > 1 else a\n",
        "    return a*bT\n",
        "\n",
        "print(f'a*Tb:\\n{aTb(a,b)}\\n')\n",
        "print(f'a*bT:\\n{abT(a,b)}')"
      ],
      "metadata": {
        "colab": {
          "base_uri": "https://localhost:8080/"
        },
        "id": "jSMqGEZrl1-1",
        "outputId": "7dc4580c-4cf5-426c-b655-af1f06592fbd"
      },
      "execution_count": null,
      "outputs": [
        {
          "output_type": "stream",
          "name": "stdout",
          "text": [
            "a*Tb:\n",
            "[[32]]\n",
            "\n",
            "a*bT:\n",
            "[[ 4  5  6]\n",
            " [ 8 10 12]\n",
            " [12 15 18]]\n"
          ]
        }
      ]
    },
    {
      "cell_type": "markdown",
      "source": [
        "#B."
      ],
      "metadata": {
        "id": "A1OT8-gzoxDi"
      }
    },
    {
      "cell_type": "code",
      "source": [
        "A = np.array([[1,2,3],[4,-2,3],[0,5,-1]])\n",
        "B = np.array([[1,2,1],[2,1,-4],[3,-2,1]])\n",
        "C = np.array([[1,2,3],[4,5,6],[-1,1,3]])\n",
        "d = np.array([[1],[2],[3]])"
      ],
      "metadata": {
        "id": "ubhauiPawFxF"
      },
      "execution_count": null,
      "outputs": []
    },
    {
      "cell_type": "markdown",
      "source": [
        "####1. $2A - B$"
      ],
      "metadata": {
        "id": "hbwaDJ5-pxo7"
      }
    },
    {
      "cell_type": "code",
      "source": [
        "2*A - B"
      ],
      "metadata": {
        "colab": {
          "base_uri": "https://localhost:8080/"
        },
        "id": "TpU9w0Sil3k3",
        "outputId": "29591101-a487-40e9-a242-633f339c20f8"
      },
      "execution_count": null,
      "outputs": [
        {
          "output_type": "execute_result",
          "data": {
            "text/plain": [
              "array([[ 1,  2,  5],\n",
              "       [ 6, -5, 10],\n",
              "       [-3, 12, -3]])"
            ]
          },
          "metadata": {},
          "execution_count": 299
        }
      ]
    },
    {
      "cell_type": "markdown",
      "source": [
        "####2. $AB$ and $BA$"
      ],
      "metadata": {
        "id": "DGhP_V9ip4H_"
      }
    },
    {
      "cell_type": "code",
      "source": [
        "AB, BA = np.matmul(A,B), np.matmul(B,A)\n",
        "\n",
        "print(f'AB:\\n{AB}')\n",
        "print(f'BA:\\n{BA}')"
      ],
      "metadata": {
        "colab": {
          "base_uri": "https://localhost:8080/"
        },
        "id": "LUNEydp5wgH2",
        "outputId": "18b2cb4f-e95c-4e7c-af58-746f08817f9f"
      },
      "execution_count": null,
      "outputs": [
        {
          "output_type": "stream",
          "name": "stdout",
          "text": [
            "AB:\n",
            "[[ 14  -2  -4]\n",
            " [  9   0  15]\n",
            " [  7   7 -21]]\n",
            "BA:\n",
            "[[  9   3   8]\n",
            " [  6 -18  13]\n",
            " [ -5  15   2]]\n"
          ]
        }
      ]
    },
    {
      "cell_type": "markdown",
      "source": [
        "####3. $(AB)^T$ and $B^TA^T$"
      ],
      "metadata": {
        "id": "pRdjyDohp4VI"
      }
    },
    {
      "cell_type": "code",
      "source": [
        "AB_T = np.transpose(AB)\n",
        "B_T_A_T = np.matmul(np.transpose(B), np.transpose(A))\n",
        "print(f'(AB).T:\\n{AB_T}\\n')\n",
        "print(f'(B.T * A.T):\\n{B_T_A_T}')"
      ],
      "metadata": {
        "colab": {
          "base_uri": "https://localhost:8080/"
        },
        "id": "qd5yDwNswnPu",
        "outputId": "1b362b99-d962-4280-cf60-e14c4de3392f"
      },
      "execution_count": null,
      "outputs": [
        {
          "output_type": "stream",
          "name": "stdout",
          "text": [
            "(AB).T:\n",
            "[[ 14   9   7]\n",
            " [ -2   0   7]\n",
            " [ -4  15 -21]]\n",
            "\n",
            "(B.T * A.T):\n",
            "[[ 14   9   7]\n",
            " [ -2   0   7]\n",
            " [ -4  15 -21]]\n"
          ]
        }
      ]
    },
    {
      "cell_type": "markdown",
      "source": [
        "####4. $|A|$ and $|C|$"
      ],
      "metadata": {
        "id": "tc866rTtp4aq"
      }
    },
    {
      "cell_type": "code",
      "source": [
        "def det_3(M):\n",
        "    a1, a2, a3 = M[0,0].item(), M[0,1].item(), M[0,2].item()\n",
        "    b1, b2, b3 = M[1,0].item(), M[1,1].item(), M[1,2].item()\n",
        "    c1, c2, c3 = M[2,0].item(), M[2,1].item(), M[2,2].item()\n",
        "    term1 = a1*(b2*c3 - b3*c2)\n",
        "    term2 = a2*(b1*c3 - b3*c1)\n",
        "    term3 = a3*(b1*c2 - b2*c1)\n",
        "    return term1 - term2 + term3\n",
        "\n",
        "\n",
        "print(f\"|A|: {det_3(A)}\")\n",
        "print(f\"|C|: {det_3(C)}\")"
      ],
      "metadata": {
        "colab": {
          "base_uri": "https://localhost:8080/"
        },
        "id": "jsPDgUNNyzjR",
        "outputId": "6b7cd95d-6029-41c2-ed7e-4ac3a4c8e4a4"
      },
      "execution_count": null,
      "outputs": [
        {
          "output_type": "stream",
          "name": "stdout",
          "text": [
            "|A|: 55\n",
            "|C|: 0\n"
          ]
        }
      ]
    },
    {
      "cell_type": "markdown",
      "source": [
        "####5. The matrix ($A$, $B$, or $C$) in which the row vectors form an orthogonal set"
      ],
      "metadata": {
        "id": "Hocz86cIp4d4"
      }
    },
    {
      "cell_type": "code",
      "source": [
        "A1, A2, A3 = A[0,:], A[1,:], A[2,:]\n",
        "B1, B2, B3 = B[0,:], B[1,:], B[2,:]\n",
        "C1, C2, C3 = C[0,:], C[1,:], C[2,:]\n",
        "\n",
        "A_orth = np.dot(A1, A2) == 0 and np.dot(A1, A3) == 0 and np.dot(A2, A3) == 0\n",
        "B_orth = np.dot(B1, B2) == 0 and np.dot(B1, B3) == 0 and np.dot(B2, B3) == 0\n",
        "C_orth = np.dot(C1, C2) == 0 and np.dot(C1, C3) == 0 and np.dot(C2, C3) == 0\n",
        "\n",
        "print(f'A\\'s rows form an orthogonal set: {A_orth}')\n",
        "print(f'B\\'s rows form an orthogonal set: {B_orth}')\n",
        "print(f'C\\'s rows form an orthogonal set: {C_orth}')"
      ],
      "metadata": {
        "colab": {
          "base_uri": "https://localhost:8080/"
        },
        "id": "2UhWPbe30m5I",
        "outputId": "2781cb1c-c91d-4bf3-de18-0360874597d3"
      },
      "execution_count": null,
      "outputs": [
        {
          "output_type": "stream",
          "name": "stdout",
          "text": [
            "A's rows form an orthogonal set: False\n",
            "B's rows form an orthogonal set: True\n",
            "C's rows form an orthogonal set: False\n"
          ]
        }
      ]
    },
    {
      "cell_type": "markdown",
      "source": [
        "####6. $A^{-1}$ and $B^{-1}$"
      ],
      "metadata": {
        "id": "QmltGmxMp4gS"
      }
    },
    {
      "cell_type": "code",
      "source": [
        "(-2)*(-1)-3*5"
      ],
      "metadata": {
        "colab": {
          "base_uri": "https://localhost:8080/"
        },
        "id": "xxgyAwAqQv6n",
        "outputId": "c59782df-5999-4adb-b20c-5c4faad38ba9"
      },
      "execution_count": null,
      "outputs": [
        {
          "output_type": "execute_result",
          "data": {
            "text/plain": [
              "-13"
            ]
          },
          "metadata": {},
          "execution_count": 330
        }
      ]
    },
    {
      "cell_type": "code",
      "source": [
        "17/55"
      ],
      "metadata": {
        "colab": {
          "base_uri": "https://localhost:8080/"
        },
        "id": "nd3CMHcERCKS",
        "outputId": "2e0141dc-2dbb-42ab-c096-bc0a4830332e"
      },
      "execution_count": null,
      "outputs": [
        {
          "output_type": "execute_result",
          "data": {
            "text/plain": [
              "0.3090909090909091"
            ]
          },
          "metadata": {},
          "execution_count": 336
        }
      ]
    },
    {
      "cell_type": "code",
      "source": [
        "-13/55"
      ],
      "metadata": {
        "colab": {
          "base_uri": "https://localhost:8080/"
        },
        "id": "mYUjTwiuRXPB",
        "outputId": "83c7558e-3a7b-4242-d080-f035efde1a29"
      },
      "execution_count": null,
      "outputs": [
        {
          "output_type": "execute_result",
          "data": {
            "text/plain": [
              "-0.23636363636363636"
            ]
          },
          "metadata": {},
          "execution_count": 334
        }
      ]
    },
    {
      "cell_type": "code",
      "source": [
        "A_inv = np.linalg.inv(A)\n",
        "B_inv = np.linalg.inv(B)\n",
        "\n",
        "print(f'A_inv:\\n{A_inv}')\n",
        "print(f'B_inv:\\n{B_inv}')"
      ],
      "metadata": {
        "colab": {
          "base_uri": "https://localhost:8080/"
        },
        "id": "yWus57Ma33kW",
        "outputId": "d6c1fd4c-d7c3-4941-c850-509a996ad959"
      },
      "execution_count": null,
      "outputs": [
        {
          "output_type": "stream",
          "name": "stdout",
          "text": [
            "A_inv:\n",
            "[[-0.23636364  0.30909091  0.21818182]\n",
            " [ 0.07272727 -0.01818182  0.16363636]\n",
            " [ 0.36363636 -0.09090909 -0.18181818]]\n",
            "B_inv:\n",
            "[[ 0.16666667  0.0952381   0.21428571]\n",
            " [ 0.33333333  0.04761905 -0.14285714]\n",
            " [ 0.16666667 -0.19047619  0.07142857]]\n"
          ]
        }
      ]
    },
    {
      "cell_type": "markdown",
      "source": [
        "####7. $C^{-1}$"
      ],
      "metadata": {
        "id": "RKypjBGYp4in"
      }
    },
    {
      "cell_type": "code",
      "source": [
        "try:\n",
        "    C_inv = np.linalg.inv(C)\n",
        "    print(f'C_inv:\\n{C_inv}')\n",
        "except:\n",
        "    print('C_inv is undefined')"
      ],
      "metadata": {
        "colab": {
          "base_uri": "https://localhost:8080/"
        },
        "id": "aTCD0mIY74W0",
        "outputId": "41a1bbf6-aa15-4b8a-dfb5-bad4e8548405"
      },
      "execution_count": null,
      "outputs": [
        {
          "output_type": "stream",
          "name": "stdout",
          "text": [
            "C_inv is undefined\n"
          ]
        }
      ]
    },
    {
      "cell_type": "markdown",
      "source": [
        "####8. $Ad$"
      ],
      "metadata": {
        "id": "mRRi7A4np4k3"
      }
    },
    {
      "cell_type": "code",
      "source": [
        "np.matmul(A,d)"
      ],
      "metadata": {
        "colab": {
          "base_uri": "https://localhost:8080/"
        },
        "id": "_vPEW3XG9Ax2",
        "outputId": "97c5661e-83c4-4d8f-f634-56fcba3f54c5"
      },
      "execution_count": null,
      "outputs": [
        {
          "output_type": "execute_result",
          "data": {
            "text/plain": [
              "array([[14],\n",
              "       [ 9],\n",
              "       [ 7]])"
            ]
          },
          "metadata": {},
          "execution_count": 341
        }
      ]
    },
    {
      "cell_type": "markdown",
      "source": [
        "####9. Scalar projection of rows of $A$ onto vector $d$ with normalizing $d$\n"
      ],
      "metadata": {
        "id": "p08u2fmUp4nB"
      }
    },
    {
      "cell_type": "code",
      "source": [
        "(dot(np.matrix(A1),np.matrix(d))/mag(np.matrix(d)))*unit(np.matrix(d))"
      ],
      "metadata": {
        "colab": {
          "base_uri": "https://localhost:8080/"
        },
        "id": "x2yRvD5AX2c-",
        "outputId": "de9a9edb-f6a5-4f7b-e6d0-586dd9785c31"
      },
      "execution_count": null,
      "outputs": [
        {
          "output_type": "execute_result",
          "data": {
            "text/plain": [
              "matrix([[1.],\n",
              "        [2.],\n",
              "        [3.]])"
            ]
          },
          "metadata": {},
          "execution_count": 371
        }
      ]
    },
    {
      "cell_type": "code",
      "source": [
        "row1_proj = scalar_project_v1_onto_v2(np.matrix(A1),np.matrix(d))\n",
        "row2_proj = scalar_project_v1_onto_v2(np.matrix(A2),np.matrix(d))\n",
        "row3_proj = scalar_project_v1_onto_v2(np.matrix(A3),np.matrix(d))\n",
        "\n",
        "print(f'row 1 projection:\\n{row1_proj}')\n",
        "print(f'row 2 projection:\\n{row2_proj}')\n",
        "print(f'row 3 projection:\\n{row3_proj}')"
      ],
      "metadata": {
        "colab": {
          "base_uri": "https://localhost:8080/"
        },
        "id": "g-rBeCHO9EDG",
        "outputId": "99825968-3a44-4ee0-e121-5128f3abfe10"
      },
      "execution_count": null,
      "outputs": [
        {
          "output_type": "stream",
          "name": "stdout",
          "text": [
            "row 1 projection:\n",
            "3.742\n",
            "row 2 projection:\n",
            "2.405\n",
            "row 3 projection:\n",
            "1.871\n"
          ]
        }
      ]
    },
    {
      "cell_type": "markdown",
      "source": [
        "####10. Vector projection of rows of $A$ onto vector $d$ without normalizing $d$\n"
      ],
      "metadata": {
        "id": "8MwIrgw1WwfQ"
      }
    },
    {
      "cell_type": "code",
      "source": [
        "def vector_project_v1_onto_v2(v1,v2):\n",
        "    scalar_projection = scalar_project_v1_onto_v2(v1,v2)\n",
        "    unit_vector = unit(v2)\n",
        "    vector_projection = np.round(unit_vector*scalar_projection,3)\n",
        "    return vector_projection"
      ],
      "metadata": {
        "id": "_l-o-qoBYEiJ"
      },
      "execution_count": null,
      "outputs": []
    },
    {
      "cell_type": "code",
      "source": [
        "proj_d_a1 = vector_project_v1_onto_v2(np.matrix(A1), np.matrix(d))\n",
        "proj_d_a2 = vector_project_v1_onto_v2(np.matrix(A2), np.matrix(d))\n",
        "proj_d_a3 = vector_project_v1_onto_v2(np.matrix(A3), np.matrix(d))\n",
        "\n",
        "print(f'proj_d_a1:\\n{proj_d_a1}\\n')\n",
        "print(f'proj_d_a2:\\n{proj_d_a2}\\n')\n",
        "print(f'proj_d_a3:\\n{proj_d_a3}\\n')"
      ],
      "metadata": {
        "colab": {
          "base_uri": "https://localhost:8080/"
        },
        "id": "qL1TG5sjXH9t",
        "outputId": "c1c8d360-03e9-4471-95d9-46f2bc29df41"
      },
      "execution_count": null,
      "outputs": [
        {
          "output_type": "stream",
          "name": "stdout",
          "text": [
            "proj_d_a1:\n",
            "[[1.]\n",
            " [2.]\n",
            " [3.]]\n",
            "\n",
            "proj_d_a2:\n",
            "[[0.643]\n",
            " [1.286]\n",
            " [1.928]]\n",
            "\n",
            "proj_d_a3:\n",
            "[[0.5]\n",
            " [1. ]\n",
            " [1.5]]\n",
            "\n"
          ]
        }
      ]
    },
    {
      "cell_type": "markdown",
      "source": [
        "####11. Linear combination of columns of $A$ using the elements of $d$"
      ],
      "metadata": {
        "id": "fDUNMBwErKMC"
      }
    },
    {
      "cell_type": "code",
      "source": [
        "(A[:,0]*d[0].item() + A[:,1]*d[1].item() + A[:,2]*d[2].item()).reshape(-1,1)"
      ],
      "metadata": {
        "colab": {
          "base_uri": "https://localhost:8080/"
        },
        "id": "1pxe4iF39qfn",
        "outputId": "c2706d58-3509-418e-dedd-8bb0edc7d561"
      },
      "execution_count": null,
      "outputs": [
        {
          "output_type": "execute_result",
          "data": {
            "text/plain": [
              "array([[14],\n",
              "       [ 9],\n",
              "       [ 7]])"
            ]
          },
          "metadata": {},
          "execution_count": 389
        }
      ]
    },
    {
      "cell_type": "markdown",
      "source": [
        "####12. Solution $x$ for $Bx = d$\n"
      ],
      "metadata": {
        "id": "iuU9KC-LrKPZ"
      }
    },
    {
      "cell_type": "code",
      "source": [
        "def solve_(M,v):\n",
        "    M_inv = np.linalg.inv(M)\n",
        "    M1, M2, M3 = M_inv[:,0], M_inv[:,1], M_inv[:,2]\n",
        "    v1, v2, v3 = v[0], v[1], v[2]\n",
        "    return np.round(M1*v1 + M2*v2 + M3*v3).reshape(-1,1)\n",
        "\n",
        "solve_(B,d)"
      ],
      "metadata": {
        "colab": {
          "base_uri": "https://localhost:8080/"
        },
        "id": "8-YnvQI09349",
        "outputId": "4eda5db6-0026-4c6a-9343-676c14efc31a"
      },
      "execution_count": null,
      "outputs": [
        {
          "output_type": "execute_result",
          "data": {
            "text/plain": [
              "array([[ 1.],\n",
              "       [ 0.],\n",
              "       [-0.]])"
            ]
          },
          "metadata": {},
          "execution_count": 391
        }
      ]
    },
    {
      "cell_type": "markdown",
      "source": [
        "####13. Solution $x$ for $Cx = d$ and the reason for it\n"
      ],
      "metadata": {
        "id": "b3hlL7NHrKRu"
      }
    },
    {
      "cell_type": "code",
      "source": [
        "print('There is no solution for Cx = d because C is not invertible. We can check this by confirming that the determinant of C is 0:')\n",
        "print(det_3(C))"
      ],
      "metadata": {
        "colab": {
          "base_uri": "https://localhost:8080/"
        },
        "id": "gBx9vFwyQN6n",
        "outputId": "a9366010-7682-449a-a48d-0c40d15503ff"
      },
      "execution_count": null,
      "outputs": [
        {
          "output_type": "stream",
          "name": "stdout",
          "text": [
            "There is no solution for Cx = d because C is not invertible. We can check this by confirming that the determinant of C is 0:\n",
            "0\n"
          ]
        }
      ]
    },
    {
      "cell_type": "markdown",
      "source": [
        "# C."
      ],
      "metadata": {
        "id": "Jpv17B9BrfRe"
      }
    },
    {
      "cell_type": "code",
      "source": [
        "D = np.matrix([[1,2],[3,2]])\n",
        "E = np.matrix([[2,-2],[-2,5]])\n",
        "F = np.matrix([[1,2],[2,4]])\n",
        "print(f'D:\\n{D}\\n')\n",
        "print(f'E:\\n{E}\\n')\n",
        "print(f'F:\\n{F}')"
      ],
      "metadata": {
        "id": "YMUMlim2R3SE",
        "colab": {
          "base_uri": "https://localhost:8080/"
        },
        "outputId": "68f47e04-a845-4fad-fcc3-8b43af7179c4"
      },
      "execution_count": null,
      "outputs": [
        {
          "output_type": "stream",
          "name": "stdout",
          "text": [
            "D:\n",
            "[[1 2]\n",
            " [3 2]]\n",
            "\n",
            "E:\n",
            "[[ 2 -2]\n",
            " [-2  5]]\n",
            "\n",
            "F:\n",
            "[[1 2]\n",
            " [2 4]]\n"
          ]
        }
      ]
    },
    {
      "cell_type": "markdown",
      "source": [
        "####1. Eigenvalues and eigenvectors of $D$"
      ],
      "metadata": {
        "id": "hQvly16LroAW"
      }
    },
    {
      "cell_type": "code",
      "source": [
        "import sympy\n",
        "from sympy import symbols"
      ],
      "metadata": {
        "id": "I_D9mE1TQM6l"
      },
      "execution_count": null,
      "outputs": []
    },
    {
      "cell_type": "code",
      "source": [
        "def eigenvalues_2(M):\n",
        "    a,b,c,d = M[0,0].item(), M[0,1].item(), M[1,0].item(), M[1,1].item()\n",
        "    v1,v2,L = sympy.symbols('v1 v2 L')\n",
        "\n",
        "    exp1 = v1*(a-L) + v2*b\n",
        "    v1 = sympy.solve(exp1, v1)[0]\n",
        "\n",
        "    exp2 = v1*c + v2*(d-L)\n",
        "    L = sympy.solve(exp2, L)\n",
        "\n",
        "    Ls = np.array(L, dtype=float)\n",
        "    return Ls[0], Ls[1]\n",
        "\n",
        "def eigenvectors(M,L):\n",
        "    M_minus_lambda = M - np.identity(M.shape[0])*L\n",
        "    v1,v2= sympy.symbols('v1,v2')\n",
        "    exp = (M_minus_lambda * np.matrix([[v1],[v2]]))[0].item()\n",
        "    v1 = sympy.solve(exp,v1)[0]\n",
        "    return np.matrix([round(v1/v2,4), round(v2/v2,4)], dtype=float).reshape(-1,1)\n",
        "\n",
        "L1_d, L2_d = eigenvalues_2(D)\n",
        "v1_d, v2_d  = eigenvectors(D,L1_d),eigenvectors(D,L2_d)\n",
        "\n",
        "print(f'Eigenvalue 1: {L1_d}')\n",
        "print(f'Eigenvector 1:\\n{v1_d}\\n')\n",
        "print(f'\\nEigenvalue 2: {L2_d}')\n",
        "print(f'Eigenvector 2:\\n{v2_d}')"
      ],
      "metadata": {
        "colab": {
          "base_uri": "https://localhost:8080/"
        },
        "id": "lT_ApZhYWBRg",
        "outputId": "4254dc28-f948-4881-9052-42f70c3d47d2"
      },
      "execution_count": null,
      "outputs": [
        {
          "output_type": "stream",
          "name": "stdout",
          "text": [
            "Eigenvalue 1: -1.0\n",
            "Eigenvector 1:\n",
            "[[-1.]\n",
            " [ 1.]]\n",
            "\n",
            "\n",
            "Eigenvalue 2: 4.0\n",
            "Eigenvector 2:\n",
            "[[0.66670227]\n",
            " [1.        ]]\n"
          ]
        }
      ]
    },
    {
      "cell_type": "markdown",
      "source": [
        "####2. Dot product between eigenvectors of $D$"
      ],
      "metadata": {
        "id": "auV8oahrrlvu"
      }
    },
    {
      "cell_type": "code",
      "source": [
        "dot(v1_d, v2_d)"
      ],
      "metadata": {
        "colab": {
          "base_uri": "https://localhost:8080/"
        },
        "id": "eXv8pTLDiCpm",
        "outputId": "ae19caf9-0cd3-40a5-f2a8-13ea849610c7"
      },
      "execution_count": null,
      "outputs": [
        {
          "output_type": "execute_result",
          "data": {
            "text/plain": [
              "0.3332977294921875"
            ]
          },
          "metadata": {},
          "execution_count": 456
        }
      ]
    },
    {
      "cell_type": "markdown",
      "source": [
        "####3. Dot product between eigenvectors of $E$"
      ],
      "metadata": {
        "id": "eqlFrMbHrlvv"
      }
    },
    {
      "cell_type": "code",
      "source": [
        "L1_e, L2_e = eigenvalues_2(E)\n",
        "v1_e, v2_e  = eigenvectors(E,L1_e),eigenvectors(E,L2_e)\n",
        "\n",
        "dot(v1_e, v2_e)"
      ],
      "metadata": {
        "colab": {
          "base_uri": "https://localhost:8080/"
        },
        "id": "bx7pkHMOh7Hf",
        "outputId": "20ca5e30-aa0d-4061-f1c8-ee66d645ff31"
      },
      "execution_count": null,
      "outputs": [
        {
          "output_type": "execute_result",
          "data": {
            "text/plain": [
              "0.0"
            ]
          },
          "metadata": {},
          "execution_count": 413
        }
      ]
    },
    {
      "cell_type": "markdown",
      "source": [
        "####4. Property of eigenvectors of $E$ and its reason"
      ],
      "metadata": {
        "id": "MXG8ROe4rlvw"
      }
    },
    {
      "cell_type": "code",
      "source": [
        "print(f'The matrix E is symmetric, which indicates that its eigenvecotrs are orthogonal.\\n\\nE:\\n{E}')"
      ],
      "metadata": {
        "colab": {
          "base_uri": "https://localhost:8080/"
        },
        "id": "lmkhaGlyia4z",
        "outputId": "8fc593ab-81f3-4cd0-861c-138e888e9e5c"
      },
      "execution_count": null,
      "outputs": [
        {
          "output_type": "stream",
          "name": "stdout",
          "text": [
            "The matrix E is symmetric, which indicates that its eigenvecotrs are orthogonal.\n",
            "\n",
            "E:\n",
            "[[ 2 -2]\n",
            " [-2  5]]\n"
          ]
        }
      ]
    },
    {
      "cell_type": "markdown",
      "source": [
        "####5. Value of a trivial solution $x$ to the equation $Fx = 0$"
      ],
      "metadata": {
        "id": "EmsIst-_sKCA"
      }
    },
    {
      "cell_type": "code",
      "source": [
        "print('The trivial solution is x [[0],[0]]. We can prove this by showing that F * [[0],[0]] is equal to [[0],[0]].')\n",
        "print('\\nF*x:')\n",
        "np.matmul(F,np.matrix([[0],[0]],dtype=float))"
      ],
      "metadata": {
        "colab": {
          "base_uri": "https://localhost:8080/"
        },
        "id": "C7pPwyk5j4YM",
        "outputId": "8d26bf29-c221-4823-df92-140165f90b7e"
      },
      "execution_count": null,
      "outputs": [
        {
          "output_type": "stream",
          "name": "stdout",
          "text": [
            "The trivial solution is x [[0],[0]]. We can prove this by showing that F * [[0],[0]] is equal to [[0],[0]].\n",
            "\n",
            "F*x:\n"
          ]
        },
        {
          "output_type": "execute_result",
          "data": {
            "text/plain": [
              "matrix([[0.],\n",
              "        [0.]])"
            ]
          },
          "metadata": {},
          "execution_count": 419
        }
      ]
    },
    {
      "cell_type": "markdown",
      "source": [
        "####6. Value of two non-trivial solutions $x$ to the equation $Fx = 0$"
      ],
      "metadata": {
        "id": "05Ot8Mn7tvwy"
      }
    },
    {
      "cell_type": "code",
      "source": [
        "F"
      ],
      "metadata": {
        "colab": {
          "base_uri": "https://localhost:8080/"
        },
        "id": "L2Yl17MsoakO",
        "outputId": "8d048e54-d2f3-4d07-8d7e-ebb63d6bf4df"
      },
      "execution_count": null,
      "outputs": [
        {
          "output_type": "execute_result",
          "data": {
            "text/plain": [
              "tensor([[1., 2.],\n",
              "        [2., 4.]], dtype=torch.float64)"
            ]
          },
          "metadata": {},
          "execution_count": 546
        }
      ]
    },
    {
      "cell_type": "code",
      "source": [
        "#np.matmul(F, np.matrix([[0.5, 1]]))\n",
        "F.shape"
      ],
      "metadata": {
        "colab": {
          "base_uri": "https://localhost:8080/"
        },
        "id": "9FiDs1MvbRAC",
        "outputId": "c03e4c17-318b-449f-e642-c8aa1679ccfb"
      },
      "execution_count": null,
      "outputs": [
        {
          "output_type": "execute_result",
          "data": {
            "text/plain": [
              "(1, 2)"
            ]
          },
          "metadata": {},
          "execution_count": 431
        }
      ]
    },
    {
      "cell_type": "code",
      "source": [
        "#dot_(torch.inverse(F),torch.tensor([[0],[0]]))\n",
        "def row_dot_vars(row,v1,v2):\n",
        "    row  = row.reshape(1,-1)\n",
        "    return dot(v1,v2)\n",
        "\n",
        "print('This is equivalent to finding eigenvectors of F.\\n')\n",
        "L1_f,  L2_f = eigenvalues_2(F)\n",
        "vs1_f, vs2_f = eigenvectors(F,L1_f), eigenvectors(F,L2_f)\n",
        "print(f'Eigenvector 1 is a multiple of:\\n{vs1_f}')\n",
        "print(f'Eigenvector 2 is a multiple of:\\n{vs2_f}')"
      ],
      "metadata": {
        "colab": {
          "base_uri": "https://localhost:8080/"
        },
        "id": "kujHh8opjlyN",
        "outputId": "c7a9ff24-4a19-4301-e7e8-63dc69dc476f"
      },
      "execution_count": null,
      "outputs": [
        {
          "output_type": "stream",
          "name": "stdout",
          "text": [
            "This is equivalent to finding eigenvectors of F.\n",
            "\n",
            "Eigenvector 1 is a multiple of:\n",
            "[[-2.]\n",
            " [ 1.]]\n",
            "Eigenvector 2 is a multiple of:\n",
            "[[0.5]\n",
            " [1. ]]\n"
          ]
        }
      ]
    },
    {
      "cell_type": "markdown",
      "source": [
        "####7. The only solution $x$ to the equation $Dx = 0$ and the reason for having a single solution"
      ],
      "metadata": {
        "id": "2H2uY65Bt2CU"
      }
    },
    {
      "cell_type": "code",
      "source": [
        "D"
      ],
      "metadata": {
        "colab": {
          "base_uri": "https://localhost:8080/"
        },
        "id": "kpDp4thNgMQX",
        "outputId": "2c5ec87d-785b-4ffb-e1a3-e3e62630347d"
      },
      "execution_count": null,
      "outputs": [
        {
          "output_type": "execute_result",
          "data": {
            "text/plain": [
              "matrix([[1, 2],\n",
              "        [3, 2]])"
            ]
          },
          "metadata": {},
          "execution_count": 476
        }
      ]
    },
    {
      "cell_type": "code",
      "source": [
        "full_rank = np.linalg.matrix_rank(D) == D.shape[0] and np.linalg.matrix_rank(D) == D.shape[1]\n",
        "if full_rank:\n",
        "    print('Dx = 0 has a unique solution because D is a full-rank matrix.')\n",
        "\n",
        "print('If ([[0],[0]] is a solution to Dx = 0, multiplying D by this vector should give ([[0],[0]):')\n",
        "print(D*np.matrix([[0],[0]]))"
      ],
      "metadata": {
        "colab": {
          "base_uri": "https://localhost:8080/"
        },
        "id": "gUxqxs7HhC2e",
        "outputId": "2d39fb97-1497-4b3a-dab6-43f7741a6714"
      },
      "execution_count": null,
      "outputs": [
        {
          "output_type": "stream",
          "name": "stdout",
          "text": [
            "Dx = 0 has a unique solution because D is a full-rank matrix.\n",
            "If ([[0],[0]] is a solution to Dx = 0, multiplying D by this vector should give ([[0],[0]):\n",
            "[[0]\n",
            " [0]]\n"
          ]
        }
      ]
    },
    {
      "cell_type": "markdown",
      "source": [
        "# D."
      ],
      "metadata": {
        "id": "wtaPbxRUucrC"
      }
    },
    {
      "cell_type": "markdown",
      "source": [
        "$f(x)=x^2+3$<br>\n",
        "$g(x)=x^2$<br>\n",
        "$q(x,y)=x^2+y^2$"
      ],
      "metadata": {
        "id": "HZYKV-z3C0qC"
      }
    },
    {
      "cell_type": "markdown",
      "source": [
        "####1. 1st and 2nd derivatives of $f(x)$ with respect to $x$"
      ],
      "metadata": {
        "id": "8SGDLXBauih-"
      }
    },
    {
      "cell_type": "code",
      "source": [
        "#Chain Rule\n",
        "x,y = symbols(('x','y'))\n",
        "f = x**2\n",
        "df = f.diff(x)\n",
        "ddf = df.diff(x)\n",
        "print('f(x) = x**2')\n",
        "print(f'1st derivative: {df}')\n",
        "print(f'2nd derivative: {ddf}')"
      ],
      "metadata": {
        "colab": {
          "base_uri": "https://localhost:8080/"
        },
        "id": "3UDbWoaCDBOC",
        "outputId": "eae267d4-a36e-49df-84e1-cd4d89b34968"
      },
      "execution_count": null,
      "outputs": [
        {
          "output_type": "stream",
          "name": "stdout",
          "text": [
            "f(x) = x**2\n",
            "1st derivative: 2*x\n",
            "2nd derivative: 2\n"
          ]
        }
      ]
    },
    {
      "cell_type": "markdown",
      "source": [
        "####2. Partial derivatives: $\\frac{\\partial q}{\\partial x}$, $\\frac{\\partial q}{\\partial y}$"
      ],
      "metadata": {
        "id": "BiAPmPwTurGy"
      }
    },
    {
      "cell_type": "code",
      "source": [
        "q = x**2 + y**2\n",
        "dq_dx = q.diff(x)\n",
        "dq_dy = q.diff(y)\n",
        "print('q(x) = x**2 + y**2')\n",
        "print(f'dq_dx = {dq_dx}')\n",
        "print(f'dq_dy = {dq_dy}')"
      ],
      "metadata": {
        "colab": {
          "base_uri": "https://localhost:8080/"
        },
        "id": "l8Ds2xYTDx9Y",
        "outputId": "57fff494-929a-4e08-de53-1d36a10bafc0"
      },
      "execution_count": null,
      "outputs": [
        {
          "output_type": "stream",
          "name": "stdout",
          "text": [
            "q(x) = x**2 + y**2\n",
            "dq_dx = 2*x\n",
            "dq_dy = 2*y\n"
          ]
        }
      ]
    },
    {
      "cell_type": "markdown",
      "source": [
        "####3. $\\nabla q(x,y)$"
      ],
      "metadata": {
        "id": "OK_zIDFgu5vv"
      }
    },
    {
      "cell_type": "code",
      "source": [
        "from sympy.vector import gradient, CoordSys3D\n",
        "\n",
        "R = CoordSys3D(' ')\n",
        "\n",
        "#Omega = R.x**2+R.x*R.y+R.y**2\n",
        "q = R.x**2 + R.y**2\n",
        "\n",
        "# Print grad omega\n",
        "print('gradient:')\n",
        "display(gradient(q))"
      ],
      "metadata": {
        "colab": {
          "base_uri": "https://localhost:8080/",
          "height": 57
        },
        "id": "gyO5WDcIFDkE",
        "outputId": "23a82923-ddc6-48a9-ceab-3a332a03a7bf"
      },
      "execution_count": null,
      "outputs": [
        {
          "output_type": "stream",
          "name": "stdout",
          "text": [
            "gradient:\n"
          ]
        },
        {
          "output_type": "display_data",
          "data": {
            "text/plain": [
              "2* .x* .i + 2* .y* .j"
            ],
            "text/latex": "$\\displaystyle (2 \\mathbf{{x}_{ }})\\mathbf{\\hat{i}_{ }} + (2 \\mathbf{{y}_{ }})\\mathbf{\\hat{j}_{ }}$"
          },
          "metadata": {}
        }
      ]
    },
    {
      "cell_type": "markdown",
      "source": [
        "####4. $\\frac{d}{dx} f(g(x))$"
      ],
      "metadata": {
        "id": "ftnq_jREvFij"
      }
    },
    {
      "cell_type": "code",
      "source": [
        "## With chain rule\n",
        "g = symbols('g')\n",
        "f = g**2 + 3\n",
        "df_dg = f.diff(g).subs(g,x**2)\n",
        "g = x**2\n",
        "dg_dx = g.diff(x)\n",
        "chain_rule_result = df_dg*dg_dx\n",
        "\n",
        "## Without chain rule\n",
        "del f, g\n",
        "g = x**2\n",
        "f = g**2 + 3\n",
        "no_chain_rule_result = f.diff(x)\n",
        "\n",
        "print('Using chain rule:')\n",
        "display(chain_rule_result)\n",
        "print('Without chain rule:')\n",
        "display(no_chain_rule_result)"
      ],
      "metadata": {
        "id": "GzHrTBUQsIbj",
        "colab": {
          "base_uri": "https://localhost:8080/",
          "height": 95
        },
        "outputId": "d5f717fd-a8bb-4ebf-bd08-1359c6d6e475"
      },
      "execution_count": null,
      "outputs": [
        {
          "output_type": "stream",
          "name": "stdout",
          "text": [
            "Using chain rule:\n"
          ]
        },
        {
          "output_type": "display_data",
          "data": {
            "text/plain": [
              "4*x**3"
            ],
            "text/latex": "$\\displaystyle 4 x^{3}$"
          },
          "metadata": {}
        },
        {
          "output_type": "stream",
          "name": "stdout",
          "text": [
            "Without chain rule:\n"
          ]
        },
        {
          "output_type": "display_data",
          "data": {
            "text/plain": [
              "4*x**3"
            ],
            "text/latex": "$\\displaystyle 4 x^{3}$"
          },
          "metadata": {}
        }
      ]
    }
  ]
}