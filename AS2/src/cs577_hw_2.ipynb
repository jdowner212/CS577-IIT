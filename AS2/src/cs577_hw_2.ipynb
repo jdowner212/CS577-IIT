{
  "nbformat": 4,
  "nbformat_minor": 0,
  "metadata": {
    "colab": {
      "provenance": [],
      "collapsed_sections": []
    },
    "kernelspec": {
      "name": "python3",
      "display_name": "Python 3"
    },
    "language_info": {
      "name": "python"
    }
  },
  "cells": [
    {
      "cell_type": "markdown",
      "source": [
        "Jane Downer<br>\n",
        "CS 577-02 - Fall 2022<br>\n",
        "Assignment 2<br>"
      ],
      "metadata": {
        "id": "04JrvRU_tiRa"
      }
    },
    {
      "cell_type": "code",
      "source": [
        "ROOT_PATH = '/content/drive/MyDrive/2022 files/CS 577/Assignments/hw2'"
      ],
      "metadata": {
        "id": "6jGX6iJ0oSrW"
      },
      "execution_count": null,
      "outputs": []
    },
    {
      "cell_type": "code",
      "source": [
        "from google.colab import drive\n",
        "drive.mount('/content/drive')"
      ],
      "metadata": {
        "colab": {
          "base_uri": "https://localhost:8080/"
        },
        "id": "r1fTTXmOANSp",
        "outputId": "6dd92ce0-d67c-44c1-d33e-dc7c2ae76ee8"
      },
      "execution_count": null,
      "outputs": [
        {
          "output_type": "stream",
          "name": "stdout",
          "text": [
            "Mounted at /content/drive\n"
          ]
        }
      ]
    },
    {
      "cell_type": "code",
      "source": [
        "import os\n",
        "import sys\n",
        "import time\n",
        "import pandas as pd\n",
        "import numpy as np\n",
        "import math\n",
        "import tensorflow\n",
        "import keras\n",
        "import tensorflow.keras.optimizers as optimizers\n",
        "from tensorflow.keras.metrics import Mean as mean_tracker\n",
        "from tensorflow.keras.metrics import categorical_accuracy\n",
        "from tensorflow.keras.losses import categorical_crossentropy\n",
        "from keras.metrics import CategoricalAccuracy\n",
        "from keras import models, layers\n",
        "from keras.utils.np_utils import to_categorical\n",
        "from sklearn.model_selection import train_test_split\n",
        "from sklearn.preprocessing import OneHotEncoder\n",
        "import matplotlib.pyplot as plt"
      ],
      "metadata": {
        "id": "WIaKqPZ7AugH"
      },
      "execution_count": null,
      "outputs": []
    },
    {
      "cell_type": "code",
      "execution_count": null,
      "metadata": {
        "id": "HFzg_kncAHWE"
      },
      "outputs": [],
      "source": [
        "os.chdir(ROOT_PATH)"
      ]
    },
    {
      "cell_type": "markdown",
      "source": [
        "# Question 1"
      ],
      "metadata": {
        "id": "QzIpNBBtwwBj"
      }
    },
    {
      "cell_type": "code",
      "source": [
        "def load_data(data, test_p=0.2, label_column_idx=-1):\n",
        "    categories = data.columns[label_column_idx]\n",
        "    labels = list(L for L in list(data[categories]))\n",
        "    three_labels = list(set(labels))[:3]\n",
        "    data = data[data[categories].isin(three_labels)]\n",
        "\n",
        "    labels = data.pop(categories)\n",
        "    n_train = int((1-test_p)*len(data))\n",
        "    X_trn, X_tst = np.array(data[:n_train]), np.array(data[n_train:])\n",
        "    \n",
        "    y_trn, y_tst = np.array(labels[:n_train]), np.array(labels[n_train:])\n",
        "\n",
        "    y_trn_c = OneHotEncoder(sparse=False).fit_transform(y_trn.reshape(-1,1))\n",
        "    y_tst_c = OneHotEncoder(sparse=False).fit_transform(y_tst.reshape(-1,1))\n",
        "\n",
        "    mean_data = np.concatenate([X_trn,X_tst]).mean(axis=0)\n",
        "    std_data = np.concatenate([X_trn,X_tst]).std(axis=0)\n",
        "\n",
        "    X_trn = (X_trn - mean_data)/std_data\n",
        "    X_tst = (X_tst - mean_data)/std_data\n",
        "\n",
        "    return (X_trn, y_trn_c), (X_tst, y_tst_c)"
      ],
      "metadata": {
        "id": "qdDFqjy-DNsq"
      },
      "execution_count": null,
      "outputs": []
    },
    {
      "cell_type": "code",
      "source": [
        "url_wine = 'http://archive.ics.uci.edu/ml/machine-learning-databases/wine-quality/winequality-red.csv'\n",
        "data_wine = pd.read_csv(url_wine, delimiter=';', delim_whitespace=False)\n",
        "data_wine = data_wine.sample(frac=1).reset_index(drop=True)\n",
        "(X_trn_wine, y_trn_wine), (X_tst_wine, y_tst_wine) = load_data(data_wine)\n",
        "\n",
        "url_bean = 'http://archive.ics.uci.edu/ml/datasets/Dry+Bean+Dataset#:~:text=Set%0ADownload%3A-,Data%20Folder,-%2C%20Data%20Set'\n",
        "#!wget http://archive.ics.uci.edu/ml/machine-learning-databases/00602/DryBeanDataset.zip\n",
        "#!unzip \"/content/drive/MyDrive/2022 files/CS 577/Assignments/hw2/DryBeanDataset.zip\"\n",
        "data_bean = pd.read_excel('/content/drive/MyDrive/2022 files/CS 577/Assignments/hw2/DryBeanDataset/Dry_Bean_Dataset.xlsx')\n",
        "data_bean = data_bean.sample(frac=1).reset_index(drop=True)\n",
        "(X_trn_bean, y_trn_bean), (X_tst_bean, y_tst_bean) = load_data(data_bean)"
      ],
      "metadata": {
        "id": "ga9uGRMwButk"
      },
      "execution_count": null,
      "outputs": []
    },
    {
      "cell_type": "code",
      "source": [
        "def build_model(X_trn, input_size_L1, input_size_L2):\n",
        "    inputs  = keras.Input(shape=(X_trn.shape[1]))\n",
        "    L_h1    = layers.Dense(input_size_L1, activation='sigmoid')(inputs)\n",
        "    L_h2    = layers.Dense(input_size_L2, activation='sigmoid')(L_h1)\n",
        "    outputs = layers.Dense(3,   activation='softmax')(L_h2)\n",
        "    return keras.Model(inputs, outputs)\n",
        "\n",
        "class BatchGenerator:\n",
        "    def __init__(self, X_trn, y_trn, batch_size):\n",
        "        assert len(X_trn) == len(y_trn)\n",
        "        self.index = 0\n",
        "        self.X_trn = X_trn\n",
        "        self.y_trn = y_trn\n",
        "        self.batch_size = batch_size\n",
        "        self.num_batches = math.ceil(len(X_trn)/batch_size)\n",
        "    def next(self):\n",
        "        X_trn = self.X_trn[self.index : self.index + self.batch_size] \n",
        "        y_trn = self.y_trn[self.index : self.index + self.batch_size] \n",
        "        self.index += self.batch_size\n",
        "        return X_trn, y_trn\n",
        "\n",
        "def train_step(model, X_batch, y_batch, optimizer, loss_tracker, acc_tracker):\n",
        "    with tensorflow.GradientTape() as tape:\n",
        "        pred     = model(X_batch)\n",
        "        loss     = categorical_crossentropy(y_batch, pred)\n",
        "        acc      = categorical_accuracy(y_batch, pred)\n",
        "        avg_loss = tensorflow.reduce_mean(loss)\n",
        "        avg_acc  = tensorflow.reduce_mean(acc)\n",
        "    grads = tape.gradient(loss, model.trainable_weights)\n",
        "    optimizer.apply_gradients(zip(grads, model.trainable_weights))\n",
        "    loss_tracker.update_state(avg_loss) \n",
        "    acc_tracker.update_state(avg_acc)\n",
        "    logs = {'train_loss': loss_tracker.result().numpy(), \n",
        "            'train_acc':  acc_tracker.result().numpy()}\n",
        "    return logs\n",
        "\n",
        "def val_step(model, X_val_batch, y_val_batch, val_loss_tracker, val_acc_tracker):\n",
        "    val_pred     = model(X_val_batch)\n",
        "    val_loss     = categorical_crossentropy(y_val_batch, val_pred)\n",
        "    val_acc      = categorical_accuracy(y_val_batch, val_pred)\n",
        "    val_avg_loss = tensorflow.reduce_mean(val_loss)\n",
        "    val_avg_acc  = tensorflow.reduce_mean(val_acc)\n",
        "    val_loss_tracker.update_state(val_avg_loss) \n",
        "    val_acc_tracker.update_state(val_avg_acc)\n",
        "    logs = {'val_loss': val_loss_tracker.result().numpy(), \n",
        "            'val_acc': val_acc_tracker.result().numpy()}\n",
        "    return logs\n",
        "\n",
        "def fit(model, X_trn, y_trn, epochs, batch_size, optimizer, loss_tracker, acc_tracker, val_loss_tracker, val_acc_tracker):\n",
        "    X_trn, X_val, y_trn, y_val = train_test_split(X_trn, y_trn, test_size=0.2)\n",
        "    train_loss, train_acc, val_loss, val_acc = [], [], [], []\n",
        "    print('train:',X_trn.shape)\n",
        "    print('val:',X_val.shape)\n",
        "    for epoch in range(epochs):\n",
        "        loss_tracker.reset_state()\n",
        "        acc_tracker.reset_state()\n",
        "\n",
        "        train_batch_generator = BatchGenerator(X_trn, y_trn, batch_size)\n",
        "        for batch in range(train_batch_generator.num_batches):\n",
        "            X_batch, y_batch = train_batch_generator.next()\n",
        "            train_metrics = train_step(model, X_batch, y_batch, optimizer, loss_tracker, acc_tracker)\n",
        "        t_loss = train_metrics['train_loss']\n",
        "        t_acc  = train_metrics['train_acc']\n",
        "        train_loss.append(t_loss)\n",
        "        train_acc.append(t_acc)\n",
        "\n",
        "        val_batch_generator = BatchGenerator(X_val, y_val, batch_size)\n",
        "        for batch in range(val_batch_generator.num_batches):\n",
        "            val_X_batch, val_y_batch = val_batch_generator.next()\n",
        "            test_metrics = val_step(model, val_X_batch, val_y_batch, val_loss_tracker, val_acc_tracker)\n",
        "        v_loss = test_metrics['val_loss']\n",
        "        v_acc  = test_metrics['val_acc']\n",
        "        val_loss.append(v_loss)\n",
        "        val_acc.append(v_acc)\n",
        "\n",
        "        if epoch%10 == 0:\n",
        "            print(f'Epoch {epoch}/{epochs}  '.ljust(24)\n",
        "                +    'train_loss: ' + \"{:.3f}\".format(t_loss) \n",
        "                + ' , val_loss: '   + \"{:.3f}\".format(v_loss)\n",
        "                + ' , train_acc: '  + \"{:.3f}\".format(t_acc)\n",
        "                + ' , val_acc: '    + \"{:.3f}\".format(v_acc))\n",
        "        \n",
        "    return model, train_loss, train_acc, val_loss, val_acc"
      ],
      "metadata": {
        "id": "es8cAJLEacuR"
      },
      "execution_count": null,
      "outputs": []
    },
    {
      "cell_type": "code",
      "source": [
        "bean_model = build_model(X_trn_bean, 32, 16)\n",
        "model_bean, tr_loss_bean, tr_acc_bean, v_loss_bean, v_acc_bean = fit(\n",
        "    bean_model, \n",
        "    X_trn_bean, \n",
        "    y_trn_bean, \n",
        "    epochs=200,\n",
        "    batch_size=512,\n",
        "    optimizer = optimizers.Adam(learning_rate=0.001),\n",
        "    loss_tracker = mean_tracker(name='train_loss'),\n",
        "    acc_tracker  = mean_tracker(name='train_acc'),\n",
        "    val_loss_tracker = mean_tracker(name='val_loss'),\n",
        "    val_acc_tracker  = mean_tracker(name='val_acc'))"
      ],
      "metadata": {
        "colab": {
          "base_uri": "https://localhost:8080/"
        },
        "id": "xc0jIEIDgt6G",
        "outputId": "f833fad7-8a76-45b4-aedb-52c7afb86cce"
      },
      "execution_count": null,
      "outputs": [
        {
          "output_type": "stream",
          "name": "stdout",
          "text": [
            "train: (4348, 16)\n",
            "val: (1088, 16)\n",
            "Epoch 0/200             train_loss: 1.645 , val_loss: 1.510 , train_acc: 0.281 , val_acc: 0.288\n",
            "Epoch 10/200            train_loss: 0.751 , val_loss: 1.018 , train_acc: 0.769 , val_acc: 0.545\n",
            "Epoch 20/200            train_loss: 0.436 , val_loss: 0.802 , train_acc: 0.969 , val_acc: 0.722\n",
            "Epoch 30/200            train_loss: 0.250 , val_loss: 0.646 , train_acc: 0.986 , val_acc: 0.806\n",
            "Epoch 40/200            train_loss: 0.160 , val_loss: 0.535 , train_acc: 0.987 , val_acc: 0.849\n",
            "Epoch 50/200            train_loss: 0.115 , val_loss: 0.456 , train_acc: 0.989 , val_acc: 0.876\n",
            "Epoch 60/200            train_loss: 0.090 , val_loss: 0.398 , train_acc: 0.989 , val_acc: 0.894\n",
            "Epoch 70/200            train_loss: 0.074 , val_loss: 0.353 , train_acc: 0.990 , val_acc: 0.907\n",
            "Epoch 80/200            train_loss: 0.064 , val_loss: 0.318 , train_acc: 0.990 , val_acc: 0.917\n",
            "Epoch 90/200            train_loss: 0.057 , val_loss: 0.289 , train_acc: 0.990 , val_acc: 0.925\n",
            "Epoch 100/200           train_loss: 0.051 , val_loss: 0.265 , train_acc: 0.990 , val_acc: 0.931\n",
            "Epoch 110/200           train_loss: 0.047 , val_loss: 0.245 , train_acc: 0.990 , val_acc: 0.937\n",
            "Epoch 120/200           train_loss: 0.044 , val_loss: 0.228 , train_acc: 0.990 , val_acc: 0.941\n",
            "Epoch 130/200           train_loss: 0.042 , val_loss: 0.214 , train_acc: 0.990 , val_acc: 0.945\n",
            "Epoch 140/200           train_loss: 0.040 , val_loss: 0.201 , train_acc: 0.991 , val_acc: 0.949\n",
            "Epoch 150/200           train_loss: 0.038 , val_loss: 0.190 , train_acc: 0.990 , val_acc: 0.952\n",
            "Epoch 160/200           train_loss: 0.037 , val_loss: 0.180 , train_acc: 0.991 , val_acc: 0.954\n",
            "Epoch 170/200           train_loss: 0.036 , val_loss: 0.171 , train_acc: 0.991 , val_acc: 0.957\n",
            "Epoch 180/200           train_loss: 0.035 , val_loss: 0.163 , train_acc: 0.991 , val_acc: 0.959\n",
            "Epoch 190/200           train_loss: 0.034 , val_loss: 0.156 , train_acc: 0.991 , val_acc: 0.960\n"
          ]
        }
      ]
    },
    {
      "cell_type": "code",
      "source": [
        "plt.title(\"Categorical Cross Entropy\")\n",
        "plt.plot(range(len(tr_loss_bean)), tr_loss_bean, label='train loss')\n",
        "plt.plot(range(len(v_loss_bean)), v_loss_bean, label='val loss')\n",
        "plt.xlabel('Epoch')\n",
        "plt.ylabel('Loss')\n",
        "plt.legend()\n",
        "plt.show()\n",
        "\n",
        "plt.title(\"Categorical Accuracy\")\n",
        "plt.plot(range(len(tr_acc_bean)), tr_acc_bean, label='train acc')\n",
        "plt.plot(range(len(v_acc_bean)), v_acc_bean, label='val acc')\n",
        "plt.xlabel('Epoch')\n",
        "plt.ylabel('Accuracy')\n",
        "plt.legend()\n",
        "plt.show()"
      ],
      "metadata": {
        "colab": {
          "base_uri": "https://localhost:8080/",
          "height": 573
        },
        "id": "FcdjJfmHLQLG",
        "outputId": "50131cfb-f794-4a7c-99d7-e710eb221ac2"
      },
      "execution_count": null,
      "outputs": [
        {
          "output_type": "display_data",
          "data": {
            "text/plain": [
              "<Figure size 432x288 with 1 Axes>"
            ],
            "image/png": "[encoded data removed]"
          },
          "metadata": {
            "needs_background": "light"
          }
        },
        {
          "output_type": "display_data",
          "data": {
            "text/plain": [
              "<Figure size 432x288 with 1 Axes>"
            ],
            "image/png": "[encoded data removed]"
          },
          "metadata": {
            "needs_background": "light"
          }
        }
      ]
    },
    {
      "cell_type": "code",
      "source": [
        "test_pred = bean_model(X_tst_bean)\n",
        "test_acc = (sum(categorical_accuracy(y_tst_bean, test_pred))/len(test_pred)).numpy()\n",
        "test_loss = tensorflow.reduce_mean(categorical_crossentropy(y_tst_bean, test_pred)).numpy()\n",
        "\n",
        "print('Final categorical cross-entropy:')\n",
        "print('    train: '.ljust(12), round(tr_loss_bean[-1],3))\n",
        "print('    test: '.ljust(12), round(test_loss,3))\n",
        "print('    val: '.ljust(12), round(v_loss_bean[-1],3))\n",
        "\n",
        "print('Final categorical accuracy:')\n",
        "print('    train: '.ljust(12), round(tr_acc_bean[-1],3))\n",
        "print('    test: '.ljust(12), round(test_acc,3))\n",
        "print('    val: '.ljust(12), round(v_acc_bean[-1],3))"
      ],
      "metadata": {
        "colab": {
          "base_uri": "https://localhost:8080/"
        },
        "id": "F6LMgzFIqkEN",
        "outputId": "8034b53b-024b-4b75-f9ab-56f2eb7856fe"
      },
      "execution_count": null,
      "outputs": [
        {
          "output_type": "stream",
          "name": "stdout",
          "text": [
            "Final categorical cross-entropy:\n",
            "    train:   0.033\n",
            "    test:    0.037\n",
            "    val:     0.151\n",
            "Final categorical accuracy:\n",
            "    train:   0.992\n",
            "    test:    0.988\n",
            "    val:     0.962\n"
          ]
        }
      ]
    },
    {
      "cell_type": "code",
      "source": [
        "bean_model.save(os.path.join(ROOT_PATH, 'Assignment2_task1_model.h5'))\n",
        "bean_model = tensorflow.keras.models.load_model(os.path.join(ROOT_PATH, 'Assignment2_task1_model.h5'))"
      ],
      "metadata": {
        "colab": {
          "base_uri": "https://localhost:8080/"
        },
        "id": "BO_z3q2onTqX",
        "outputId": "1b612f54-378e-4ce2-e943-6e99b2757771"
      },
      "execution_count": 626,
      "outputs": [
        {
          "output_type": "stream",
          "name": "stderr",
          "text": [
            "WARNING:tensorflow:Compiled the loaded model, but the compiled metrics have yet to be built. `model.compile_metrics` will be empty until you train or evaluate the model.\n",
            "WARNING:tensorflow:No training configuration found in the save file, so the model was *not* compiled. Compile it manually.\n"
          ]
        }
      ]
    },
    {
      "cell_type": "markdown",
      "source": [
        "# Question 2"
      ],
      "metadata": {
        "id": "V_kr_RvUwppX"
      }
    },
    {
      "cell_type": "markdown",
      "source": [
        "### Note: \n",
        "#####Currently running into issues with incompatable matrix shapes during backpropagation that are preventing parts of code from compiling. Apart from that the overall logic should be correct."
      ],
      "metadata": {
        "id": "jTc-L4x804ea"
      }
    },
    {
      "cell_type": "code",
      "source": [
        "class Multiply():\n",
        "    def forward(self,W,X):\n",
        "        self.X = X\n",
        "        self.W = W\n",
        "        return np.matmul(self.W, self.X)\n",
        "    def backward(self, upstream_g):\n",
        "        X = self.X\n",
        "        W = self.W\n",
        "        dX = np.dot(upstream_g,W)\n",
        "        dW = np.dot(upstream_g,X)\n",
        "        return [dX, dW]\n",
        "\n",
        "class Add():\n",
        "    def forward(self,A,B):\n",
        "        result = np.add(A, B)\n",
        "        return result\n",
        "    def backward(self, upstream_g):\n",
        "        dA = upstream_g*1\n",
        "        dB = upstream_g*1\n",
        "        return [dA, dB]\n",
        "\n",
        "class Sigmoid():\n",
        "    def forward(self, M):\n",
        "        self.Z = 1/(1 + np.exp(-M))\n",
        "        return self.Z\n",
        "    def backward(self, upstream_g):\n",
        "        Z = self.Z\n",
        "        local_g = Z*(1-Z)\n",
        "        dZ = np.matmul(upstream_g, local_g)\n",
        "        return dZ\n",
        "\n",
        "class Softmax():\n",
        "    def forward(self, M):\n",
        "        self.Z = np.exp(M)/np.sum(np.exp(M))\n",
        "        return self.Z\n",
        "    def backward(self, upstream_g):\n",
        "        Z = self.Z\n",
        "        local_g = np.zeros_like(Z)\n",
        "        for i in range(len(Z)):\n",
        "            for j in range(len(Z)):\n",
        "                indicator = 1 if i==j else 0\n",
        "                local_g[i] = Z[i]*(indicator-Z[i]) \n",
        "        dM = np.dot(local_g,upstream_g)\n",
        "        return dM\n",
        "\n",
        "class CategoricalCrossEntropy():\n",
        "    def forward(self, y, y_hat):\n",
        "        self.y_hat = y_hat\n",
        "        self.y = y\n",
        "        L = np.zeros_like(y)\n",
        "        for i in range(len(y)): # one-hot encoding -- labels represented as 2D matrix\n",
        "            for j in range(len(y[i])):\n",
        "                if y[i][j]==1:\n",
        "                    L[i][j] = np.log(y_hat[i][j])\n",
        "        return L\n",
        "    def backward(self): #no upstream_gradient -- last step\n",
        "        y_hat = self.y_hat\n",
        "        y     = self.y\n",
        "        dL = np.zeros_like(y)\n",
        "        for i in range(len(y)):\n",
        "            for j in range(len(y[i])):\n",
        "                if y[i][j] ==1:\n",
        "                    dL[i][j] = -y[i][j]/y_hat[i][j] + (1-y[i][j])/(1-y_hat[i][j])\n",
        "        return dL\n",
        "\n",
        "def OneHotAccuracy(y_hat, y):\n",
        "    assert y_hat.shape == y.shape\n",
        "    y_hat = np.argmax(y_hat,axis=1)\n",
        "    y     = np.argmax(y,axis=1)\n",
        "    agreed = sum([1 for i in range(len(y)) if y[i] == y_hat[i]])\n",
        "    total = len(y)\n",
        "    return agreed/total\n",
        "\n",
        "def SGD(parameter, gradient, learning_rate, decay_factor):\n",
        "    parameter = (parameter - learning_rate*gradient)*decay_factor\n",
        "    return parameter\n",
        "\n",
        "def split_into_batches(M, batch_size):\n",
        "    start = 0\n",
        "    batches = []\n",
        "    while start < M.shape[0]:\n",
        "        end = start + batch_size\n",
        "        batch = M[start:end]\n",
        "        batches.append(batch)\n",
        "        start = end\n",
        "    if len(M[start:]) > 0:\n",
        "        batches.append(M[start:])\n",
        "    return batches"
      ],
      "metadata": {
        "id": "5cZXDfMQamiV"
      },
      "execution_count": null,
      "outputs": []
    },
    {
      "cell_type": "code",
      "source": [
        "class Computation_Graph():\n",
        "    def __init__(self): \n",
        "\n",
        "        # first layer\n",
        "        self.mult_L1 = Multiply()\n",
        "        self.add__L1 = Add()\n",
        "        self.sig__L1 = Sigmoid()\n",
        "\n",
        "        # second layer:\n",
        "        self.mult_L2 = Multiply()\n",
        "        self.add__L2 = Add()\n",
        "        self.sig__L2 = Sigmoid()\n",
        "\n",
        "        # third layer:\n",
        "        self.mult_L3 = Multiply()\n",
        "        self.add__L3 = Add()\n",
        "        self.softmax = Softmax()\n",
        "\n",
        "        # loss:\n",
        "        self.loss   = CategoricalCrossEntropy()\n",
        "\n",
        "\n",
        "    def forward(self,\n",
        "                X, \n",
        "                Y,\n",
        "                n_units_L1 = 8,\n",
        "                n_units_L2 = 8,\n",
        "                W_L1 = None,\n",
        "                W_L2 = None,\n",
        "                W_L3 = None):\n",
        "        \n",
        "        self.X = X\n",
        "        self.Y = Y\n",
        "\n",
        "        if W_L1 == None and W_L2 == None and W_L3 == None:\n",
        "            W_L1 = np.random.rand(X.shape[1]+1, n_units_L1)*0.01\n",
        "            W_L2 = np.random.rand(n_units_L1+1, n_units_L2)*0.01\n",
        "            W_L3 = np.random.rand(n_units_L2+1, 3)*0.01\n",
        "\n",
        "        W_L1 = self.W_L1 = W_L1[1:,:]\n",
        "        b_L1 = self.b_L1 = W_L1[0,:]\n",
        "        ####\n",
        "        W_L2 = self.W_L2 = W_L2[1:,:]\n",
        "        b_L2 = self.b_L2 = W_L2[0,:]\n",
        "        ####\n",
        "        W_L3 = self.W_L3 = W_L3[1:,:]\n",
        "        b_L3 = self.b_L3 = W_L3[0,:]\n",
        "\n",
        "        print('\\n\\n**Forward**\\n\\n')\n",
        "\n",
        "        print('X.shape:        ',X.shape)\n",
        "        print('Y.shape:        ',Y.shape,'\\n')\n",
        "        \n",
        "        # layer 1\n",
        "        print('\\n*Layer 1*\\n')\n",
        "        XW1         = self.mult_L1.forward(X, W_L1)\n",
        "        plus_b1     = self.add__L1.forward(XW1, b_L1)\n",
        "        Z_1         = self.sig__L1.forward(plus_b1)\n",
        "        print('W_L1.shape:     ',W_L1.shape)\n",
        "        print('b_L1.shape:     ',b_L1.shape,'\\n')\n",
        "        print('XW1.shape:      ',XW1.shape)\n",
        "        print('plus_b1.shape:  ',plus_b1.shape)\n",
        "        print('Z_1.shape:      ',Z_1.shape)\n",
        "\n",
        "        # layer 2\n",
        "        print('\\n*Layer 2*\\n')\n",
        "        W2Z1        = self.mult_L2.forward(Z_1, W_L2)\n",
        "        plus_b2     = self.add__L2.forward(W2Z1, b_L2)\n",
        "        Z_2         = self.sig__L2.forward(plus_b2)\n",
        "        print('W_L2.shape:     ',W_L2.shape)\n",
        "        print('b_L2.shape:     ',b_L2.shape,'\\n')\n",
        "        print('W2Z1.shape:     ',W2Z1.shape)\n",
        "        print('plus_b2.shape:  ',plus_b2.shape)\n",
        "        print('Z_2.shape:      ',Z_2.shape)\n",
        "\n",
        "        # layer 3\n",
        "        print('\\n*Layer 3*\\n')\n",
        "        W3Z2        = self.mult_L3.forward(Z_2,W_L3)\n",
        "        plus_b3     = self.add__L2.forward(W3Z2, b_L3) \n",
        "        self.Y_hat  = self.softmax.forward(W3Z2)\n",
        "        print('W_L3.shape:     ',W_L3.shape)\n",
        "        print('b_L3.shape:     ',b_L3.shape,'\\n')\n",
        "        print('W3Z2.shape:     ',W3Z2.shape)\n",
        "        print('plus_b.shape:   ',plus_b3.shape)\n",
        "        print('Y_hat.shape:    ',self.Y_hat.shape)\n",
        "\n",
        "        # loss\n",
        "        self.Loss = self.loss.forward(self.Y, self.Y_hat)\n",
        "        print('Loss.shape:     ',self.Loss.shape)\n",
        "        return self.Y_hat, self.Loss\n",
        "\n",
        "    def backward(self):\n",
        "        print('\\n\\n**Backward**\\n\\n')\n",
        "        X     = self.X\n",
        "        Y     = self.Y\n",
        "        Y_hat = self.Y_hat\n",
        "        W_L1  = self.W_L1\n",
        "        W_L2  = self.W_L2\n",
        "        W_L3  = self.W_L3\n",
        "\n",
        "        # d_loss\n",
        "        d_yhat = self.loss.backward()\n",
        "        print('d_yhat.shape:       ', d_yhat.shape)\n",
        "\n",
        "        # layer 3\n",
        "        d_ZW3_plus_b   = self.softmax.backward(d_yhat)\n",
        "        [d_ZW3, d_b3]  = self.add__L3.backward(d_ZW3_plus_b)\n",
        "        [d_Z2,  d_W3]  = self.mult_L3.backward(d_ZW3)\n",
        "        print('d_ZW3_plus_b.shape: ',self.d_Z3_plus_b.shape)\n",
        "        print('d_W3.shape:         ',self.d_W3.shape)\n",
        "        print('d_Z2.shape:         ',self.d_Z2.shape)\n",
        "\n",
        "        # layer 2\n",
        "        d_ZW2_plus_b   = self.sig__L2.backward(d_Z2)\n",
        "        [d_ZW2, d_b2]  = self.add__L2.backward(d_ZW2_plus_b)\n",
        "        [d_Z1,   d_W2] = self.mult_L2.backward(d_ZW2)\n",
        "        print('d_ZW2_plus_b.shape: ',self.d_ZW2_plus_b.shape)\n",
        "        print('d_W2.shape:         ',self.dW2.shape)\n",
        "        print('d_Z1.shape:         ',self.d_Z1.shape)\n",
        "\n",
        "        # layer 1\n",
        "        d_ZW1_plus_b  = self.sig__L1.backward(d_Z1)\n",
        "        [d_XW1, d_b1] = self.add__L1.backward(d_ZW1_plus_b)\n",
        "        [d_X,   d_W1] = self.mult_L1.backward(d_XW1)\n",
        "        print('d_ZW1_plus_b.shape: ',self.d_sig_Z1.shape)\n",
        "        print('d_W1.shape:         ',self.d_W1.shape)\n",
        "        print('d_X.shape:          ',self.d_X.shape)\n",
        "\n",
        "        return d_W1, d_b1, d_W2, d_b2, d_W3, d_b3\n",
        "\n",
        "    def train(self, X_train, y_train, lr, epochs, decay_factor, batch_size):\n",
        "        train_losses = []\n",
        "        train_accs = []\n",
        "\n",
        "        X_batches = split_into_batches(X_train, batch_size)\n",
        "        y_batches = split_into_batches(y_train, batch_size)\n",
        "\n",
        "        for e in range(epochs):\n",
        "            epoch_train_losses = []\n",
        "            epoch_train_accs = []\n",
        "            for (X_batch, y_batch) in zip(X_batches, y_batches):\n",
        "                y_hat, train_loss = self.forward(X_batch, y_batch)\n",
        "                train_loss  = tensorflow.reduce_mean(train_loss).numpy()\n",
        "                train_acc   = OneHotAccuracy(y_batch, y_hat)\n",
        "                epoch_train_losses.append(train_loss)\n",
        "                epoch_train_accs.append(train_acc)\n",
        "\n",
        "                d_W1, d_b1, d_W2, d_b2, d_W3, d_b3 = self.backward()\n",
        "                self.W_L1 = SGD(self.W_L1, d_W1, lr, decay_factor)\n",
        "                self.b_L1 = SGD(self.b_L1, d_b1, lr, decay_factor)\n",
        "                self.W_L2 = SGD(self.W_L2, d_W2, lr, decay_factor)\n",
        "                self.b_L2 = SGD(self.b_L2, d_b2, lr, decay_factor)\n",
        "                self.W_L3 = SGD(self.W_L3, d_W3, lr, decay_factor)\n",
        "                self.b_L3 = SGD(self.b_L3, d_W3, lr, decay_factor)\n",
        "            epoch_train_loss = tensorflow.reduce_mean(epoch_train_losses).numpy()\n",
        "            epoch_train_acc = tensorflow.reduce_mean(epoch_train_accs).numpy()\n",
        "            train_losses.append(epoch_train_loss)\n",
        "            train_accs.append(epoch_train_acc)\n",
        "\n",
        "        return train_losses, train_accs\n",
        "\n",
        "    def test(self, X_test, y_test):\n",
        "        predictions, test_loss  = self.forward(X_test, y_test)\n",
        "        test_acc = OneHotAccuracy(y_test, predictions)\n",
        "        return test_loss, test_acc"
      ],
      "metadata": {
        "id": "n3F2O_XZusOx"
      },
      "execution_count": null,
      "outputs": []
    },
    {
      "cell_type": "code",
      "source": [
        "this_cg = Computation_Graph()\n",
        "y_hat, loss = this_cg.forward(X_trn_wine, y_trn_wine)"
      ],
      "metadata": {
        "colab": {
          "base_uri": "https://localhost:8080/"
        },
        "id": "PC5CScfA0Tq9",
        "outputId": "2bfdd8a1-8dd2-4fe3-d3b2-28587756b364"
      },
      "execution_count": null,
      "outputs": [
        {
          "output_type": "stream",
          "name": "stdout",
          "text": [
            "\n",
            "\n",
            "**Forward**\n",
            "\n",
            "\n",
            "X.shape:         (595, 11)\n",
            "Y.shape:         (595, 3) \n",
            "\n",
            "\n",
            "*Layer 1*\n",
            "\n",
            "W_L1.shape:      (11, 8)\n",
            "b_L1.shape:      (8,) \n",
            "\n",
            "XW1.shape:       (595, 8)\n",
            "plus_b1.shape:   (595, 8)\n",
            "Z_1.shape:       (595, 8)\n",
            "\n",
            "*Layer 2*\n",
            "\n",
            "W_L2.shape:      (8, 8)\n",
            "b_L2.shape:      (8,) \n",
            "\n",
            "W2Z1.shape:      (595, 8)\n",
            "plus_b2.shape:   (595, 8)\n",
            "Z_2.shape:       (595, 8)\n",
            "\n",
            "*Layer 3*\n",
            "\n",
            "W_L3.shape:      (8, 3)\n",
            "b_L3.shape:      (3,) \n",
            "\n",
            "W3Z2.shape:      (595, 3)\n",
            "plus_b.shape:    (595, 3)\n",
            "Y_hat.shape:     (595, 3)\n",
            "Loss.shape:      (595, 3)\n"
          ]
        }
      ]
    },
    {
      "cell_type": "code",
      "source": [
        "y_hat"
      ],
      "metadata": {
        "colab": {
          "base_uri": "https://localhost:8080/"
        },
        "id": "n_Fqs7RslSwZ",
        "outputId": "bcdddc91-4556-4997-8743-b5bb9ea3b63f"
      },
      "execution_count": null,
      "outputs": [
        {
          "output_type": "execute_result",
          "data": {
            "text/plain": [
              "array([[0.00056447, 0.0005568 , 0.00055941],\n",
              "       [0.00056447, 0.0005568 , 0.00055941],\n",
              "       [0.00056447, 0.0005568 , 0.00055941],\n",
              "       ...,\n",
              "       [0.00056447, 0.0005568 , 0.00055941],\n",
              "       [0.00056447, 0.0005568 , 0.00055941],\n",
              "       [0.00056447, 0.0005568 , 0.00055941]])"
            ]
          },
          "metadata": {},
          "execution_count": 611
        }
      ]
    },
    {
      "cell_type": "code",
      "source": [
        "loss"
      ],
      "metadata": {
        "colab": {
          "base_uri": "https://localhost:8080/"
        },
        "id": "GP-KQV2OleTZ",
        "outputId": "688e905e-490c-4800-ed44-b43da049c8df"
      },
      "execution_count": null,
      "outputs": [
        {
          "output_type": "execute_result",
          "data": {
            "text/plain": [
              "array([[ 0.        ,  0.        , -7.4886287 ],\n",
              "       [ 0.        ,  0.        , -7.48863197],\n",
              "       [ 0.        ,  0.        , -7.48863456],\n",
              "       ...,\n",
              "       [ 0.        ,  0.        , -7.48863404],\n",
              "       [ 0.        ,  0.        , -7.48863364],\n",
              "       [ 0.        ,  0.        , -7.48863467]])"
            ]
          },
          "metadata": {},
          "execution_count": 612
        }
      ]
    },
    {
      "cell_type": "markdown",
      "source": [
        "There is clearly a problem -- the row values in y_hat are not summing to 1. There are a lot of matrix computations involved in this code and it's easy to make mistakes."
      ],
      "metadata": {
        "id": "jsxYTiZilgEQ"
      }
    },
    {
      "cell_type": "code",
      "source": [
        "y_hat, loss = this_cg.backward()"
      ],
      "metadata": {
        "colab": {
          "base_uri": "https://localhost:8080/",
          "height": 461
        },
        "id": "TT73SN8T0UUh",
        "outputId": "b312e128-306e-40a1-fd92-754b9cd74bc6"
      },
      "execution_count": null,
      "outputs": [
        {
          "output_type": "stream",
          "name": "stdout",
          "text": [
            "\n",
            "\n",
            "**Backward**\n",
            "\n",
            "\n",
            "d_yhat.shape:        (595, 3)\n"
          ]
        },
        {
          "output_type": "error",
          "ename": "ValueError",
          "evalue": "ignored",
          "traceback": [
            "\u001b[0;31m---------------------------------------------------------------------------\u001b[0m",
            "\u001b[0;31mValueError\u001b[0m                                Traceback (most recent call last)",
            "\u001b[0;32m<ipython-input-613-114c1f279e19>\u001b[0m in \u001b[0;36m<module>\u001b[0;34m\u001b[0m\n\u001b[0;32m----> 1\u001b[0;31m \u001b[0my_hat\u001b[0m\u001b[0;34m,\u001b[0m \u001b[0mloss\u001b[0m \u001b[0;34m=\u001b[0m \u001b[0mthis_cg\u001b[0m\u001b[0;34m.\u001b[0m\u001b[0mbackward\u001b[0m\u001b[0;34m(\u001b[0m\u001b[0;34m)\u001b[0m\u001b[0;34m\u001b[0m\u001b[0;34m\u001b[0m\u001b[0m\n\u001b[0m",
            "\u001b[0;32m<ipython-input-606-243345cf7ba5>\u001b[0m in \u001b[0;36mbackward\u001b[0;34m(self)\u001b[0m\n\u001b[1;32m    105\u001b[0m \u001b[0;34m\u001b[0m\u001b[0m\n\u001b[1;32m    106\u001b[0m         \u001b[0;31m# layer 3\u001b[0m\u001b[0;34m\u001b[0m\u001b[0;34m\u001b[0m\u001b[0;34m\u001b[0m\u001b[0m\n\u001b[0;32m--> 107\u001b[0;31m         \u001b[0md_ZW3_plus_b\u001b[0m   \u001b[0;34m=\u001b[0m \u001b[0mself\u001b[0m\u001b[0;34m.\u001b[0m\u001b[0msoftmax\u001b[0m\u001b[0;34m.\u001b[0m\u001b[0mbackward\u001b[0m\u001b[0;34m(\u001b[0m\u001b[0md_yhat\u001b[0m\u001b[0;34m)\u001b[0m\u001b[0;34m\u001b[0m\u001b[0;34m\u001b[0m\u001b[0m\n\u001b[0m\u001b[1;32m    108\u001b[0m         \u001b[0;34m[\u001b[0m\u001b[0md_ZW3\u001b[0m\u001b[0;34m,\u001b[0m \u001b[0md_b3\u001b[0m\u001b[0;34m]\u001b[0m  \u001b[0;34m=\u001b[0m \u001b[0mself\u001b[0m\u001b[0;34m.\u001b[0m\u001b[0madd__L3\u001b[0m\u001b[0;34m.\u001b[0m\u001b[0mbackward\u001b[0m\u001b[0;34m(\u001b[0m\u001b[0md_ZW3_plus_b\u001b[0m\u001b[0;34m)\u001b[0m\u001b[0;34m\u001b[0m\u001b[0;34m\u001b[0m\u001b[0m\n\u001b[1;32m    109\u001b[0m         \u001b[0;34m[\u001b[0m\u001b[0md_Z2\u001b[0m\u001b[0;34m,\u001b[0m  \u001b[0md_W3\u001b[0m\u001b[0;34m]\u001b[0m  \u001b[0;34m=\u001b[0m \u001b[0mself\u001b[0m\u001b[0;34m.\u001b[0m\u001b[0mmult_L3\u001b[0m\u001b[0;34m.\u001b[0m\u001b[0mbackward\u001b[0m\u001b[0;34m(\u001b[0m\u001b[0md_ZW3\u001b[0m\u001b[0;34m)\u001b[0m\u001b[0;34m\u001b[0m\u001b[0;34m\u001b[0m\u001b[0m\n",
            "\u001b[0;32m<ipython-input-605-8b89dd843ac7>\u001b[0m in \u001b[0;36mbackward\u001b[0;34m(self, upstream_g)\u001b[0m\n\u001b[1;32m     41\u001b[0m                 \u001b[0mindicator\u001b[0m \u001b[0;34m=\u001b[0m \u001b[0;36m1\u001b[0m \u001b[0;32mif\u001b[0m \u001b[0mi\u001b[0m\u001b[0;34m==\u001b[0m\u001b[0mj\u001b[0m \u001b[0;32melse\u001b[0m \u001b[0;36m0\u001b[0m\u001b[0;34m\u001b[0m\u001b[0;34m\u001b[0m\u001b[0m\n\u001b[1;32m     42\u001b[0m                 \u001b[0mlocal_g\u001b[0m\u001b[0;34m[\u001b[0m\u001b[0mi\u001b[0m\u001b[0;34m]\u001b[0m \u001b[0;34m=\u001b[0m \u001b[0mZ\u001b[0m\u001b[0;34m[\u001b[0m\u001b[0mi\u001b[0m\u001b[0;34m]\u001b[0m\u001b[0;34m*\u001b[0m\u001b[0;34m(\u001b[0m\u001b[0mindicator\u001b[0m\u001b[0;34m-\u001b[0m\u001b[0mZ\u001b[0m\u001b[0;34m[\u001b[0m\u001b[0mi\u001b[0m\u001b[0;34m]\u001b[0m\u001b[0;34m)\u001b[0m\u001b[0;34m\u001b[0m\u001b[0;34m\u001b[0m\u001b[0m\n\u001b[0;32m---> 43\u001b[0;31m         \u001b[0mdM\u001b[0m \u001b[0;34m=\u001b[0m \u001b[0mnp\u001b[0m\u001b[0;34m.\u001b[0m\u001b[0mdot\u001b[0m\u001b[0;34m(\u001b[0m\u001b[0mlocal_g\u001b[0m\u001b[0;34m,\u001b[0m\u001b[0mupstream_g\u001b[0m\u001b[0;34m)\u001b[0m\u001b[0;34m\u001b[0m\u001b[0;34m\u001b[0m\u001b[0m\n\u001b[0m\u001b[1;32m     44\u001b[0m         \u001b[0;32mreturn\u001b[0m \u001b[0mdM\u001b[0m\u001b[0;34m\u001b[0m\u001b[0;34m\u001b[0m\u001b[0m\n\u001b[1;32m     45\u001b[0m \u001b[0;34m\u001b[0m\u001b[0m\n",
            "\u001b[0;32m<__array_function__ internals>\u001b[0m in \u001b[0;36mdot\u001b[0;34m(*args, **kwargs)\u001b[0m\n",
            "\u001b[0;31mValueError\u001b[0m: shapes (595,3) and (595,3) not aligned: 3 (dim 1) != 595 (dim 0)"
          ]
        }
      ]
    },
    {
      "cell_type": "markdown",
      "source": [
        "Another problem -- this time with matrix algebra. Again, a lot of computations involved in this task. Despite these issues, I think the overall logic of my work is correct.\n",
        "\n",
        "Note -- because of these issues, this_cg.train() will produce errors, and this_cg.test() will produce innacurate results."
      ],
      "metadata": {
        "id": "H4BVbNqQl8Cm"
      }
    },
    {
      "cell_type": "code",
      "source": [
        "y_hat_test, test_loss = this_cg.test(X_tst_wine, y_tst_wine)\n",
        "print('\\ny_hat_test:\\n',y_hat_test)\n",
        "print('\\ntest_loss:\\n',test_loss)"
      ],
      "metadata": {
        "colab": {
          "base_uri": "https://localhost:8080/"
        },
        "id": "XZdLH7Bb0UzQ",
        "outputId": "744af83a-f96a-4f9d-9cc0-dc2976c7d03c"
      },
      "execution_count": null,
      "outputs": [
        {
          "output_type": "stream",
          "name": "stdout",
          "text": [
            "\n",
            "\n",
            "**Forward**\n",
            "\n",
            "\n",
            "X.shape:         (149, 11)\n",
            "Y.shape:         (149, 3) \n",
            "\n",
            "\n",
            "*Layer 1*\n",
            "\n",
            "W_L1.shape:      (11, 8)\n",
            "b_L1.shape:      (8,) \n",
            "\n",
            "XW1.shape:       (149, 8)\n",
            "plus_b1.shape:   (149, 8)\n",
            "Z_1.shape:       (149, 8)\n",
            "\n",
            "*Layer 2*\n",
            "\n",
            "W_L2.shape:      (8, 8)\n",
            "b_L2.shape:      (8,) \n",
            "\n",
            "W2Z1.shape:      (149, 8)\n",
            "plus_b2.shape:   (149, 8)\n",
            "Z_2.shape:       (149, 8)\n",
            "\n",
            "*Layer 3*\n",
            "\n",
            "W_L3.shape:      (8, 3)\n",
            "b_L3.shape:      (3,) \n",
            "\n",
            "W3Z2.shape:      (149, 3)\n",
            "plus_b.shape:    (149, 3)\n",
            "Y_hat.shape:     (149, 3)\n",
            "Loss.shape:      (149, 3)\n",
            "\n",
            "y_hat_test:\n",
            " [[ 0.          0.         -6.09808715]\n",
            " [ 0.          0.         -6.09808827]\n",
            " [ 0.         -6.10031433  0.        ]\n",
            " [ 0.         -6.10031691  0.        ]\n",
            " [ 0.          0.         -6.09808193]\n",
            " [ 0.          0.         -6.09808629]\n",
            " [ 0.          0.         -6.09808678]\n",
            " [ 0.          0.         -6.09808784]\n",
            " [ 0.          0.         -6.09808704]\n",
            " [ 0.          0.         -6.09808161]\n",
            " [ 0.          0.         -6.09808637]\n",
            " [ 0.         -6.10031354  0.        ]\n",
            " [ 0.          0.         -6.09808761]\n",
            " [ 0.          0.         -6.09808393]\n",
            " [ 0.          0.         -6.09808259]\n",
            " [ 0.          0.         -6.09808467]\n",
            " [ 0.          0.         -6.09808769]\n",
            " [ 0.         -6.1003152   0.        ]\n",
            " [ 0.          0.         -6.09808161]\n",
            " [ 0.          0.         -6.09808599]\n",
            " [ 0.          0.         -6.09808641]\n",
            " [ 0.         -6.10031561  0.        ]\n",
            " [ 0.          0.         -6.09808551]\n",
            " [ 0.          0.         -6.09808427]\n",
            " [ 0.          0.         -6.09808779]\n",
            " [ 0.          0.         -6.09808738]\n",
            " [ 0.          0.         -6.09808587]\n",
            " [-6.10930834  0.          0.        ]\n",
            " [ 0.          0.         -6.09808717]\n",
            " [ 0.         -6.10030999  0.        ]\n",
            " [ 0.         -6.10031544  0.        ]\n",
            " [ 0.          0.         -6.09808228]\n",
            " [ 0.          0.         -6.09808612]\n",
            " [ 0.          0.         -6.09808776]\n",
            " [ 0.          0.         -6.09808797]\n",
            " [ 0.          0.         -6.09808156]\n",
            " [ 0.          0.         -6.09808666]\n",
            " [ 0.          0.         -6.09808925]\n",
            " [ 0.          0.         -6.09808628]\n",
            " [ 0.          0.         -6.09808353]\n",
            " [ 0.          0.         -6.09808904]\n",
            " [ 0.          0.         -6.09808506]\n",
            " [ 0.          0.         -6.09808807]\n",
            " [ 0.          0.         -6.09808349]\n",
            " [ 0.          0.         -6.09808787]\n",
            " [ 0.          0.         -6.09808662]\n",
            " [ 0.          0.         -6.09808635]\n",
            " [ 0.          0.         -6.09808395]\n",
            " [ 0.          0.         -6.09808662]\n",
            " [ 0.         -6.10031583  0.        ]\n",
            " [ 0.          0.         -6.09808789]\n",
            " [ 0.          0.         -6.09807842]\n",
            " [ 0.          0.         -6.09808667]\n",
            " [ 0.         -6.10030564  0.        ]\n",
            " [ 0.          0.         -6.09808686]\n",
            " [ 0.         -6.10031604  0.        ]\n",
            " [ 0.         -6.10031555  0.        ]\n",
            " [ 0.          0.         -6.0980857 ]\n",
            " [ 0.         -6.1003182   0.        ]\n",
            " [ 0.          0.         -6.09808677]\n",
            " [ 0.          0.         -6.09808567]\n",
            " [ 0.          0.         -6.09808695]\n",
            " [ 0.          0.         -6.09808656]\n",
            " [ 0.          0.         -6.09808673]\n",
            " [ 0.          0.         -6.09808699]\n",
            " [ 0.          0.         -6.09809006]\n",
            " [ 0.          0.         -6.09808533]\n",
            " [ 0.          0.         -6.09808595]\n",
            " [ 0.          0.         -6.09808577]\n",
            " [ 0.          0.         -6.09808607]\n",
            " [ 0.          0.         -6.09808375]\n",
            " [ 0.          0.         -6.09808838]\n",
            " [ 0.          0.         -6.09808586]\n",
            " [-6.10930997  0.          0.        ]\n",
            " [ 0.          0.         -6.09808636]\n",
            " [ 0.          0.         -6.09808722]\n",
            " [ 0.          0.         -6.09808732]\n",
            " [ 0.          0.         -6.09808377]\n",
            " [ 0.          0.         -6.09808688]\n",
            " [ 0.          0.         -6.09808674]\n",
            " [ 0.          0.         -6.09808662]\n",
            " [ 0.          0.         -6.09808732]\n",
            " [ 0.          0.         -6.09808473]\n",
            " [ 0.          0.         -6.09808577]\n",
            " [ 0.          0.         -6.09808743]\n",
            " [ 0.          0.         -6.09808631]\n",
            " [ 0.          0.         -6.09808802]\n",
            " [ 0.          0.         -6.09808608]\n",
            " [ 0.          0.         -6.09808578]\n",
            " [ 0.          0.         -6.09808232]\n",
            " [ 0.         -6.10031437  0.        ]\n",
            " [ 0.          0.         -6.0980875 ]\n",
            " [ 0.          0.         -6.09808795]\n",
            " [ 0.          0.         -6.09807637]\n",
            " [ 0.          0.         -6.09808682]\n",
            " [ 0.          0.         -6.09808558]\n",
            " [ 0.          0.         -6.09808062]\n",
            " [ 0.          0.         -6.09808943]\n",
            " [ 0.          0.         -6.098084  ]\n",
            " [ 0.          0.         -6.09808836]\n",
            " [ 0.          0.         -6.09808855]\n",
            " [ 0.          0.         -6.09808824]\n",
            " [ 0.          0.         -6.09808811]\n",
            " [ 0.          0.         -6.09808534]\n",
            " [ 0.          0.         -6.098087  ]\n",
            " [ 0.          0.         -6.09808929]\n",
            " [ 0.          0.         -6.09808715]\n",
            " [ 0.          0.         -6.09808533]\n",
            " [ 0.          0.         -6.09808644]\n",
            " [ 0.          0.         -6.09808372]\n",
            " [-6.1093085   0.          0.        ]\n",
            " [ 0.          0.         -6.09809052]\n",
            " [ 0.          0.         -6.09808497]\n",
            " [ 0.          0.         -6.09808561]\n",
            " [ 0.          0.         -6.09808695]\n",
            " [ 0.          0.         -6.09808284]\n",
            " [ 0.          0.         -6.09808113]\n",
            " [ 0.          0.         -6.09808698]\n",
            " [ 0.          0.         -6.09808338]\n",
            " [ 0.          0.         -6.09808469]\n",
            " [ 0.          0.         -6.09808787]\n",
            " [ 0.          0.         -6.09808716]\n",
            " [ 0.          0.         -6.09808658]\n",
            " [ 0.          0.         -6.09808581]\n",
            " [ 0.          0.         -6.09808837]\n",
            " [ 0.          0.         -6.09808684]\n",
            " [ 0.          0.         -6.09808806]\n",
            " [ 0.          0.         -6.09808706]\n",
            " [ 0.          0.         -6.09808566]\n",
            " [ 0.          0.         -6.09808478]\n",
            " [ 0.          0.         -6.09808663]\n",
            " [ 0.          0.         -6.0980849 ]\n",
            " [ 0.          0.         -6.09808459]\n",
            " [ 0.          0.         -6.09808564]\n",
            " [ 0.          0.         -6.09808824]\n",
            " [ 0.          0.         -6.09808614]\n",
            " [ 0.          0.         -6.0980868 ]\n",
            " [ 0.          0.         -6.09808732]\n",
            " [ 0.          0.         -6.09808849]\n",
            " [ 0.          0.         -6.09808709]\n",
            " [ 0.          0.         -6.09808561]\n",
            " [ 0.          0.         -6.09808489]\n",
            " [ 0.          0.         -6.09808381]\n",
            " [ 0.          0.         -6.09808735]\n",
            " [ 0.          0.         -6.09808538]\n",
            " [ 0.          0.         -6.09808564]\n",
            " [ 0.         -6.10031471  0.        ]\n",
            " [ 0.          0.         -6.09808554]\n",
            " [ 0.          0.         -6.09808514]]\n",
            "\n",
            "test_loss:\n",
            " 0.8859060402684564\n"
          ]
        }
      ]
    },
    {
      "cell_type": "code",
      "source": [],
      "metadata": {
        "id": "g6te_YqRmZMn"
      },
      "execution_count": null,
      "outputs": []
    }
  ]
}